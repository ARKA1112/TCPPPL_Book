{
 "cells": [
  {
   "cell_type": "code",
   "execution_count": 19,
   "id": "a9b4aafa",
   "metadata": {},
   "outputs": [],
   "source": [
    "#include <iostream>\n",
    "using namespace std;"
   ]
  },
  {
   "cell_type": "markdown",
   "id": "e5fa2a06",
   "metadata": {},
   "source": [
    "Logical Operators"
   ]
  },
  {
   "cell_type": "code",
   "execution_count": null,
   "id": "6d0ee67d",
   "metadata": {},
   "outputs": [],
   "source": [
    "//The logical operators &&, || and ! take operands of arithmetic and pointers\n",
    "//and convert them to bool and return a bool result. The && and || opeartors evaluate\n",
    "//their second argument only if necessary, so they can be used to control\n",
    "//evaluation order\n",
    "\n",
    "\n",
    "while (p && !whitespace(*p)) ++p\n",
    "\n",
    "//Here p is not dereferenced if it is the nullptr"
   ]
  },
  {
   "cell_type": "markdown",
   "id": "745bbef0",
   "metadata": {},
   "source": [
    "Bitwise Logical Operators"
   ]
  },
  {
   "cell_type": "code",
   "execution_count": null,
   "id": "1cd82a68",
   "metadata": {},
   "outputs": [],
   "source": [
    "//The bitwise lofical operators & | ^(XOR) ~(complement) >>(right shift)\n",
    "//and <<(self shift) are applied to objects of integral types \n",
    "\n",
    "//ie char, short, int long, long long and their unsigned counterparts and bool\n",
    "// wchar_t char16_t and char32_t \n",
    "// A plain enum(but not an enum class)\n",
    "\n"
   ]
  },
  {
   "cell_type": "code",
   "execution_count": null,
   "id": "89341039",
   "metadata": {},
   "outputs": [],
   "source": [
    "//Bitwise logical operations can be used to extract bit fields from a word.\n",
    "//One culd extract the middel 16 bits of a 32 bit int like this:\n",
    "\n",
    "constexpr unsigned short middle(int a)\n",
    "{\n",
    "    static_assert(sizeof(int)==4,\"unexpected int size\");\n",
    "    static_assert(sizeof(short)==2, \"unexpected short size\");\n",
    "    return (a>>8)&0xFFFF;\n",
    "}"
   ]
  },
  {
   "cell_type": "code",
   "execution_count": null,
   "id": "006bf084",
   "metadata": {},
   "outputs": [],
   "source": [
    "int x  = 0xFF00FF00;\n",
    "short y = middle(x)"
   ]
  },
  {
   "cell_type": "code",
   "execution_count": null,
   "id": "95502619",
   "metadata": {},
   "outputs": [],
   "source": [
    "y"
   ]
  },
  {
   "cell_type": "code",
   "execution_count": null,
   "id": "18d3d694",
   "metadata": {},
   "outputs": [],
   "source": [
    "//Conditional Expressions"
   ]
  },
  {
   "cell_type": "code",
   "execution_count": null,
   "id": "46ca54e5",
   "metadata": {},
   "outputs": [],
   "source": [
    "//Some if statements can conviniently be replaced by conditional expressions\n",
    "\n",
    "if (a<=b)\n",
    "    max = b;\n",
    "else\n",
    "    max = a;\n",
    "\n",
    "//This is more directly expressed like this:\n",
    "max =(a<=b)?b:a;"
   ]
  },
  {
   "cell_type": "code",
   "execution_count": 11,
   "id": "4ac3474a",
   "metadata": {},
   "outputs": [],
   "source": [
    "//Conditional expressions are important that they can be used in constant\n",
    "//expressions\n",
    "//A pair of expressions e1 and e2 can be used as alternatives in a conditional expression,\n",
    "//c//test?e1:e2;"
   ]
  },
  {
   "cell_type": "code",
   "execution_count": 15,
   "id": "6d06ec63",
   "metadata": {},
   "outputs": [],
   "source": [
    "int a = 10;"
   ]
  },
  {
   "cell_type": "code",
   "execution_count": 24,
   "id": "b504976d",
   "metadata": {},
   "outputs": [
    {
     "name": "stderr",
     "output_type": "stream",
     "text": [
      "\u001b[1minput_line_34:3:16: \u001b[0m\u001b[0;1;31merror: \u001b[0m\u001b[1mincompatible operand types ('int' and 'std::runtime_error')\u001b[0m\n",
      "    int i = (p)? *p :static_cast<std::runtime_error>(runtime_error{\"unexpected nullptr\"});\n",
      "\u001b[0;1;32m               ^ ~~  ~~~~~~~~~~~~~~~~~~~~~~~~~~~~~~~~~~~~~~~~~~~~~~~~~~~~~~~~~~~~~~~~~~~~\n",
      "\u001b[0m"
     ]
    },
    {
     "ename": "Interpreter Error",
     "evalue": "",
     "output_type": "error",
     "traceback": [
      "Interpreter Error: "
     ]
    }
   ],
   "source": [
    "void fct(int* p)\n",
    "{\n",
    "    int i = (p)? *p :static_cast<std::runtime_error>(runtime_error{\"unexpected nullptr\"});\n",
    "}"
   ]
  },
  {
   "cell_type": "markdown",
   "id": "0c60551b",
   "metadata": {},
   "source": [
    "Incremetn and Decrement"
   ]
  },
  {
   "cell_type": "code",
   "execution_count": 26,
   "id": "47c71437",
   "metadata": {},
   "outputs": [
    {
     "name": "stderr",
     "output_type": "stream",
     "text": [
      "\u001b[1minput_line_36:9:17: \u001b[0m\u001b[0;1;35mwarning: \u001b[0m\u001b[1musing the result of an assignment as a condition without parentheses [-Wparentheses]\u001b[0m\n",
      "    while (*p++ = *q++);\n",
      "\u001b[0;1;32m           ~~~~~^~~~~~\n",
      "\u001b[0m\u001b[1minput_line_36:9:17: \u001b[0m\u001b[0;1;30mnote: \u001b[0mplace parentheses around the assignment to silence this warning\u001b[0m\n",
      "    while (*p++ = *q++);\n",
      "\u001b[0;1;32m                ^\n",
      "\u001b[0m\u001b[0;32m           (          )\n",
      "\u001b[0m\u001b[1minput_line_36:9:17: \u001b[0m\u001b[0;1;30mnote: \u001b[0muse '==' to turn this assignment into an equality comparison\u001b[0m\n",
      "    while (*p++ = *q++);\n",
      "\u001b[0;1;32m                ^\n",
      "\u001b[0m\u001b[0;32m                ==\n",
      "\u001b[0m"
     ]
    }
   ],
   "source": [
    "//The operator ++ and -- can be used as both prefix and postfix operator\n",
    "//The value of ++x is the new value of x. For example , y = ++x is\n",
    "//equivalent to y=(x=x+1). The value of x++ however is teh old value of x.\n",
    "//For example y = x++ is equivalent to y = (t=x,x=x+1,t), where t is a bariable of th esame type as x.\n",
    "\n",
    "//Like adding an int to a pointer, or substracting it, += and -- on a pointer operate \n",
    "//in terms of elements of the array into which the pointer points;\n",
    "\n",
    "void cpy(char* p, const char* q)\n",
    "{\n",
    "    while (*p++ = *q++);\n",
    "}\n",
    "\n"
   ]
  },
  {
   "cell_type": "code",
   "execution_count": 41,
   "id": "78b3e274",
   "metadata": {},
   "outputs": [],
   "source": [
    "char a = 'L';\n",
    "char* b;\n",
    "const char* c = &a;"
   ]
  },
  {
   "cell_type": "code",
   "execution_count": 42,
   "id": "a2cbb693",
   "metadata": {},
   "outputs": [
    {
     "name": "stderr",
     "output_type": "stream",
     "text": [
      "\u001b[1minput_line_36:9:13: \u001b[0m\u001b[0;1;35mwarning: \u001b[0m\u001b[1mnull passed to a callee that requires a non-null argument [-Wnonnull]\u001b[0m\n",
      "    while (*p++ = *q++);\n",
      "\u001b[0;1;32m            ^~~\n",
      "\u001b[0m"
     ]
    },
    {
     "ename": "Interpreter Exception",
     "evalue": "",
     "output_type": "error",
     "traceback": [
      "Interpreter Exception: "
     ]
    }
   ],
   "source": [
    "cpy(b,c)"
   ]
  },
  {
   "cell_type": "code",
   "execution_count": 27,
   "id": "852b5ef0",
   "metadata": {},
   "outputs": [
    {
     "name": "stderr",
     "output_type": "stream",
     "text": [
      "\u001b[1minput_line_37:3:21: \u001b[0m\u001b[0;1;31merror: \u001b[0m\u001b[1muse of undeclared identifier 'q'\u001b[0m\n",
      "int length = strlen(q);\n",
      "\u001b[0;1;32m                    ^\n",
      "\u001b[0m\u001b[1minput_line_37:5:5: \u001b[0m\u001b[0;1;31merror: \u001b[0m\u001b[1muse of undeclared identifier 'p'\u001b[0m\n",
      "    p[i] = q[i];\n",
      "\u001b[0;1;32m    ^\n",
      "\u001b[0m\u001b[1minput_line_37:5:12: \u001b[0m\u001b[0;1;31merror: \u001b[0m\u001b[1muse of undeclared identifier 'q'\u001b[0m\n",
      "    p[i] = q[i];\n",
      "\u001b[0;1;32m           ^\n",
      "\u001b[0m"
     ]
    },
    {
     "ename": "Interpreter Error",
     "evalue": "",
     "output_type": "error",
     "traceback": [
      "Interpreter Error: "
     ]
    }
   ],
   "source": [
    "//Consider a more traditional way of copying an array of characters\n",
    "\n",
    "int length = strlen(q);\n",
    "for (int i=0; i<=length; i++)\n",
    "    p[i] = q[i];"
   ]
  },
  {
   "cell_type": "code",
   "execution_count": 28,
   "id": "0b9e9ef2",
   "metadata": {},
   "outputs": [
    {
     "name": "stderr",
     "output_type": "stream",
     "text": [
      "\u001b[1minput_line_38:7:10: \u001b[0m\u001b[0;1;31merror: \u001b[0m\u001b[1muse of undeclared identifier 'q'\u001b[0m\n",
      "for(i=0; q[i]!=0;i++)\n",
      "\u001b[0;1;32m         ^\n",
      "\u001b[0m\u001b[1minput_line_38:8:5: \u001b[0m\u001b[0;1;31merror: \u001b[0m\u001b[1muse of undeclared identifier 'p'\u001b[0m\n",
      "    p[i] =q[i];\n",
      "\u001b[0;1;32m    ^\n",
      "\u001b[0m\u001b[1minput_line_38:8:11: \u001b[0m\u001b[0;1;31merror: \u001b[0m\u001b[1muse of undeclared identifier 'q'\u001b[0m\n",
      "    p[i] =q[i];\n",
      "\u001b[0;1;32m          ^\n",
      "\u001b[0m\u001b[1minput_line_38:9:1: \u001b[0m\u001b[0;1;31merror: \u001b[0m\u001b[1muse of undeclared identifier 'p'\u001b[0m\n",
      "p[i] = 0;\n",
      "\u001b[0;1;32m^\n",
      "\u001b[0m"
     ]
    },
    {
     "ename": "Interpreter Error",
     "evalue": "",
     "output_type": "error",
     "traceback": [
      "Interpreter Error: "
     ]
    }
   ],
   "source": [
    "//This is wasterful. The length of a zero terminated string is found by\n",
    "//reading the string looking for the terminating zero\n",
    "//Thus we read teh string twice: once to find its length  and once to copy it.\n",
    "//So we try this instead:\n",
    "\n",
    "int i;\n",
    "for(i=0; q[i]!=0;i++)\n",
    "    p[i] =q[i];\n",
    "p[i] = 0;"
   ]
  },
  {
   "cell_type": "code",
   "execution_count": 29,
   "id": "08a980ad",
   "metadata": {},
   "outputs": [
    {
     "name": "stderr",
     "output_type": "stream",
     "text": [
      "\u001b[1minput_line_39:3:8: \u001b[0m\u001b[0;1;31merror: \u001b[0m\u001b[1muse of undeclared identifier 'q'\u001b[0m\n",
      "while(*q!=0)\n",
      "\u001b[0;1;32m       ^\n",
      "\u001b[0m\u001b[1minput_line_39:5:6: \u001b[0m\u001b[0;1;31merror: \u001b[0m\u001b[1muse of undeclared identifier 'p'\u001b[0m\n",
      "    *p = *q;\n",
      "\u001b[0;1;32m     ^\n",
      "\u001b[0m\u001b[1minput_line_39:5:11: \u001b[0m\u001b[0;1;31merror: \u001b[0m\u001b[1muse of undeclared identifier 'q'\u001b[0m\n",
      "    *p = *q;\n",
      "\u001b[0;1;32m          ^\n",
      "\u001b[0m\u001b[1minput_line_39:6:5: \u001b[0m\u001b[0;1;31merror: \u001b[0m\u001b[1muse of undeclared identifier 'p'\u001b[0m\n",
      "    p++;\n",
      "\u001b[0;1;32m    ^\n",
      "\u001b[0m\u001b[1minput_line_39:7:5: \u001b[0m\u001b[0;1;31merror: \u001b[0m\u001b[1muse of undeclared identifier 'q'\u001b[0m\n",
      "    q++;\n",
      "\u001b[0;1;32m    ^\n",
      "\u001b[0m\u001b[1minput_line_39:9:2: \u001b[0m\u001b[0;1;31merror: \u001b[0m\u001b[1muse of undeclared identifier 'p'\u001b[0m\n",
      "*p = 0;\n",
      "\u001b[0;1;32m ^\n",
      "\u001b[0m"
     ]
    },
    {
     "ename": "Interpreter Error",
     "evalue": "",
     "output_type": "error",
     "traceback": [
      "Interpreter Error: "
     ]
    }
   ],
   "source": [
    "//The variable i used for indexing can be eliminated because p and q are pointer:\n",
    "\n",
    "while(*q!=0)\n",
    "{\n",
    "    *p = *q;\n",
    "    p++;\n",
    "    q++;\n",
    "}\n",
    "*p = 0;"
   ]
  },
  {
   "cell_type": "code",
   "execution_count": 30,
   "id": "372ff840",
   "metadata": {},
   "outputs": [],
   "source": [
    "//Because the post increment operation allows us first to use the value and then to increment it we can rewrite the loop like this:"
   ]
  },
  {
   "cell_type": "code",
   "execution_count": 31,
   "id": "0ffdc70a",
   "metadata": {},
   "outputs": [
    {
     "name": "stderr",
     "output_type": "stream",
     "text": [
      "\u001b[1minput_line_41:2:10: \u001b[0m\u001b[0;1;31merror: \u001b[0m\u001b[1muse of undeclared identifier 'q'\u001b[0m\n",
      " while (*q!=0)\n",
      "\u001b[0;1;32m         ^\n",
      "\u001b[0m\u001b[1minput_line_41:4:6: \u001b[0m\u001b[0;1;31merror: \u001b[0m\u001b[1muse of undeclared identifier 'p'\u001b[0m\n",
      "    *p++ = *q++;\n",
      "\u001b[0;1;32m     ^\n",
      "\u001b[0m\u001b[1minput_line_41:4:13: \u001b[0m\u001b[0;1;31merror: \u001b[0m\u001b[1muse of undeclared identifier 'q'\u001b[0m\n",
      "    *p++ = *q++;\n",
      "\u001b[0;1;32m            ^\n",
      "\u001b[0m\u001b[1minput_line_41:6:2: \u001b[0m\u001b[0;1;31merror: \u001b[0m\u001b[1muse of undeclared identifier 'p'\u001b[0m\n",
      "*p = 0;\n",
      "\u001b[0;1;32m ^\n",
      "\u001b[0m"
     ]
    },
    {
     "ename": "Interpreter Error",
     "evalue": "",
     "output_type": "error",
     "traceback": [
      "Interpreter Error: "
     ]
    }
   ],
   "source": [
    "while (*q!=0)\n",
    "{\n",
    "    *p++ = *q++;\n",
    "}\n",
    "*p = 0;"
   ]
  },
  {
   "cell_type": "code",
   "execution_count": 32,
   "id": "e1116139",
   "metadata": {},
   "outputs": [
    {
     "name": "stderr",
     "output_type": "stream",
     "text": [
      "\u001b[1minput_line_42:3:9: \u001b[0m\u001b[0;1;31merror: \u001b[0m\u001b[1muse of undeclared identifier 'p'\u001b[0m\n",
      "while((*p++ = *q++)!=0){}\n",
      "\u001b[0;1;32m        ^\n",
      "\u001b[0m\u001b[1minput_line_42:3:16: \u001b[0m\u001b[0;1;31merror: \u001b[0m\u001b[1muse of undeclared identifier 'q'\u001b[0m\n",
      "while((*p++ = *q++)!=0){}\n",
      "\u001b[0;1;32m               ^\n",
      "\u001b[0m"
     ]
    },
    {
     "ename": "Interpreter Error",
     "evalue": "",
     "output_type": "error",
     "traceback": [
      "Interpreter Error: "
     ]
    }
   ],
   "source": [
    "//The value of *p++=*q++ is *q\n",
    "\n",
    "while((*p++ = *q++)!=0){}"
   ]
  },
  {
   "cell_type": "code",
   "execution_count": 43,
   "id": "f15f391c",
   "metadata": {},
   "outputs": [],
   "source": [
    "//However the most efficient way of copying a zero terminated character string \n",
    "//is typically the standard C-style string copy function:\n",
    "\n",
    "char* strcpy(char*, const char*)"
   ]
  },
  {
   "cell_type": "markdown",
   "id": "a4e761a8",
   "metadata": {},
   "source": [
    "Free Store"
   ]
  },
  {
   "cell_type": "code",
   "execution_count": 44,
   "id": "fedbc01c",
   "metadata": {},
   "outputs": [
    {
     "name": "stderr",
     "output_type": "stream",
     "text": [
      "\u001b[1minput_line_56:11:5: \u001b[0m\u001b[0;1;31merror: \u001b[0m\u001b[1munknown type name 'Token__value'\u001b[0m\n",
      "    Token__value oper;\n",
      "\u001b[0;1;32m    ^\n",
      "\u001b[0m"
     ]
    },
    {
     "ename": "Interpreter Error",
     "evalue": "",
     "output_type": "error",
     "traceback": [
      "Interpreter Error: "
     ]
    }
   ],
   "source": [
    "//A named object has its lilfetime determied by its scope. However it is often useful to create an object that exists independently of the \n",
    "//scope in which it was created. for example it is common to crate objects that can be used\n",
    "//after returning from the function in which they were created. \n",
    "//The operator new creates such objects and the operator delete can be used to \n",
    "//destroy them.\n",
    "//Objects allocated by new are said to be \"on the free store\"(also \"on the heap\" or \"in dynamic memory\").\n",
    "\n",
    "//Consider how we might write a compiler in the style used for the desk calculator\n",
    "\n",
    "//the syntax analysis functions might build a tree of the expressions\n",
    "// for use by the code generator:\n",
    "\n",
    "struct Enode{\n",
    "    Token__value oper;\n",
    "    Enode* left;\n",
    "    Enode right;\n",
    "    //..\n",
    "}"
   ]
  },
  {
   "cell_type": "code",
   "execution_count": 45,
   "id": "f56bad4a",
   "metadata": {},
   "outputs": [
    {
     "name": "stderr",
     "output_type": "stream",
     "text": [
      "\u001b[1minput_line_57:1:1: \u001b[0m\u001b[0;1;31merror: \u001b[0m\u001b[1munknown type name 'Enode'\u001b[0m\n",
      "Enode* expr(bool get)\n",
      "\u001b[0;1;32m^\n",
      "\u001b[0m\u001b[1minput_line_57:3:5: \u001b[0m\u001b[0;1;31merror: \u001b[0m\u001b[1munknown type name 'Enode'\u001b[0m\n",
      "    Enode* left = term(get);\n",
      "\u001b[0;1;32m    ^\n",
      "\u001b[0m\u001b[1minput_line_57:3:19: \u001b[0m\u001b[0;1;31merror: \u001b[0m\u001b[1muse of undeclared identifier 'term'; did you mean 'tera'?\u001b[0m\n",
      "    Enode* left = term(get);\n",
      "\u001b[0;1;32m                  ^\n",
      "\u001b[0m\u001b[1m/home/susearc/miniconda3/envs/xeus-cling/bin/../lib/gcc/../../x86_64-conda-linux-gnu/include/c++/12.2.0/ratio:576:47: \u001b[0m\u001b[0;1;30mnote: \u001b[0m'tera' declared here\u001b[0m\n",
      "  typedef ratio<            1000000000000, 1> tera;\n",
      "\u001b[0;1;32m                                              ^\n",
      "\u001b[0m\u001b[1minput_line_57:5:17: \u001b[0m\u001b[0;1;31merror: \u001b[0m\u001b[1muse of undeclared identifier 'ts'\u001b[0m\n",
      "        switch (ts.current().kind){\n",
      "\u001b[0;1;32m                ^\n",
      "\u001b[0m\u001b[1minput_line_57:6:18: \u001b[0m\u001b[0;1;31merror: \u001b[0m\u001b[1muse of undeclared identifier 'Kind'\u001b[0m\n",
      "            case Kind::plus:\n",
      "\u001b[0;1;32m                 ^\n",
      "\u001b[0m\u001b[1minput_line_57:7:18: \u001b[0m\u001b[0;1;31merror: \u001b[0m\u001b[1muse of undeclared identifier 'Kind'\u001b[0m\n",
      "            case Kind::minus:\n",
      "\u001b[0;1;32m                 ^\n",
      "\u001b[0m\u001b[1minput_line_57:8:28: \u001b[0m\u001b[0;1;31merror: \u001b[0m\u001b[1munknown type name 'Enode'\u001b[0m\n",
      "                left = new Enode {ts.current().kind, left, term(true)};\n",
      "\u001b[0;1;32m                           ^\n",
      "\u001b[0m"
     ]
    },
    {
     "ename": "Interpreter Error",
     "evalue": "",
     "output_type": "error",
     "traceback": [
      "Interpreter Error: "
     ]
    }
   ],
   "source": [
    "Enode* expr(bool get)\n",
    "{\n",
    "    Enode* left = term(get);\n",
    "    for(;;){\n",
    "        switch (ts.current().kind){\n",
    "            case Kind::plus:\n",
    "            case Kind::minus:\n",
    "                left = new Enode {ts.current().kind, left, term(true)};\n",
    "                break;\n",
    "            default:\n",
    "                return left;\n",
    "        }\n",
    "    }\n",
    "}"
   ]
  },
  {
   "cell_type": "code",
   "execution_count": 46,
   "id": "1930da33",
   "metadata": {},
   "outputs": [
    {
     "name": "stderr",
     "output_type": "stream",
     "text": [
      "\u001b[1minput_line_58:5:18: \u001b[0m\u001b[0;1;31merror: \u001b[0m\u001b[1mexpression is not assignable\u001b[0m\n",
      "int* p = new int = 7;\n",
      "\u001b[0;1;32m         ~~~~~~~ ^\n",
      "\u001b[0m"
     ]
    },
    {
     "ename": "Interpreter Error",
     "evalue": "",
     "output_type": "error",
     "traceback": [
      "Interpreter Error: "
     ]
    }
   ],
   "source": [
    "//I used the {} list notation for specifying arguments.\n",
    "//Alternatively, I could have used the old-style() list notaion to specify an initializer.\n",
    "\n",
    "//HOwever trying the =notaion for initializing an object created using new results in an error;\n",
    "\n",
    "int* p = new int = 7;"
   ]
  },
  {
   "cell_type": "code",
   "execution_count": 47,
   "id": "418128e9",
   "metadata": {},
   "outputs": [],
   "source": [
    "//If a type has a default constructor, we can leave out the initalizer"
   ]
  },
  {
   "cell_type": "code",
   "execution_count": null,
   "id": "65c3c3a2",
   "metadata": {},
   "outputs": [],
   "source": []
  }
 ],
 "metadata": {
  "kernelspec": {
   "display_name": "C++11 [conda env:xeus-cling]",
   "language": "C++11",
   "name": "conda-env-xeus-cling-xcpp11"
  },
  "language_info": {
   "codemirror_mode": "text/x-c++src",
   "file_extension": ".cpp",
   "mimetype": "text/x-c++src",
   "name": "c++",
   "version": "11"
  }
 },
 "nbformat": 4,
 "nbformat_minor": 5
}
