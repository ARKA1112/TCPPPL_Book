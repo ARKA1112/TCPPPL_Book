{
 "cells": [
  {
   "cell_type": "code",
   "execution_count": 1,
   "id": "a9b4aafa",
   "metadata": {
    "vscode": {
     "languageId": "c++"
    }
   },
   "outputs": [],
   "source": [
    "#include <iostream>\n",
    "#include <complex>\n",
    "using namespace std;"
   ]
  },
  {
   "cell_type": "markdown",
   "id": "e5fa2a06",
   "metadata": {},
   "source": [
    "Logical Operators"
   ]
  },
  {
   "cell_type": "code",
   "execution_count": null,
   "id": "6d0ee67d",
   "metadata": {
    "vscode": {
     "languageId": "c++"
    }
   },
   "outputs": [],
   "source": [
    "//The logical operators &&, || and ! take operands of arithmetic and pointers\n",
    "//and convert them to bool and return a bool result. The && and || opeartors evaluate\n",
    "//their second argument only if necessary, so they can be used to control\n",
    "//evaluation order\n",
    "\n",
    "\n",
    "while (p && !whitespace(*p)) ++p\n",
    "\n",
    "//Here p is not dereferenced if it is the nullptr"
   ]
  },
  {
   "cell_type": "markdown",
   "id": "745bbef0",
   "metadata": {},
   "source": [
    "Bitwise Logical Operators"
   ]
  },
  {
   "cell_type": "code",
   "execution_count": null,
   "id": "1cd82a68",
   "metadata": {
    "vscode": {
     "languageId": "c++"
    }
   },
   "outputs": [],
   "source": [
    "//The bitwise lofical operators & | ^(XOR) ~(complement) >>(right shift)\n",
    "//and <<(self shift) are applied to objects of integral types \n",
    "\n",
    "//ie char, short, int long, long long and their unsigned counterparts and bool\n",
    "// wchar_t char16_t and char32_t \n",
    "// A plain enum(but not an enum class)\n",
    "\n"
   ]
  },
  {
   "cell_type": "code",
   "execution_count": null,
   "id": "89341039",
   "metadata": {
    "vscode": {
     "languageId": "c++"
    }
   },
   "outputs": [],
   "source": [
    "//Bitwise logical operations can be used to extract bit fields from a word.\n",
    "//One culd extract the middel 16 bits of a 32 bit int like this:\n",
    "\n",
    "constexpr unsigned short middle(int a)\n",
    "{\n",
    "    static_assert(sizeof(int)==4,\"unexpected int size\");\n",
    "    static_assert(sizeof(short)==2, \"unexpected short size\");\n",
    "    return (a>>8)&0xFFFF;\n",
    "}"
   ]
  },
  {
   "cell_type": "code",
   "execution_count": null,
   "id": "006bf084",
   "metadata": {
    "vscode": {
     "languageId": "c++"
    }
   },
   "outputs": [],
   "source": [
    "int x  = 0xFF00FF00;\n",
    "short y = middle(x)"
   ]
  },
  {
   "cell_type": "code",
   "execution_count": null,
   "id": "95502619",
   "metadata": {
    "vscode": {
     "languageId": "c++"
    }
   },
   "outputs": [],
   "source": [
    "y"
   ]
  },
  {
   "cell_type": "code",
   "execution_count": null,
   "id": "18d3d694",
   "metadata": {
    "vscode": {
     "languageId": "c++"
    }
   },
   "outputs": [],
   "source": [
    "//Conditional Expressions"
   ]
  },
  {
   "cell_type": "code",
   "execution_count": null,
   "id": "46ca54e5",
   "metadata": {
    "vscode": {
     "languageId": "c++"
    }
   },
   "outputs": [],
   "source": [
    "//Some if statements can conviniently be replaced by conditional expressions\n",
    "\n",
    "if (a<=b)\n",
    "    max = b;\n",
    "else\n",
    "    max = a;\n",
    "\n",
    "//This is more directly expressed like this:\n",
    "max =(a<=b)?b:a;"
   ]
  },
  {
   "cell_type": "code",
   "execution_count": null,
   "id": "4ac3474a",
   "metadata": {
    "vscode": {
     "languageId": "c++"
    }
   },
   "outputs": [],
   "source": [
    "//Conditional expressions are important that they can be used in constant\n",
    "//expressions\n",
    "//A pair of expressions e1 and e2 can be used as alternatives in a conditional expression,\n",
    "//c//test?e1:e2;"
   ]
  },
  {
   "cell_type": "code",
   "execution_count": null,
   "id": "6d06ec63",
   "metadata": {
    "vscode": {
     "languageId": "c++"
    }
   },
   "outputs": [],
   "source": [
    "int a = 10;"
   ]
  },
  {
   "cell_type": "code",
   "execution_count": null,
   "id": "b504976d",
   "metadata": {
    "vscode": {
     "languageId": "c++"
    }
   },
   "outputs": [],
   "source": [
    "void fct(int* p)\n",
    "{\n",
    "    int i = (p)? *p :static_cast<std::runtime_error>(runtime_error{\"unexpected nullptr\"});\n",
    "}"
   ]
  },
  {
   "cell_type": "markdown",
   "id": "0c60551b",
   "metadata": {},
   "source": [
    "Incremetn and Decrement"
   ]
  },
  {
   "cell_type": "code",
   "execution_count": null,
   "id": "47c71437",
   "metadata": {
    "vscode": {
     "languageId": "c++"
    }
   },
   "outputs": [],
   "source": [
    "//The operator ++ and -- can be used as both prefix and postfix operator\n",
    "//The value of ++x is the new value of x. For example , y = ++x is\n",
    "//equivalent to y=(x=x+1). The value of x++ however is teh old value of x.\n",
    "//For example y = x++ is equivalent to y = (t=x,x=x+1,t), where t is a bariable of th esame type as x.\n",
    "\n",
    "//Like adding an int to a pointer, or substracting it, += and -- on a pointer operate \n",
    "//in terms of elements of the array into which the pointer points;\n",
    "\n",
    "void cpy(char* p, const char* q)\n",
    "{\n",
    "    while (*p++ = *q++);\n",
    "}\n",
    "\n"
   ]
  },
  {
   "cell_type": "code",
   "execution_count": null,
   "id": "78b3e274",
   "metadata": {
    "vscode": {
     "languageId": "c++"
    }
   },
   "outputs": [],
   "source": [
    "char a = 'L';\n",
    "char* b;\n",
    "const char* c = &a;"
   ]
  },
  {
   "cell_type": "code",
   "execution_count": null,
   "id": "a2cbb693",
   "metadata": {
    "vscode": {
     "languageId": "c++"
    }
   },
   "outputs": [],
   "source": [
    "cpy(b,c)"
   ]
  },
  {
   "cell_type": "code",
   "execution_count": null,
   "id": "852b5ef0",
   "metadata": {
    "vscode": {
     "languageId": "c++"
    }
   },
   "outputs": [],
   "source": [
    "//Consider a more traditional way of copying an array of characters\n",
    "\n",
    "int length = strlen(q);\n",
    "for (int i=0; i<=length; i++)\n",
    "    p[i] = q[i];"
   ]
  },
  {
   "cell_type": "code",
   "execution_count": null,
   "id": "0b9e9ef2",
   "metadata": {
    "vscode": {
     "languageId": "c++"
    }
   },
   "outputs": [],
   "source": [
    "//This is wasterful. The length of a zero terminated string is found by\n",
    "//reading the string looking for the terminating zero\n",
    "//Thus we read teh string twice: once to find its length  and once to copy it.\n",
    "//So we try this instead:\n",
    "\n",
    "int i;\n",
    "for(i=0; q[i]!=0;i++)\n",
    "    p[i] =q[i];\n",
    "p[i] = 0;"
   ]
  },
  {
   "cell_type": "code",
   "execution_count": null,
   "id": "08a980ad",
   "metadata": {
    "vscode": {
     "languageId": "c++"
    }
   },
   "outputs": [],
   "source": [
    "//The variable i used for indexing can be eliminated because p and q are pointer:\n",
    "\n",
    "while(*q!=0)\n",
    "{\n",
    "    *p = *q;\n",
    "    p++;\n",
    "    q++;\n",
    "}\n",
    "*p = 0;"
   ]
  },
  {
   "cell_type": "code",
   "execution_count": null,
   "id": "372ff840",
   "metadata": {
    "vscode": {
     "languageId": "c++"
    }
   },
   "outputs": [],
   "source": [
    "//Because the post increment operation allows us first to use the value and then to increment it we can rewrite the loop like this:"
   ]
  },
  {
   "cell_type": "code",
   "execution_count": null,
   "id": "0ffdc70a",
   "metadata": {
    "vscode": {
     "languageId": "c++"
    }
   },
   "outputs": [],
   "source": [
    "while (*q!=0)\n",
    "{\n",
    "    *p++ = *q++;\n",
    "}\n",
    "*p = 0;"
   ]
  },
  {
   "cell_type": "code",
   "execution_count": null,
   "id": "e1116139",
   "metadata": {
    "vscode": {
     "languageId": "c++"
    }
   },
   "outputs": [],
   "source": [
    "//The value of *p++=*q++ is *q\n",
    "\n",
    "while((*p++ = *q++)!=0){}"
   ]
  },
  {
   "cell_type": "code",
   "execution_count": null,
   "id": "f15f391c",
   "metadata": {
    "vscode": {
     "languageId": "c++"
    }
   },
   "outputs": [],
   "source": [
    "//However the most efficient way of copying a zero terminated character string \n",
    "//is typically the standard C-style string copy function:\n",
    "\n",
    "char* strcpy(char*, const char*)"
   ]
  },
  {
   "cell_type": "markdown",
   "id": "a4e761a8",
   "metadata": {},
   "source": [
    "Free Store"
   ]
  },
  {
   "cell_type": "code",
   "execution_count": null,
   "id": "fedbc01c",
   "metadata": {
    "vscode": {
     "languageId": "c++"
    }
   },
   "outputs": [],
   "source": [
    "//A named object has its lilfetime determied by its scope. However it is often useful to create an object that exists independently of the \n",
    "//scope in which it was created. for example it is common to crate objects that can be used\n",
    "//after returning from the function in which they were created. \n",
    "//The operator new creates such objects and the operator delete can be used to \n",
    "//destroy them.\n",
    "//Objects allocated by new are said to be \"on the free store\"(also \"on the heap\" or \"in dynamic memory\").\n",
    "\n",
    "//Consider how we might write a compiler in the style used for the desk calculator\n",
    "\n",
    "//the syntax analysis functions might build a tree of the expressions\n",
    "// for use by the code generator:\n",
    "\n",
    "struct Enode{\n",
    "    Token__value oper;\n",
    "    Enode* left;\n",
    "    Enode right;\n",
    "    //..\n",
    "}"
   ]
  },
  {
   "cell_type": "code",
   "execution_count": null,
   "id": "f56bad4a",
   "metadata": {
    "vscode": {
     "languageId": "c++"
    }
   },
   "outputs": [],
   "source": [
    "Enode* expr(bool get)\n",
    "{\n",
    "    Enode* left = term(get);\n",
    "    for(;;){\n",
    "        switch (ts.current().kind){\n",
    "            case Kind::plus:\n",
    "            case Kind::minus:\n",
    "                left = new Enode {ts.current().kind, left, term(true)};\n",
    "                break;\n",
    "            default:\n",
    "                return left;\n",
    "        }\n",
    "    }\n",
    "}"
   ]
  },
  {
   "cell_type": "code",
   "execution_count": null,
   "id": "1930da33",
   "metadata": {
    "vscode": {
     "languageId": "c++"
    }
   },
   "outputs": [],
   "source": [
    "//I used the {} list notation for specifying arguments.\n",
    "//Alternatively, I could have used the old-style() list notaion to specify an initializer.\n",
    "\n",
    "//HOwever trying the =notaion for initializing an object created using new results in an error;\n",
    "\n",
    "int* p = new int = 7;"
   ]
  },
  {
   "cell_type": "code",
   "execution_count": null,
   "id": "418128e9",
   "metadata": {
    "vscode": {
     "languageId": "c++"
    }
   },
   "outputs": [],
   "source": [
    "//If a type has a default constructor, we can leave out the initalizer"
   ]
  },
  {
   "cell_type": "markdown",
   "id": "e1b82532",
   "metadata": {},
   "source": [
    "Arrays"
   ]
  },
  {
   "cell_type": "code",
   "execution_count": null,
   "id": "6b128636",
   "metadata": {
    "vscode": {
     "languageId": "c++"
    }
   },
   "outputs": [],
   "source": [
    "//Arrays of objects can alos be crated using new"
   ]
  },
  {
   "cell_type": "code",
   "execution_count": null,
   "id": "7539b9f2",
   "metadata": {
    "vscode": {
     "languageId": "c++"
    }
   },
   "outputs": [],
   "source": [
    "char* save_string(const char* p)\n",
    "{\n",
    "    char* s = new char[strlen(p) + 1];\n",
    "    strcpy(s,p); //ccopy from p to s\n",
    "    return s;\n",
    "}"
   ]
  },
  {
   "cell_type": "code",
   "execution_count": null,
   "id": "59b7f9b4",
   "metadata": {
    "vscode": {
     "languageId": "c++"
    }
   },
   "outputs": [],
   "source": [
    "int main(int argc, char* argv[])\n",
    "{\n",
    "    if (argc<2)exit(1);\n",
    "    char* p = save_string(argv[1]);\n",
    "    delete[] p;\n",
    "}"
   ]
  },
  {
   "cell_type": "code",
   "execution_count": null,
   "id": "8cd7b106",
   "metadata": {
    "vscode": {
     "languageId": "c++"
    }
   },
   "outputs": [],
   "source": [
    "//new and delete can be used to create vectors since vectors are also proper objects\n",
    "\n",
    "void f(int n)\n",
    "{\n",
    "    vector<int>* p = new vector<int>(n);\n",
    "    int* q = new int[n]; //array\n",
    "    delete p;\n",
    "    delete[] q;\n",
    "}"
   ]
  },
  {
   "cell_type": "code",
   "execution_count": null,
   "id": "be5f98d4",
   "metadata": {
    "vscode": {
     "languageId": "c++"
    }
   },
   "outputs": [],
   "source": [
    "//However do not use new to create local objects for example:\n",
    "\n",
    "void f1()\n",
    "{\n",
    "    int* p = new int;\n",
    "    //use* p\n",
    "    delete p;\n",
    "}"
   ]
  },
  {
   "cell_type": "markdown",
   "id": "c33fbf93",
   "metadata": {},
   "source": [
    "Getting Memory Space"
   ]
  },
  {
   "cell_type": "code",
   "execution_count": null,
   "id": "a6f9dce8",
   "metadata": {
    "vscode": {
     "languageId": "c++"
    }
   },
   "outputs": [],
   "source": [
    "//The free store operators are new, delete, new[] and delete[]\n",
    "\n",
    "void* operator new(size_t);\n",
    "void operator delete(void* p);"
   ]
  },
  {
   "cell_type": "markdown",
   "id": "583da3e4",
   "metadata": {},
   "source": [
    "Overloading"
   ]
  },
  {
   "cell_type": "code",
   "execution_count": null,
   "id": "57794236",
   "metadata": {
    "vscode": {
     "languageId": "c++"
    }
   },
   "outputs": [],
   "source": [
    "//What happend when new cna find no store to callocate? by default the allocator throws a standard\n",
    "//library bad_alloc exception for example:\n",
    "\n",
    "void f()\n",
    "{\n",
    "    vector<char>v;\n",
    "    try{\n",
    "        for(;;){\n",
    "            char* p = new char[10000];\n",
    "            v.push_back(p);\n",
    "            p[0] = 'x';\n",
    "        }\n",
    "    }\n",
    "    catch(bad_alloc){\n",
    "        cerr<<\"Memory exhausted!\\n\";\n",
    "    }\n",
    "}"
   ]
  },
  {
   "cell_type": "markdown",
   "id": "dcf57683",
   "metadata": {},
   "source": [
    "Lists "
   ]
  },
  {
   "cell_type": "code",
   "execution_count": null,
   "id": "804b7fc4",
   "metadata": {
    "vscode": {
     "languageId": "c++"
    }
   },
   "outputs": [],
   "source": [
    "struct S {int a,b;};\n",
    "struct SS {double a,b;};\n"
   ]
  },
  {
   "cell_type": "code",
   "execution_count": null,
   "id": "9a9ace38",
   "metadata": {
    "vscode": {
     "languageId": "c++"
    }
   },
   "outputs": [],
   "source": [
    "\n",
    "void f(S); ///takes S\n",
    "void g(S);\n",
    "void g(SS); //overloading g\n"
   ]
  },
  {
   "cell_type": "markdown",
   "id": "74b72fa3",
   "metadata": {},
   "source": [
    "Implementation Model"
   ]
  },
  {
   "cell_type": "code",
   "execution_count": null,
   "id": "5fb6c6a9",
   "metadata": {
    "vscode": {
     "languageId": "c++"
    }
   },
   "outputs": [],
   "source": [
    "//COnsider vector<double>v = {1,2,3.14};\n",
    "\n",
    "//The standard library vector has an initializer list constructor\n",
    "//So the initializer list is interpreted as a temporary constructed and used lik this:\n",
    "\n",
    "\n",
    "const double temp[] = {double{1},double{2},3.14};\n",
    "const initializer_list<double>tmp(temp, sizeof(temp)/sizeof(double));\n",
    "vector<double>v(tmp):"
   ]
  },
  {
   "cell_type": "markdown",
   "id": "8e3585c3",
   "metadata": {},
   "source": [
    "Lists"
   ]
  },
  {
   "cell_type": "code",
   "execution_count": null,
   "id": "6447606f",
   "metadata": {
    "vscode": {
     "languageId": "c++"
    }
   },
   "outputs": [],
   "source": [
    "//..."
   ]
  },
  {
   "cell_type": "markdown",
   "id": "e17b7d6f",
   "metadata": {},
   "source": [
    "Qualified Lists"
   ]
  },
  {
   "cell_type": "code",
   "execution_count": null,
   "id": "f4273d5d",
   "metadata": {
    "vscode": {
     "languageId": "c++"
    }
   },
   "outputs": [],
   "source": [
    "//T x{v}; If you can do this then\n",
    "\n",
    "//You can also do this\n",
    "\n",
    "//T{v} or new T{v}. Using the new places the object on the free store \n",
    "//and returns a pointer to it, whereas plain T{v} makes a temporary object\n",
    "//in the local scope\n",
    "\n",
    "struct S{int a,b;};\n",
    "\n",
    "void f()\n",
    "{\n",
    "    S v{7,8};       //direcet initialization fo a variable\n",
    "    v = S{7,8};     //assign using qualified list\n",
    "    S* p = new S{7,8};\n",
    "}"
   ]
  },
  {
   "cell_type": "code",
   "execution_count": null,
   "id": "fdf5c2a5",
   "metadata": {
    "vscode": {
     "languageId": "c++"
    }
   },
   "outputs": [],
   "source": [
    "template<class T>\n",
    "    T square(T x)\n",
    "{\n",
    "    return x*x;\n",
    "}\n",
    "\n",
    "void f(int i)\n",
    "{\n",
    "    double d = square(double{i});\n",
    "    complex<double> z  = square(complex<double>{i});\n",
    "}"
   ]
  },
  {
   "cell_type": "code",
   "execution_count": null,
   "id": "c4929eab",
   "metadata": {
    "vscode": {
     "languageId": "c++"
    }
   },
   "outputs": [],
   "source": [
    "int high_value(initializer_list<int>val)\n",
    "{\n",
    "    int high = numeric_traits<int>lowest();\n",
    "}"
   ]
  },
  {
   "cell_type": "markdown",
   "id": "1b3fb968",
   "metadata": {},
   "source": [
    "Lambda Expressions"
   ]
  },
  {
   "cell_type": "code",
   "execution_count": null,
   "id": "b5750e9d",
   "metadata": {
    "vscode": {
     "languageId": "c++"
    }
   },
   "outputs": [],
   "source": [
    "void print_module(const vector<int>& v, ostream& os, int m)\n",
    "    //\n",
    "{\n",
    "    for_each(begin(v),end(v),\n",
    "        [&os,m](int x){if (x%m==0) os<<x<<'\\n';}\n",
    "             );\n",
    "}"
   ]
  },
  {
   "cell_type": "code",
   "execution_count": null,
   "id": "31ea8ba8",
   "metadata": {
    "vscode": {
     "languageId": "c++"
    }
   },
   "outputs": [],
   "source": [
    "//To define what this means, we can define  the equivalent fucniton object:\n",
    "\n",
    "class Modulo_print{\n",
    "    ostream& os;\n",
    "    int m;\n",
    "public:\n",
    "    Modulo_print(ostream s, int mm):os(s), m(mm){} //capture\n",
    "    void operator()(int x)const\n",
    "    {if (x%m==0) os<<x<<'\\n';}\n",
    "};"
   ]
  },
  {
   "cell_type": "code",
   "execution_count": null,
   "id": "0f4ed9fc",
   "metadata": {
    "vscode": {
     "languageId": "c++"
    }
   },
   "outputs": [],
   "source": [
    "void print_modulo(const vector<int>& v, ostream& os, int m)\n",
    "{\n",
    "    for_each(begin(v), end(v), Modulo_print{os,m});\n",
    "}"
   ]
  },
  {
   "cell_type": "code",
   "execution_count": null,
   "id": "899ade2a",
   "metadata": {
    "vscode": {
     "languageId": "c++"
    }
   },
   "outputs": [],
   "source": [
    "//Alternative to Lambdas\n",
    "\n",
    "void print_modulo(const vector<int>& v, ostream os, int m)\n",
    "{\n",
    "    class Modulo_print{\n",
    "        ostream& os; //members to hold the capture list\n",
    "        int m;\n",
    "    public:\n",
    "        Modulo_print(ostream& s, int mm) :os(s), m(mm){} //capture\n",
    "        void operator()(int x)const\n",
    "        {\n",
    "            if (x%m==0) os<<x<<'\\n';}\n",
    "        \n",
    "    };\n",
    "    \n",
    "    for_each(begin(v),end(v),Modulo_print{os,m});\n",
    "}"
   ]
  },
  {
   "cell_type": "code",
   "execution_count": null,
   "id": "3546e8e8",
   "metadata": {
    "vscode": {
     "languageId": "c++"
    }
   },
   "outputs": [],
   "source": [
    "//compared to that lambda is the clear winner\n",
    "//lambda ---- for_each()\n",
    "void print_modulo(const vector<int>& v, ostream& os, int m)\n",
    "{\n",
    "    auto Modulo_print = [&os,m](int x){if (x%m==0) os<<x<<'\\n';};\n",
    "    for_each(begin(v),end(v),Modulo_print);\n",
    "}"
   ]
  },
  {
   "cell_type": "code",
   "execution_count": null,
   "id": "78719d62",
   "metadata": {
    "vscode": {
     "languageId": "c++"
    }
   },
   "outputs": [],
   "source": [
    "//consider\n",
    "void print_modulo(const ector<int>& v, ostream& os, int m)\n",
    "{\n",
    "    for (auto x:v)\n",
    "        if(x%m==0) os<<x<<'\\n';\n",
    "}"
   ]
  },
  {
   "cell_type": "code",
   "execution_count": null,
   "id": "876592ec",
   "metadata": {
    "vscode": {
     "languageId": "c++"
    }
   },
   "outputs": [],
   "source": [
    "//various from s of lambda introducer []\n",
    "\n",
    "//The simplest lambda introducer and does not allow the lambda to refer to \n",
    "//names in the calling environment. THe first character of lambda expression is\n",
    "//walways[.\n",
    "\n",
    "\n",
    "//various forms\n",
    "\n",
    "//[]: empty capture list. This implies that no local names form the surrounding context can be used in the lambda body. For such lambda expressions, data is obtained form arguments or form nonlocal variables.\n",
    "\n",
    "//[&]: implicityly capture by reference. All local names can be used. ALl local variables are accessed by reference.\n",
    "//[=] implicityly capure vy value."
   ]
  },
  {
   "cell_type": "code",
   "execution_count": null,
   "id": "cd4a282a",
   "metadata": {
    "vscode": {
     "languageId": "c++"
    }
   },
   "outputs": [],
   "source": [
    "//capture list cases are used for fine grained control over what names form the call enbviroment are used and how\n",
    "\n",
    "void f(vector<int>& v)\n",
    "{\n",
    "    bool sensitive = true;\n",
    "    sort(v.begin(),v.end()[sensitive](int x, int y){return sensitive ? x<y : abs(x)<abs(y);});\n",
    "}"
   ]
  },
  {
   "cell_type": "code",
   "execution_count": null,
   "id": "2f21886c",
   "metadata": {
    "vscode": {
     "languageId": "c++"
    }
   },
   "outputs": [],
   "source": [
    "template<typename... Var>\n",
    "void algo(int s, Var v)\n",
    "{}"
   ]
  },
  {
   "cell_type": "markdown",
   "id": "3409c9c1",
   "metadata": {},
   "source": [
    "Namespace Names"
   ]
  },
  {
   "cell_type": "code",
   "execution_count": null,
   "id": "5a32a448",
   "metadata": {
    "vscode": {
     "languageId": "c++"
    }
   },
   "outputs": [],
   "source": [
    "template<typename U, typename V>\n",
    "ostream& operator<<(ostream& os, const pair<U,V>& p)\n",
    "{\n",
    "    return os<<'{'<<p.first<<','<<p.second<<'}';\n",
    "    \n",
    "}"
   ]
  },
  {
   "cell_type": "code",
   "execution_count": null,
   "id": "8fc1f618",
   "metadata": {
    "vscode": {
     "languageId": "c++"
    }
   },
   "outputs": [],
   "source": [
    "void print_all(const map<string, int>& m, const string& label)\n",
    "{\n",
    "    cout<<label<<\":\\n{\\n\";\n",
    "    for_each(m.begin(),m.end(),[](const pair<<stirng, int>& p){cout<<p<<'\\n';}\n",
    "            );\n",
    "    cout<<\"}\\n\";\n",
    "}\n",
    "}"
   ]
  },
  {
   "cell_type": "code",
   "execution_count": 19,
   "id": "d1d01d0e",
   "metadata": {
    "vscode": {
     "languageId": "c++"
    }
   },
   "outputs": [
    {
     "name": "stderr",
     "output_type": "stream",
     "text": [
      "In file included from input_line_5:1:\n",
      "In file included from /home/susearc/miniconda3/envs/xeus-cling/include/xeus/xinterpreter.hpp:17:\n",
      "In file included from /home/susearc/miniconda3/envs/xeus-cling/include/xeus/xcomm.hpp:19:\n",
      "In file included from /home/susearc/miniconda3/envs/xeus-cling/include/nlohmann/json.hpp:37:\n",
      "In file included from /home/susearc/miniconda3/envs/xeus-cling/bin/../lib/gcc/../../x86_64-conda-linux-gnu/include/c++/12.2.0/algorithm:61:\n",
      "\u001b[1m/home/susearc/miniconda3/envs/xeus-cling/bin/../lib/gcc/../../x86_64-conda-linux-gnu/include/c++/12.2.0/bits/stl_algo.h:4399:11: \u001b[0m\u001b[0;1;31merror: \u001b[0m\u001b[1mcannot assign to return value because function 'operator*' returns a const value\u001b[0m\n",
      "        *__first = __gen();\n",
      "\u001b[0;1;32m        ~~~~~~~~ ^\n",
      "\u001b[0m\u001b[1minput_line_26:5:10: \u001b[0m\u001b[0;1;30mnote: \u001b[0min instantiation of function template specialization 'std::generate<__gnu_cxx::__normal_iterator<const int *, std::vector<int, std::allocator<int> > >, (lambda at input_line_26:5:37)>' requested here\u001b[0m\n",
      "    std::generate(v.begin(),v.end(),[count]()mutable{return --count;});\n",
      "\u001b[0;1;32m         ^\n",
      "\u001b[0m\u001b[1m/home/susearc/miniconda3/envs/xeus-cling/bin/../lib/gcc/../../x86_64-conda-linux-gnu/include/c++/12.2.0/bits/stl_iterator.h:1094:7: \u001b[0m\u001b[0;1;30mnote: \u001b[0mfunction 'operator*' which returns const-qualified type '__gnu_cxx::__normal_iterator<const int *, std::vector<int, std::allocator<int> > >::reference' (aka 'const int &') declared here\u001b[0m\n",
      "      reference\n",
      "\u001b[0;1;32m      ^~~~~~~~~\n",
      "\u001b[0m"
     ]
    },
    {
     "ename": "Interpreter Error",
     "evalue": "",
     "output_type": "error",
     "traceback": [
      "Interpreter Error: "
     ]
    }
   ],
   "source": [
    "//mutable Lambdas\n",
    "\n",
    "void algo(vector<int>& v)\n",
    "{\n",
    "    int count = v.size();\n",
    "    std::generate(v.begin(),v.end(),[count]()mutable{return --count;});\n",
    "}"
   ]
  },
  {
   "cell_type": "markdown",
   "id": "9070460a",
   "metadata": {},
   "source": [
    "Call and Return \n"
   ]
  },
  {
   "cell_type": "markdown",
   "id": "f0ab52f0",
   "metadata": {},
   "source": [
    "Explicit TYpe conversion"
   ]
  },
  {
   "cell_type": "code",
   "execution_count": 2,
   "id": "91946f1b",
   "metadata": {
    "vscode": {
     "languageId": "c++"
    }
   },
   "outputs": [],
   "source": [
    " template<class Target, class Source>\n",
    " Target narrow_cast(Source v)\n",
    " {\n",
    "     auto r = static_cast<Target>(v);\n",
    "     if (static_cast<Source>(r)!=v)\n",
    "         throw runtime_error(\"narrow_cast<>()failed\");\n",
    "     return r;\n",
    " }"
   ]
  },
  {
   "cell_type": "code",
   "execution_count": 2,
   "id": "26e66cd0",
   "metadata": {
    "vscode": {
     "languageId": "c++"
    }
   },
   "outputs": [],
   "source": [
    "//Construction\n",
    "\n",
    "auto d1 = double{2};\n",
    "double d2 {double{2}/4};\n",
    "auto d3 = int{3};"
   ]
  },
  {
   "cell_type": "code",
   "execution_count": 11,
   "id": "2bc1fe39",
   "metadata": {
    "vscode": {
     "languageId": "c++"
    }
   },
   "outputs": [],
   "source": [
    "# include <iostream>\n",
    "using namespace std;"
   ]
  },
  {
   "cell_type": "code",
   "execution_count": 24,
   "id": "b487972e",
   "metadata": {
    "vscode": {
     "languageId": "c++"
    }
   },
   "outputs": [
    {
     "data": {
      "text/plain": [
       "3"
      ]
     },
     "execution_count": 24,
     "metadata": {},
     "output_type": "execute_result"
    }
   ],
   "source": [
    "d3"
   ]
  },
  {
   "cell_type": "code",
   "execution_count": 3,
   "id": "bd2810f9",
   "metadata": {
    "vscode": {
     "languageId": "c++"
    }
   },
   "outputs": [
    {
     "data": {
      "text/plain": [
       "3.0000000"
      ]
     },
     "execution_count": 3,
     "metadata": {},
     "output_type": "execute_result"
    }
   ],
   "source": [
    "auto d4 = double(d3);\n",
    "d4"
   ]
  },
  {
   "cell_type": "code",
   "execution_count": 6,
   "id": "d55d8306",
   "metadata": {
    "vscode": {
     "languageId": "c++"
    }
   },
   "outputs": [
    {
     "name": "stderr",
     "output_type": "stream",
     "text": [
      "IncrementalExecutor::executeFunction: symbol '_ZN11__cling_N571fEd' unresolved while linking [cling interface function]!\n",
      "You are probably missing the definition of __cling_N57::f(double)\n",
      "Maybe you need to load the corresponding shared library?\n"
     ]
    },
    {
     "ename": "Interpreter Error",
     "evalue": "",
     "output_type": "error",
     "traceback": [
      "Interpreter Error: "
     ]
    }
   ],
   "source": [
    "void f(int);\n",
    "void f(double);\n",
    "double i = 3;\n",
    "f(i);"
   ]
  },
  {
   "cell_type": "code",
   "execution_count": 7,
   "id": "9ba195ea",
   "metadata": {
    "vscode": {
     "languageId": "c++"
    }
   },
   "outputs": [],
   "source": [
    "//refer pg300.cpp\n"
   ]
  },
  {
   "cell_type": "code",
   "execution_count": 15,
   "id": "40808d52",
   "metadata": {
    "vscode": {
     "languageId": "c++"
    }
   },
   "outputs": [],
   "source": [
    "int x = numeric_limits<int>::max();\n",
    "double d = x;\n",
    "int y = x;"
   ]
  },
  {
   "cell_type": "code",
   "execution_count": 18,
   "id": "55155997",
   "metadata": {
    "vscode": {
     "languageId": "c++"
    }
   },
   "outputs": [
    {
     "data": {
      "text/plain": [
       "4"
      ]
     },
     "execution_count": 18,
     "metadata": {},
     "output_type": "execute_result"
    }
   ],
   "source": [
    "sizeof(y)"
   ]
  },
  {
   "cell_type": "code",
   "execution_count": 19,
   "id": "637675f7",
   "metadata": {
    "vscode": {
     "languageId": "c++"
    }
   },
   "outputs": [
    {
     "name": "stderr",
     "output_type": "stream",
     "text": [
      "input_line_32:2:2: error: static_assert failed due to requirement 'sizeof (x) == sizeof (d)' \"unexpected sizes\"\n",
      " static_assert(sizeof(x)==sizeof(d),\"unexpected sizes\")\n",
      " ^             ~~~~~~~~~~~~~~~~~~~~\n"
     ]
    },
    {
     "ename": "Interpreter Error",
     "evalue": "",
     "output_type": "error",
     "traceback": [
      "Interpreter Error: "
     ]
    }
   ],
   "source": [
    "static_assert(sizeof(x)==sizeof(d),\"unexpected sizes\")"
   ]
  },
  {
   "cell_type": "code",
   "execution_count": null,
   "id": "aee22553",
   "metadata": {
    "vscode": {
     "languageId": "c++"
    }
   },
   "outputs": [],
   "source": []
  }
 ],
 "metadata": {
  "kernelspec": {
   "display_name": "C++11",
   "language": "C++11",
   "name": "xcpp11"
  },
  "language_info": {
   "codemirror_mode": "text/x-c++src",
   "file_extension": ".cpp",
   "mimetype": "text/x-c++src",
   "name": "C++11",
   "version": "11"
  }
 },
 "nbformat": 4,
 "nbformat_minor": 5
}
