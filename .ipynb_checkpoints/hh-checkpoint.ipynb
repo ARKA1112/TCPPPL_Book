{
 "cells": [
  {
   "cell_type": "code",
   "execution_count": null,
   "metadata": {},
   "outputs": [],
   "source": []
  }
 ],
 "metadata": {
  "kernelspec": {
   "display_name": "Python 3 (ipykernel)",
   "language": "python",
   "name": "python3"
  },
  "language_info": {
   "codemirror_mode": {
    "name": "ipython",
    "version": 3
   },
   "file_extension": ".py",
   "mimetype": "text/x-python",
   "name": "python",
   "nbconvert_exporter": "python",
   "pygments_lexer": "ipython3",
   "version": "3.10.8"
  },
  "vscode": {
   "interpreter": {
    "hash": "e5f8eb8214e884a4640eb2d460d44ff35aab174dffa88967a6a2a903c7f400e1"
   }
  }
 },
 "nbformat": 4,
 "nbformat_minor": 2
}
