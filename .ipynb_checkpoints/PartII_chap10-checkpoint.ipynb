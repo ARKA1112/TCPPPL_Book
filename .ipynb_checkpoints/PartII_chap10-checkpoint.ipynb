{
 "cells": [
  {
   "cell_type": "code",
   "execution_count": 1,
   "id": "1e8c702f",
   "metadata": {},
   "outputs": [],
   "source": [
    "#include<iostream>\n",
    "using namespace std;"
   ]
  },
  {
   "cell_type": "code",
   "execution_count": 2,
   "id": "5828d67e",
   "metadata": {},
   "outputs": [],
   "source": [
    "map<string,double>table"
   ]
  },
  {
   "cell_type": "code",
   "execution_count": 3,
   "id": "e072d573",
   "metadata": {
    "vscode": {
     "languageId": "cpp"
    }
   },
   "outputs": [],
   "source": [
    "//Low level input"
   ]
  },
  {
   "cell_type": "code",
   "execution_count": 6,
   "id": "5254152d",
   "metadata": {},
   "outputs": [],
   "source": [
    "string c = \"\""
   ]
  },
  {
   "cell_type": "markdown",
   "id": "0ed963da",
   "metadata": {},
   "source": [
    "Error Handling"
   ]
  },
  {
   "cell_type": "code",
   "execution_count": 10,
   "id": "8fce92b0",
   "metadata": {},
   "outputs": [
    {
     "name": "stderr",
     "output_type": "stream",
     "text": [
      "\u001b[1minput_line_17:5:1: \u001b[0m\u001b[0;1;31merror: \u001b[0m\u001b[1mfunction definition is not allowed here\u001b[0m\n",
      "{\n",
      "\u001b[0;1;32m^\n",
      "\u001b[0m"
     ]
    },
    {
     "ename": "Interpreter Error",
     "evalue": "",
     "output_type": "error",
     "traceback": [
      "Interpreter Error: "
     ]
    }
   ],
   "source": [
    "//It is always ;important to detect and reprot errors. However for this program , a simple error handling strategy suffice. The rrror() funciton simply conts the erros, writes out an error emssage, and returns\n",
    "\n",
    "int no_of_errors;\n",
    "double error(const string& s)\n",
    "{\n",
    "    no_of_errors++;\n",
    "    cerr<<\"error: \"<<s<<'\\n';\n",
    "    return 1; //indicate success\n",
    "}"
   ]
  },
  {
   "cell_type": "code",
   "execution_count": null,
   "id": "a3352c63",
   "metadata": {},
   "outputs": [],
   "source": []
  }
 ],
 "metadata": {
  "kernelspec": {
   "display_name": "C++11 [conda env:xeus-cling]",
   "language": "C++11",
   "name": "conda-env-xeus-cling-xcpp11"
  },
  "language_info": {
   "codemirror_mode": "text/x-c++src",
   "file_extension": ".cpp",
   "mimetype": "text/x-c++src",
   "name": "c++",
   "version": "11"
  },
  "vscode": {
   "interpreter": {
    "hash": "f1d1fc19b365f9ad1716256121e630045ec3968373de9ab098681291a9c3ca4f"
   }
  }
 },
 "nbformat": 4,
 "nbformat_minor": 5
}
