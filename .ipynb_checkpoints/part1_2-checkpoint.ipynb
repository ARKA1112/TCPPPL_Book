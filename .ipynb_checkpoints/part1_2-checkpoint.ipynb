{
 "cells": [
  {
   "cell_type": "markdown",
   "metadata": {},
   "source": []
  },
  {
   "cell_type": "code",
   "execution_count": 1,
   "metadata": {
    "vscode": {
     "languageId": "cpp"
    }
   },
   "outputs": [],
   "source": [
    "#include <iostream>\n",
    "using namespace std;"
   ]
  },
  {
   "cell_type": "code",
   "execution_count": 2,
   "metadata": {
    "vscode": {
     "languageId": "cpp"
    }
   },
   "outputs": [
    {
     "name": "stdout",
     "output_type": "stream",
     "text": [
      "Hello,World!\n"
     ]
    },
    {
     "data": {
      "text/plain": [
       "0"
      ]
     },
     "execution_count": 2,
     "metadata": {},
     "output_type": "execute_result"
    }
   ],
   "source": [
    "int main()\n",
    "{\n",
    "    std::cout<<\"Hello,World!\\n\";\n",
    "}\n",
    "main()"
   ]
  },
  {
   "cell_type": "code",
   "execution_count": null,
   "metadata": {
    "vscode": {
     "languageId": "python"
    }
   },
   "outputs": [],
   "source": []
  },
  {
   "cell_type": "code",
   "execution_count": 3,
   "metadata": {
    "vscode": {
     "languageId": "python"
    }
   },
   "outputs": [
    {
     "name": "stdout",
     "output_type": "stream",
     "text": [
      "hello"
     ]
    },
    {
     "data": {
      "text/plain": [
       "0"
      ]
     },
     "execution_count": 3,
     "metadata": {},
     "output_type": "execute_result"
    }
   ],
   "source": [
    "double square(double x)\n",
    "{\n",
    "    return x*x;\n",
    "}\n",
    "square(6)\n",
    "\n",
    "#include <iostream>\n",
    "int main()\n",
    "{\n",
    "    std::cout << \"hello\";\n",
    "}\n",
    "main()"
   ]
  },
  {
   "cell_type": "code",
   "execution_count": 4,
   "metadata": {
    "vscode": {
     "languageId": "python"
    }
   },
   "outputs": [],
   "source": [
    "double square(double x)\n",
    "{\n",
    "    return x*x;    \n",
    "}"
   ]
  },
  {
   "cell_type": "code",
   "execution_count": 5,
   "metadata": {
    "vscode": {
     "languageId": "python"
    }
   },
   "outputs": [
    {
     "data": {
      "text/plain": [
       "100.00000"
      ]
     },
     "execution_count": 5,
     "metadata": {},
     "output_type": "execute_result"
    }
   ],
   "source": [
    "square(10)"
   ]
  },
  {
   "cell_type": "code",
   "execution_count": 6,
   "metadata": {
    "vscode": {
     "languageId": "cpp"
    }
   },
   "outputs": [],
   "source": [
    "\n",
    "void print_square(double x)\n",
    "{\n",
    "    cout<<\"square of: \"<< x <<\" is \"<<square(x)<<\"\\n\";\n",
    "}"
   ]
  },
  {
   "cell_type": "code",
   "execution_count": 7,
   "metadata": {
    "vscode": {
     "languageId": "cpp"
    }
   },
   "outputs": [
    {
     "name": "stdout",
     "output_type": "stream",
     "text": [
      "square of: 12 is 144\n"
     ]
    },
    {
     "data": {
      "text/plain": [
       "0"
      ]
     },
     "execution_count": 7,
     "metadata": {},
     "output_type": "execute_result"
    }
   ],
   "source": [
    "int main()\n",
    "{\n",
    "    print_square(12);\n",
    "}\n",
    "main()"
   ]
  },
  {
   "cell_type": "code",
   "execution_count": 8,
   "metadata": {
    "vscode": {
     "languageId": "cpp"
    }
   },
   "outputs": [
    {
     "name": "stdout",
     "output_type": "stream",
     "text": [
      "square of: 12 is 144\n"
     ]
    }
   ],
   "source": [
    "print_square(12)"
   ]
  },
  {
   "cell_type": "code",
   "execution_count": 9,
   "metadata": {
    "vscode": {
     "languageId": "python"
    }
   },
   "outputs": [
    {
     "data": {
      "text/plain": [
       "4"
      ]
     },
     "execution_count": 9,
     "metadata": {},
     "output_type": "execute_result"
    }
   ],
   "source": [
    "sizeof(char),sizeof(int)"
   ]
  },
  {
   "cell_type": "code",
   "execution_count": 10,
   "metadata": {},
   "outputs": [],
   "source": [
    "void some_function()         //void doesnt return a value\n",
    "{\n",
    "    double d =2.2;\n",
    "    int i = 7;\n",
    "    d = d+i; //assignment\n",
    "    i = d+1;\n",
    "}"
   ]
  },
  {
   "cell_type": "code",
   "execution_count": 11,
   "metadata": {},
   "outputs": [],
   "source": [
    "some_function()"
   ]
  },
  {
   "cell_type": "code",
   "execution_count": 12,
   "metadata": {},
   "outputs": [],
   "source": [
    "double d1 = 2.4;\n",
    "double d2{2.3};  //universal basic form of assignment"
   ]
  },
  {
   "cell_type": "code",
   "execution_count": 13,
   "metadata": {},
   "outputs": [
    {
     "data": {
      "text/plain": [
       "2.4000000"
      ]
     },
     "execution_count": 13,
     "metadata": {},
     "output_type": "execute_result"
    }
   ],
   "source": [
    "d1"
   ]
  },
  {
   "cell_type": "code",
   "execution_count": 14,
   "metadata": {},
   "outputs": [],
   "source": [
    "complex<double>z2{d1,d2};"
   ]
  },
  {
   "cell_type": "code",
   "execution_count": 15,
   "metadata": {},
   "outputs": [
    {
     "data": {
      "text/plain": [
       "(2.4,2.3)"
      ]
     },
     "execution_count": 15,
     "metadata": {},
     "output_type": "execute_result"
    }
   ],
   "source": [
    "z2"
   ]
  },
  {
   "cell_type": "code",
   "execution_count": 16,
   "metadata": {},
   "outputs": [
    {
     "data": {
      "text/plain": [
       "{ 1, 2, 3, 4 }"
      ]
     },
     "execution_count": 16,
     "metadata": {},
     "output_type": "execute_result"
    }
   ],
   "source": [
    "vector<int>v = {1,2,3,4};  //curly braces must\n",
    "v"
   ]
  },
  {
   "cell_type": "code",
   "execution_count": 17,
   "metadata": {},
   "outputs": [
    {
     "name": "stderr",
     "output_type": "stream",
     "text": [
      "\u001b[1minput_line_36:2:11: \u001b[0m\u001b[0;1;35mwarning: \u001b[0m\u001b[1mimplicit conversion from 'double' to 'int' changes value from 7.2 to 7 [-Wliteral-conversion]\u001b[0m\n",
      " int i1 = 7.2;\n",
      "\u001b[0;1;32m     ~~   ^~~\n",
      "\u001b[0m\u001b[1minput_line_36:3:9: \u001b[0m\u001b[0;1;31merror: \u001b[0m\u001b[1mtype 'double' cannot be narrowed to 'int' in initializer list [-Wc++11-narrowing]\u001b[0m\n",
      "int i2 {7.2};\n",
      "\u001b[0;1;32m        ^~~\n",
      "\u001b[0m\u001b[1minput_line_36:3:9: \u001b[0m\u001b[0;1;30mnote: \u001b[0minsert an explicit cast to silence this issue\u001b[0m\n",
      "int i2 {7.2};\n",
      "\u001b[0;1;32m        ^~~\n",
      "\u001b[0m\u001b[0;32m        static_cast<int>( )\n",
      "\u001b[0m\u001b[1minput_line_36:3:9: \u001b[0m\u001b[0;1;35mwarning: \u001b[0m\u001b[1mimplicit conversion from 'double' to 'int' changes value from 7.2 to 7 [-Wliteral-conversion]\u001b[0m\n",
      "int i2 {7.2};\n",
      "\u001b[0;1;32m       ~^~~\n",
      "\u001b[0m\u001b[1minput_line_36:4:11: \u001b[0m\u001b[0;1;31merror: \u001b[0m\u001b[1mtype 'double' cannot be narrowed to 'int' in initializer list [-Wc++11-narrowing]\u001b[0m\n",
      "int i3 = {7.2};\n",
      "\u001b[0;1;32m          ^~~\n",
      "\u001b[0m\u001b[1minput_line_36:4:11: \u001b[0m\u001b[0;1;30mnote: \u001b[0minsert an explicit cast to silence this issue\u001b[0m\n",
      "int i3 = {7.2};\n",
      "\u001b[0;1;32m          ^~~\n",
      "\u001b[0m\u001b[0;32m          static_cast<int>( )\n",
      "\u001b[0m\u001b[1minput_line_36:4:11: \u001b[0m\u001b[0;1;35mwarning: \u001b[0m\u001b[1mimplicit conversion from 'double' to 'int' changes value from 7.2 to 7 [-Wliteral-conversion]\u001b[0m\n",
      "int i3 = {7.2};\n",
      "\u001b[0;1;32m         ~^~~\n",
      "\u001b[0m"
     ]
    },
    {
     "ename": "Interpreter Error",
     "evalue": "",
     "output_type": "error",
     "traceback": [
      "Interpreter Error: "
     ]
    }
   ],
   "source": [
    "int i1 = 7.2;\n",
    "int i2 {7.2};\n",
    "int i3 = {7.2};\n",
    "// i1 becomes 7\n",
    "// error: floating-point to integer conversion\n",
    "// error: floating-point to integer conversion (the = is redundant)"
   ]
  },
  {
   "cell_type": "code",
   "execution_count": 18,
   "metadata": {},
   "outputs": [
    {
     "name": "stderr",
     "output_type": "stream",
     "text": [
      "\u001b[1minput_line_37:2:11: \u001b[0m\u001b[0;1;35mwarning: \u001b[0m\u001b[1mimplicit conversion from 'double' to 'int' changes value from 7.2 to 7 [-Wliteral-conversion]\u001b[0m\n",
      " int i1 = 7.2;\n",
      "\u001b[0;1;32m     ~~   ^~~\n",
      "\u001b[0m"
     ]
    }
   ],
   "source": [
    "int i1 = 7.2;"
   ]
  },
  {
   "cell_type": "code",
   "execution_count": 29,
   "metadata": {},
   "outputs": [
    {
     "data": {
      "text/plain": [
       "7"
      ]
     },
     "execution_count": 29,
     "metadata": {},
     "output_type": "execute_result"
    }
   ],
   "source": [
    "i1"
   ]
  },
  {
   "cell_type": "code",
   "execution_count": 30,
   "metadata": {},
   "outputs": [],
   "source": [
    "//If you dont want to explicitly introduce type for values\n",
    "//use auto for that\n",
    "\n",
    "auto b = 7.1;\n",
    "b;"
   ]
  },
  {
   "cell_type": "markdown",
   "metadata": {},
   "source": [
    "#### Constants"
   ]
  },
  {
   "cell_type": "code",
   "execution_count": 31,
   "metadata": {},
   "outputs": [],
   "source": [
    "//const: immutable and cannot be changed also evaluated at runtime\n",
    "//constexpr: to be evaluated at runtime also evaluated at compiletime used for expressions or functions"
   ]
  },
  {
   "cell_type": "code",
   "execution_count": 32,
   "metadata": {},
   "outputs": [],
   "source": [
    "const int dmv = 17; //dmv is a named const\n",
    "//const int dmv = 18; fails for dmv is a named const and immutable\n",
    "\n",
    "int var = 17;"
   ]
  },
  {
   "cell_type": "code",
   "execution_count": 33,
   "metadata": {},
   "outputs": [],
   "source": [
    "int var = 18;"
   ]
  },
  {
   "cell_type": "code",
   "execution_count": 34,
   "metadata": {},
   "outputs": [
    {
     "data": {
      "text/plain": [
       "18"
      ]
     },
     "execution_count": 34,
     "metadata": {},
     "output_type": "execute_result"
    }
   ],
   "source": [
    "var"
   ]
  },
  {
   "cell_type": "code",
   "execution_count": 71,
   "metadata": {},
   "outputs": [],
   "source": [
    "constexpr double square(double x)\n",
    "{\n",
    "    return x*x;\n",
    "}"
   ]
  },
  {
   "cell_type": "code",
   "execution_count": 72,
   "metadata": {},
   "outputs": [
    {
     "data": {
      "text/plain": [
       "256.00000"
      ]
     },
     "execution_count": 72,
     "metadata": {},
     "output_type": "execute_result"
    }
   ],
   "source": [
    "square(16)"
   ]
  },
  {
   "cell_type": "code",
   "execution_count": 75,
   "metadata": {},
   "outputs": [],
   "source": [
    "const int dmv = 17;\n",
    "constexpr double max1  = 1.4*square(dmv); //works if square(17) is a constanct expression\n",
    "//constexpr double max2 = 1.4 * square(var);\n",
    "\n",
    "const double max3 = 1.4*square(var);"
   ]
  },
  {
   "cell_type": "code",
   "execution_count": 77,
   "metadata": {},
   "outputs": [
    {
     "name": "stderr",
     "output_type": "stream",
     "text": [
      "\u001b[1minput_line_106:5:18: \u001b[0m\u001b[0;1;31merror: \u001b[0m\u001b[1mconstexpr variable 's2' must be initialized by a constant expression\u001b[0m\n",
      "constexpr double s2 =  sum(v);\n",
      "\u001b[0;1;32m                 ^     ~~~~~~\n",
      "\u001b[0m\u001b[1minput_line_106:5:24: \u001b[0m\u001b[0;1;30mnote: \u001b[0mundefined function 'sum' cannot be used in a constant expression\u001b[0m\n",
      "constexpr double s2 =  sum(v);\n",
      "\u001b[0;1;32m                       ^\n",
      "\u001b[0m\u001b[1minput_line_106:2:19: \u001b[0m\u001b[0;1;30mnote: \u001b[0mdeclared here\u001b[0m\n",
      " constexpr double sum(const vector<double>&); //sum will not modify iits arguments\n",
      "\u001b[0;1;32m                  ^\n",
      "\u001b[0m"
     ]
    },
    {
     "ename": "Interpreter Error",
     "evalue": "",
     "output_type": "error",
     "traceback": [
      "Interpreter Error: "
     ]
    }
   ],
   "source": [
    "double sum(const vector<double>&); //sum will not modify iits arguments\n",
    "\n",
    "vector<double>v {1.2,3.4,4.5};\n",
    "\n",
    "const double s1 = sum(v);//error as sum is not a const expr\n",
    "//constexpr double s2 =  sum(v);\n",
    "//For a function to be usable in a constant expression, that is, in an expression that will be evaluated\n",
    "//by the compiler, it must be defined constexpr"
   ]
  },
  {
   "cell_type": "code",
   "execution_count": 58,
   "metadata": {},
   "outputs": [
    {
     "data": {
      "text/plain": [
       "0.0000000"
      ]
     },
     "execution_count": 58,
     "metadata": {},
     "output_type": "execute_result"
    }
   ],
   "source": [
    "s1"
   ]
  },
  {
   "cell_type": "code",
   "execution_count": null,
   "metadata": {},
   "outputs": [],
   "source": []
  }
 ],
 "metadata": {
  "kernelspec": {
   "display_name": "C++11",
   "language": "C++11",
   "name": "xcpp11"
  },
  "language_info": {
   "codemirror_mode": "text/x-c++src",
   "file_extension": ".cpp",
   "mimetype": "text/x-c++src",
   "name": "c++",
   "version": "11"
  },
  "vscode": {
   "interpreter": {
    "hash": "cbcfcef4fb1a421a25d66d9493f5a4b338998e39d88b9e30741ff340ac113675"
   }
  }
 },
 "nbformat": 4,
 "nbformat_minor": 4
}
