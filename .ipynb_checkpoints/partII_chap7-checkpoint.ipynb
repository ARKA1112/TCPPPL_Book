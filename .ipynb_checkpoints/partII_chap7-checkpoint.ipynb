{
 "cells": [
  {
   "cell_type": "code",
   "execution_count": 1,
   "metadata": {
    "vscode": {
     "languageId": "cpp"
    }
   },
   "outputs": [],
   "source": [
    "//Pointers Arrays and References\n",
    "#include <iostream>\n",
    "using namespace std;"
   ]
  },
  {
   "cell_type": "code",
   "execution_count": 8,
   "metadata": {
    "vscode": {
     "languageId": "cpp"
    }
   },
   "outputs": [],
   "source": [
    "//pointers\n",
    "\n",
    "//for a type T, T* is the type \"pointer to T\".That is, a variable of type T* can hold the addresss of an object of type T\n",
    "\n",
    "\n",
    "char c = 'a';\n",
    "char* p = &c; //p hold the address of c; & is the address-of operator\n",
    "\n",
    "//Means p which is a type of char* can hold the address of an object of type char\n",
    "\n",
    "\n"
   ]
  },
  {
   "cell_type": "code",
   "execution_count": 31,
   "metadata": {
    "vscode": {
     "languageId": "cpp"
    }
   },
   "outputs": [
    {
     "data": {
      "text/plain": [
       "'a'"
      ]
     },
     "execution_count": 31,
     "metadata": {},
     "output_type": "execute_result"
    }
   ],
   "source": [
    "char c = 'a';\n",
    "char* p = &c;\n",
    "char c2 =  *p; //c2 == 'a';* is the dereferance operator\n",
    "c2\n",
    "\n",
    "//In order to extract the value you have to dereference the pointer"
   ]
  },
  {
   "cell_type": "code",
   "execution_count": 32,
   "metadata": {
    "vscode": {
     "languageId": "cpp"
    }
   },
   "outputs": [],
   "source": [
    "int a = 9;\n",
    "auto* p = &a;\n",
    "auto c2 = *p;\n"
   ]
  },
  {
   "cell_type": "code",
   "execution_count": 33,
   "metadata": {
    "vscode": {
     "languageId": "cpp"
    }
   },
   "outputs": [],
   "source": [
    "//The object pointed to by p is c, and the value stored in c is 'a', so the value of *p assigned to c2 is 'a'."
   ]
  },
  {
   "cell_type": "code",
   "execution_count": 34,
   "metadata": {
    "vscode": {
     "languageId": "cpp"
    }
   },
   "outputs": [],
   "source": [
    "//Most machines can address a byte. Those that cant tend to have hardware to extract bytest from words, On the other hand few machines can directly address individual bit. Consequntly the samllest object that can be independently allocated and pointed to using a built in pointer type is a char.  Note that a bool occupies at least as much space as a char. To store smaller values more compactly you can use the bitwise logical operations\n",
    "\n",
    "\n",
    "//Similar sized built in pointer types ------ char, bool\n",
    "\n",
    "int* pi; //pointer to int\n",
    "char** ppc;// pointer to pointer to char\n",
    "\n",
    "int* ap[15];//array with 15 pointers which points to int\n",
    "\n",
    "int(*fp)(char*);//pointer to function taking a char* argument; return an int\n",
    "\n",
    "int* f(char*) //function which takes pointers which points to character and returns a pointer which is a pointer to int"
   ]
  },
  {
   "cell_type": "markdown",
   "metadata": {},
   "source": [
    "VOID*"
   ]
  },
  {
   "cell_type": "code",
   "execution_count": 35,
   "metadata": {
    "vscode": {
     "languageId": "cpp"
    }
   },
   "outputs": [],
   "source": [
    "//A void* is used as a pointer to an object of unknown type"
   ]
  },
  {
   "cell_type": "code",
   "execution_count": null,
   "metadata": {
    "vscode": {
     "languageId": "cpp"
    }
   },
   "outputs": [],
   "source": [
    "void f(int* pi)\n",
    "{\n",
    "    void* pv = pi; //ok implicit conversion of int* to void*\n",
    "    *pv; //error: cannot dereference void\n",
    "    ++pv;//error: size of the object pointed to is unknown\n",
    "\n",
    "    int* pi2 = static_cast<int*>(pv); //explicit conversion back to int*\n",
    "\n",
    "    double* pd1 = pv; //error: cannot convert from void\n",
    "    double* pd2 = pi; //error\n",
    "    double* pd3 = static_cast<double*>(pv);//unsafe\n",
    "}"
   ]
  },
  {
   "cell_type": "code",
   "execution_count": 37,
   "metadata": {
    "vscode": {
     "languageId": "cpp"
    }
   },
   "outputs": [],
   "source": [
    "//The primary use for void* is for passing pointers to functions that are not allowed to make assumptions about the type of the object and for returning untyped objects from functions. to use such an object we must use explicit type conversion.\n",
    "\n",
    "void* my_alloc(size_t n);\n",
    "\n",
    "//Pointer to functions and pointers to members cannot be assigned to void*"
   ]
  },
  {
   "cell_type": "markdown",
   "metadata": {},
   "source": [
    "NullPtr"
   ]
  },
  {
   "cell_type": "code",
   "execution_count": null,
   "metadata": {
    "vscode": {
     "languageId": "cpp"
    }
   },
   "outputs": [],
   "source": [
    "//The literal nullptr represents the null pointer, that is a pointer that does not point to an object.It can be assigned to any pointer type but not to other built in types\n",
    "\n",
    "int* pi = nullptr; //works\n",
    "double* pd = nullptr; //works, points to nothing\n",
    "\n",
    "int i  = nullptr; // error: i is not a pointer"
   ]
  },
  {
   "cell_type": "code",
   "execution_count": 40,
   "metadata": {
    "vscode": {
     "languageId": "cpp"
    }
   },
   "outputs": [],
   "source": [
    "//There is just one nullptr for every pointer type rather than a null pointer for each pointer type"
   ]
  },
  {
   "cell_type": "code",
   "execution_count": null,
   "metadata": {
    "vscode": {
     "languageId": "cpp"
    }
   },
   "outputs": [],
   "source": [
    "//Bfore nullptr 0 was used\n",
    "\n",
    "int* a = 0; //nullptr\n"
   ]
  },
  {
   "cell_type": "markdown",
   "metadata": {},
   "source": [
    "Arrays"
   ]
  },
  {
   "cell_type": "code",
   "execution_count": null,
   "metadata": {
    "vscode": {
     "languageId": "cpp"
    }
   },
   "outputs": [],
   "source": [
    "//For a type T, T[size] is an array of size elements of type T. these are indexed form 0 to size-1\n",
    "\n",
    "float v[3]; ///Uninitialized 3 elements of float\n",
    "char* a[32]; // an array of 32 pointers to char\n",
    "\n",
    "void f()\n",
    "{\n",
    "    int aa[10]; //arrays of 10 integers\n",
    "    aa[6] = 9; //assign 9 to the 6th index of the array\n",
    "    int x = aa[99]; //undefined behaviour//also out of range\n",
    "}"
   ]
  },
  {
   "cell_type": "code",
   "execution_count": null,
   "metadata": {
    "vscode": {
     "languageId": "cpp"
    }
   },
   "outputs": [],
   "source": [
    "//Also the number of elements of the array, the array bound must be a constant expression. If you neeed variable bounds use a vector\n",
    "\n",
    "void f(int n)\n",
    "{\n",
    "    int v1[n]; //err: array size nota a constant expression\n",
    "    vector<int> v2(n); //OK vector with n int elements\n",
    "}"
   ]
  },
  {
   "cell_type": "code",
   "execution_count": 48,
   "metadata": {
    "vscode": {
     "languageId": "cpp"
    }
   },
   "outputs": [],
   "source": [
    "//Multidim arrays are represented as arrays of arrays"
   ]
  },
  {
   "cell_type": "code",
   "execution_count": null,
   "metadata": {
    "vscode": {
     "languageId": "cpp"
    }
   },
   "outputs": [],
   "source": [
    "//An array can be allocated statically, on the stack and on the free store\n",
    "\n",
    "int a1[10]; //10 ints in static storage\n",
    "\n",
    "void f1()\n",
    "{\n",
    "    int a2[20]; //20 ints on the stack\n",
    "    int* p = new int[40];   //40 ints on the free store\n",
    "}"
   ]
  },
  {
   "cell_type": "code",
   "execution_count": null,
   "metadata": {
    "vscode": {
     "languageId": "cpp"
    }
   },
   "outputs": [],
   "source": [
    "//Array Initializers\n",
    "\n",
    "int v1[] = {1,2,3,4};\n",
    "char v2[4] = {'a','b','c','0'};\n",
    "\n",
    "//also it is an error if surplus elements are supplied if wrt the size\n",
    "\n",
    "char v3[3] = {'a','b',0};\n",
    "char v4[3] = {'a', 'b', 0};\n",
    "\n",
    "//also if few elements are supplied than that of mentioned 0 is used for the rest\n",
    "\n",
    "\n",
    "int v[8] = {1,23,4,5};\n",
    "v;\n",
    "\n",
    "//which is equivalent to\n",
    "\n",
    "int v5[] = {1,2,3,4,0,0,0,0};\n",
    "\n",
    "\n",
    "//There is no built in copy operation for arrays. You cannot initialize one array with another(not even of exactly the same type), and there is no array assignment:\n",
    "\n",
    "int v6[8] = v5; //error: cannot copy an array\n",
    "\n",
    "v6 = v5; //error no array assignment"
   ]
  },
  {
   "cell_type": "markdown",
   "metadata": {},
   "source": [
    "String Literals"
   ]
  },
  {
   "cell_type": "code",
   "execution_count": 98,
   "metadata": {
    "vscode": {
     "languageId": "cpp"
    }
   },
   "outputs": [],
   "source": [
    "std::string a1 {\"This is a string\"};\n",
    "sizeof(\"Bohr\"); //A string literal contains one more character than it appears to have; it is terminated by the null character,'\\0', with value 0\n",
    "\n",
    "//THe type of string literal is array of the appropriate number of const characters\n",
    "\n",
    "const char v[6]{};\n"
   ]
  },
  {
   "cell_type": "code",
   "execution_count": null,
   "metadata": {
    "vscode": {
     "languageId": "cpp"
    }
   },
   "outputs": [],
   "source": [
    "void f()\n",
    "{\n",
    "    char* p = \"Plato\"; //error, but accepted in pre C++11 standard code\n",
    "    p[4] = '4';  // error: assignment to const\n",
    "}\n",
    "\n"
   ]
  },
  {
   "cell_type": "code",
   "execution_count": 103,
   "metadata": {
    "vscode": {
     "languageId": "cpp"
    }
   },
   "outputs": [],
   "source": [
    "//If we want a string that we are guaranteed to be able to modify, we must place the characters in a non const array:\n",
    "\n",
    "void f()\n",
    "{\n",
    "    char p[] {\"zeno\"}; //p is an array of 5 char\n",
    "    p[0] = {'r'};   //error: assignment to const\n",
    "}\n"
   ]
  },
  {
   "cell_type": "code",
   "execution_count": 108,
   "metadata": {
    "vscode": {
     "languageId": "cpp"
    }
   },
   "outputs": [],
   "source": [
    "//A string literal is statically allocated so that it is safe to return one from a function. For example:\n",
    "\n",
    "const char* error_message(int i)\n",
    "{\n",
    "    return \"range error\";\n",
    "}\n",
    "\n"
   ]
  },
  {
   "cell_type": "code",
   "execution_count": 109,
   "metadata": {
    "vscode": {
     "languageId": "cpp"
    }
   },
   "outputs": [],
   "source": [
    "// The memory holding \"range error\" will not go away after a call of error_message()\n",
    "\n",
    "const char* p = \"heraclitus\";\n",
    "const char* q = \"heraclitus\";"
   ]
  },
  {
   "cell_type": "code",
   "execution_count": null,
   "metadata": {
    "vscode": {
     "languageId": "cpp"
    }
   },
   "outputs": [],
   "source": [
    "void g()\n",
    "{\n",
    "    if(p==q)\n",
    "    {\n",
    "        std::cout << \" one!\\n\";\n",
    "    }\n",
    "}\n",
    "\n",
    "//Note that == compares addresses when applied to pointers and not the values pointed to"
   ]
  },
  {
   "cell_type": "code",
   "execution_count": 116,
   "metadata": {
    "vscode": {
     "languageId": "cpp"
    }
   },
   "outputs": [],
   "source": [
    "//The empty string is written as a pair of adjacent double quotes, \"\", and has the type const\n",
    "//char[1]. The one character of the empty string is the terminating '\\0'."
   ]
  },
  {
   "cell_type": "code",
   "execution_count": 122,
   "metadata": {
    "vscode": {
     "languageId": "cpp"
    }
   },
   "outputs": [
    {
     "name": "stdout",
     "output_type": "stream",
     "text": [
      "beep at the end of the message\n"
     ]
    },
    {
     "name": "stderr",
     "output_type": "stream",
     "text": [
      "In file included from input_line_9:1:\n",
      "/home/susearc/miniconda3/envs/xeus-cling/include/xcpp/xmime.hpp:49:30: error: no viable overloaded '='\n",
      "        bundle[\"text/plain\"] = cling::printValue(&value);\n",
      "        ~~~~~~~~~~~~~~~~~~~~ ^ ~~~~~~~~~~~~~~~~~~~~~~~~~\n",
      "input_line_178:2:2: note: in instantiation of function template specialization 'xcpp::mime_bundle_repr<std::basic_ostream<char> >' requested here\n",
      " mime_bundle_repr(*(*(std::basic_ostream<char, std::char_traits<char> >**)0x7ffc14c6bbd8));\n",
      " ^\n",
      "/home/susearc/miniconda3/envs/xeus-cling/include/nlohmann/json.hpp:2174:17: note: candidate function not viable: no known conversion from 'std::string' (aka 'basic_string<char>') to 'nlohmann::basic_json<std::map, std::vector, std::__cxx11::basic_string<char>, bool, long, unsigned long, double, std::allocator, adl_serializer, std::vector<unsigned char, std::allocator<unsigned char> > >' for 1st argument\n",
      "    basic_json& operator=(basic_json other) noexcept (\n",
      "                ^\n"
     ]
    },
    {
     "data": {},
     "execution_count": 122,
     "metadata": {},
     "output_type": "execute_result"
    }
   ],
   "source": [
    "cout << \"beep at the end of the message\\a\\n\""
   ]
  },
  {
   "cell_type": "code",
   "execution_count": 123,
   "metadata": {
    "vscode": {
     "languageId": "cpp"
    }
   },
   "outputs": [],
   "source": [
    "char alpha[] = \"abcdefghijklmnopqrstuvwxyz\";"
   ]
  },
  {
   "cell_type": "markdown",
   "metadata": {},
   "source": [
    "Raw Character Strings"
   ]
  },
  {
   "cell_type": "code",
   "execution_count": 126,
   "metadata": {
    "vscode": {
     "languageId": "cpp"
    }
   },
   "outputs": [],
   "source": [
    "string s = \"\\\\w\\\\\\\\w\""
   ]
  },
  {
   "cell_type": "code",
   "execution_count": 128,
   "metadata": {
    "vscode": {
     "languageId": "cpp"
    }
   },
   "outputs": [],
   "source": [
    "//To avoid confusion about which backslash is which we can use\n",
    "\n",
    "string s = R\"(\\w\\\\w)\"  //The R notation"
   ]
  },
  {
   "cell_type": "code",
   "execution_count": 131,
   "metadata": {
    "vscode": {
     "languageId": "cpp"
    }
   },
   "outputs": [
    {
     "data": {
      "text/plain": [
       "\"\"quoted string\"\""
      ]
     },
     "execution_count": 131,
     "metadata": {},
     "output_type": "execute_result"
    }
   ],
   "source": [
    "//for example\n",
    "string s = R\"(\"quoted string\")\";  //Is the quoted string\n",
    "s"
   ]
  },
  {
   "cell_type": "code",
   "execution_count": null,
   "metadata": {
    "vscode": {
     "languageId": "cpp"
    }
   },
   "outputs": [],
   "source": [
    "//SO how do we get teh character sequence )\" into a raw string literal?\n",
    "//Fortunately it is a rare\n",
    "\n",
    "R\"***(\"quoted string containing the usual terminator(\"))\")***\"\n",
    "//\"quoted string containing the usual terminator (\"))\""
   ]
  },
  {
   "cell_type": "code",
   "execution_count": 135,
   "metadata": {
    "vscode": {
     "languageId": "cpp"
    }
   },
   "outputs": [],
   "source": [
    "//unlike nonraw string literals , a raw string literal can contain a newline\n",
    "\n",
    "string counts{R\"(1\n",
    "22\n",
    "333)\"};\n",
    "\n",
    "//is equivalent to \n",
    "string x {\"1\\n22\\n333\"};"
   ]
  },
  {
   "cell_type": "markdown",
   "metadata": {},
   "source": [
    "Larger Character sets"
   ]
  },
  {
   "cell_type": "code",
   "execution_count": null,
   "metadata": {},
   "outputs": [],
   "source": [
    "int i = 0, &r1 "
   ]
  }
 ],
 "metadata": {
  "kernelspec": {
   "display_name": "C++17 [conda env:xeus-cling]",
   "language": "C++17",
   "name": "conda-env-xeus-cling-xcpp17"
  },
  "language_info": {
   "codemirror_mode": "text/x-c++src",
   "file_extension": ".cpp",
   "mimetype": "text/x-c++src",
   "name": "c++",
   "version": "17"
  }
 },
 "nbformat": 4,
 "nbformat_minor": 2
}
