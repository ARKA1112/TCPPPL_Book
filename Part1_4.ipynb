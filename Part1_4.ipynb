{
 "cells": [
  {
   "cell_type": "code",
   "execution_count": 1,
   "id": "f89a9c45",
   "metadata": {},
   "outputs": [],
   "source": [
    "#include<iostream>\n",
    "#include<vector>\n",
    "using namespace std;\n"
   ]
  },
  {
   "cell_type": "markdown",
   "id": "eaddb992",
   "metadata": {},
   "source": [
    "Strings"
   ]
  },
  {
   "cell_type": "code",
   "execution_count": 2,
   "id": "515efe9d",
   "metadata": {},
   "outputs": [],
   "source": [
    "string compose(const string& name, const string& domain)\n",
    "{\n",
    "    return name +'@' + domain;\n",
    "}"
   ]
  },
  {
   "cell_type": "code",
   "execution_count": 3,
   "id": "a0ba4254",
   "metadata": {},
   "outputs": [],
   "source": [
    "auto addr = compose(\"dmr\",\"bell-labs.com\")"
   ]
  },
  {
   "cell_type": "code",
   "execution_count": 4,
   "id": "3a5bd10f",
   "metadata": {},
   "outputs": [
    {
     "data": {
      "text/plain": [
       "\"dmr@bell-labs.com\""
      ]
     },
     "execution_count": 4,
     "metadata": {},
     "output_type": "execute_result"
    }
   ],
   "source": [
    "addr"
   ]
  },
  {
   "cell_type": "code",
   "execution_count": 5,
   "id": "49f42949",
   "metadata": {},
   "outputs": [],
   "source": [
    "string name = \"Niels Stroustrup\";\n",
    "\n"
   ]
  },
  {
   "cell_type": "code",
   "execution_count": 6,
   "id": "c0b75a60",
   "metadata": {},
   "outputs": [],
   "source": [
    "void m3()\n",
    "{\n",
    "    string s = name.substr(6,10); //s = Stroustrup\n",
    "    name.replace(0,5,\"Nicholas\");\n",
    "    name[0] = toupper(name[0]);\n",
    "}"
   ]
  },
  {
   "cell_type": "code",
   "execution_count": 7,
   "id": "f033a291",
   "metadata": {},
   "outputs": [],
   "source": [
    "m3()"
   ]
  },
  {
   "cell_type": "code",
   "execution_count": 8,
   "id": "9755699f",
   "metadata": {},
   "outputs": [
    {
     "data": {
      "text/plain": [
       "\"Nicholas Stroustrup\""
      ]
     },
     "execution_count": 8,
     "metadata": {},
     "output_type": "execute_result"
    }
   ],
   "source": [
    "name"
   ]
  },
  {
   "cell_type": "code",
   "execution_count": 9,
   "id": "fb8d1f38",
   "metadata": {},
   "outputs": [],
   "source": [
    "struct Entry{\n",
    "    string name;\n",
    "    int number;\n",
    "}"
   ]
  },
  {
   "cell_type": "markdown",
   "id": "71d5e6a7",
   "metadata": {},
   "source": [
    "Containers"
   ]
  },
  {
   "cell_type": "code",
   "execution_count": 25,
   "id": "30ecec3b",
   "metadata": {},
   "outputs": [],
   "source": [
    "//The most useful standard library container is a vector\n",
    "//A vector is a sequence of elements of a given type\n",
    "\n",
    "//We can initialize a vector with a set of values of its element type\n",
    "\n",
    "vector<Entry> phone_book={\n",
    "    {\"David Hume\",1234},\n",
    "    {\"Karl Popper\",34556},\n",
    "    {\"Bertnard Arthur William Russel\",4654645}\n",
    "};"
   ]
  },
  {
   "cell_type": "code",
   "execution_count": 2,
   "id": "98e50080",
   "metadata": {},
   "outputs": [
    {
     "name": "stderr",
     "output_type": "stream",
     "text": [
      "\u001b[1minput_line_9:1:30: \u001b[0m\u001b[0;1;31merror: \u001b[0m\u001b[1muse of undeclared identifier 'Entry'\u001b[0m\n",
      "void print_book(const vector<Entry>& book)\n",
      "\u001b[0;1;32m                             ^\n",
      "\u001b[0m"
     ]
    },
    {
     "ename": "Interpreter Error",
     "evalue": "",
     "output_type": "error",
     "traceback": [
      "Interpreter Error: "
     ]
    }
   ],
   "source": [
    "void print_book(const vector<Entry>& book)\n",
    "{\n",
    "    for (int i=0; i!=book.size(); ++i)\n",
    "        cout<<book[i]<<'\\n';\n",
    "}"
   ]
  },
  {
   "cell_type": "code",
   "execution_count": 22,
   "id": "4dd1dc7c",
   "metadata": {},
   "outputs": [
    {
     "name": "stderr",
     "output_type": "stream",
     "text": [
      "\u001b[1minput_line_33:2:2: \u001b[0m\u001b[0;1;31merror: \u001b[0m\u001b[1mno matching function for call to 'print_book'\u001b[0m\n",
      " print_book(phone_book)\n",
      "\u001b[0;1;32m ^~~~~~~~~~\n",
      "\u001b[0m\u001b[1minput_line_32:1:6: \u001b[0m\u001b[0;1;30mnote: \u001b[0mcandidate function not viable: no known conversion from 'vector<\u001b[0;1;36m__cling_N511::Entry\u001b[0m>' to '\u001b[0;1;36mconst \u001b[0mvector<\u001b[0;1;36mint\u001b[0m>' for 1st argument\u001b[0m\n",
      "void print_book(const vector<int>& book)\n",
      "\u001b[0;1;32m     ^\n",
      "\u001b[0m"
     ]
    },
    {
     "ename": "Interpreter Error",
     "evalue": "",
     "output_type": "error",
     "traceback": [
      "Interpreter Error: "
     ]
    }
   ],
   "source": [
    "print_book(phone_book)"
   ]
  },
  {
   "cell_type": "code",
   "execution_count": 28,
   "id": "e5334b2c",
   "metadata": {},
   "outputs": [],
   "source": [
    "vector<int> v1 = {1,2,3,4}"
   ]
  },
  {
   "cell_type": "code",
   "execution_count": 29,
   "id": "897cdbf3",
   "metadata": {},
   "outputs": [],
   "source": [
    "vector<string> v2;"
   ]
  },
  {
   "cell_type": "code",
   "execution_count": 33,
   "id": "87448f0f",
   "metadata": {},
   "outputs": [],
   "source": [
    "vector<double> v4(32,9.9)"
   ]
  },
  {
   "cell_type": "code",
   "execution_count": 46,
   "id": "2a29f971",
   "metadata": {},
   "outputs": [
    {
     "name": "stderr",
     "output_type": "stream",
     "text": [
      "\u001b[1minput_line_58:4:6: \u001b[0m\u001b[0;1;31merror: \u001b[0m\u001b[1muse of undeclared identifier 'Entry'\u001b[0m\n",
      "list<Entry> phone_book = {\n",
      "\u001b[0;1;32m     ^\n",
      "\u001b[0m"
     ]
    },
    {
     "ename": "Interpreter Error",
     "evalue": "",
     "output_type": "error",
     "traceback": [
      "Interpreter Error: "
     ]
    }
   ],
   "source": [
    "//List \n",
    "//A doubly linked list where the elements can be modified in place\n",
    "\n",
    "list<Entry> phone_book = {\n",
    "    {\"Karl Popper\",1234},\n",
    "    {\"Bertnard Arthur\",34567}\n",
    "};"
   ]
  },
  {
   "cell_type": "code",
   "execution_count": 45,
   "id": "8dcbe551",
   "metadata": {},
   "outputs": [
    {
     "name": "stderr",
     "output_type": "stream",
     "text": [
      "\u001b[1minput_line_57:3:25: \u001b[0m\u001b[0;1;31merror: \u001b[0m\u001b[1muse of undeclared identifier 'phone_book'\u001b[0m\n",
      "    for (const auto& x: phone_book)\n",
      "\u001b[0;1;32m                        ^\n",
      "\u001b[0m"
     ]
    },
    {
     "ename": "Interpreter Error",
     "evalue": "",
     "output_type": "error",
     "traceback": [
      "Interpreter Error: "
     ]
    }
   ],
   "source": [
    "int get_number(const string& s)\n",
    "{\n",
    "    for (const auto& x: phone_book)\n",
    "        if (x.name == s)\n",
    "            return x.number;\n",
    "    return 0;\n",
    "}\n",
    "get_number(\"Karl Popper\");//fetch the number\n",
    "get_number(\"Bertnard Arthur\");\n",
    "get_number(\"Adam\");"
   ]
  },
  {
   "cell_type": "code",
   "execution_count": 42,
   "id": "81c5a3b3",
   "metadata": {},
   "outputs": [],
   "source": [
    "//Use of iterators\n",
    "\n",
    "bool has_c(const string& s, char c)\n",
    "{\n",
    "    auto p = find(s.begin(), s.end(),c);\n",
    "    if (p!=s.end())\n",
    "        return true;\n",
    "    else\n",
    "        return false;\n",
    "};"
   ]
  },
  {
   "cell_type": "code",
   "execution_count": 47,
   "id": "3eb816d9",
   "metadata": {},
   "outputs": [],
   "source": [
    "//Equivalent shorter definition\n",
    "\n",
    "bool has_c(const string& s, char c)\n",
    "{\n",
    "    return find(s.begin(),s.end(),c)!=s.end();\n",
    "};\n"
   ]
  },
  {
   "cell_type": "code",
   "execution_count": 5,
   "id": "df31382a",
   "metadata": {},
   "outputs": [
    {
     "name": "stderr",
     "output_type": "stream",
     "text": [
      "input_line_13:4:1: error: function definition is not allowed here\n",
      "{\n",
      "^\n"
     ]
    },
    {
     "ename": "Interpreter Error",
     "evalue": "",
     "output_type": "error",
     "traceback": [
      "Interpreter Error: "
     ]
    }
   ],
   "source": [
    "#include <ostream>\n",
    "#include <vector>\n",
    "using namespace std;\n",
    "\n",
    "vector<string::iterator> find_all (string& s, char c)\n",
    "{\n",
    "    vector<string::iterator> res;\n",
    "    for (auto p=s.begin();p!=s.end();++p)\n",
    "        if(*p==c)\n",
    "            res.push_back(p);\n",
    "    return res;\n",
    "}"
   ]
  },
  {
   "cell_type": "code",
   "execution_count": 3,
   "id": "a886567b",
   "metadata": {},
   "outputs": [],
   "source": [
    "struct Greater_than {\n",
    "    int val;\n",
    "    Greater_than(int v):val{v}{}\n",
    "    bool operator()(const pair<string,int>& r){return r.second>val;}\n",
    "};"
   ]
  },
  {
   "cell_type": "code",
   "execution_count": 11,
   "id": "55b25f68",
   "metadata": {},
   "outputs": [
    {
     "name": "stderr",
     "output_type": "stream",
     "text": [
      "\u001b[1minput_line_18:7:1: \u001b[0m\u001b[0;1;31merror: \u001b[0m\u001b[1mfunction definition is not allowed here\u001b[0m\n",
      "{\n",
      "\u001b[0;1;32m^\n",
      "\u001b[0m"
     ]
    },
    {
     "ename": "Interpreter Error",
     "evalue": "",
     "output_type": "error",
     "traceback": [
      "Interpreter Error: "
     ]
    }
   ],
   "source": [
    "void f(); //function\n",
    "\n",
    "struct F{                  //function object\n",
    "    void operator()();      // F's calll operator\n",
    "};\n",
    "\n",
    "\n"
   ]
  },
  {
   "cell_type": "code",
   "execution_count": 13,
   "id": "72cf45a1",
   "metadata": {},
   "outputs": [
    {
     "name": "stderr",
     "output_type": "stream",
     "text": [
      "\u001b[1minput_line_20:12:1: \u001b[0m\u001b[0;1;31merror: \u001b[0m\u001b[1mfunction definition is not allowed here\u001b[0m\n",
      "{\n",
      "\u001b[0;1;32m^\n",
      "\u001b[0m"
     ]
    },
    {
     "ename": "Interpreter Error",
     "evalue": "",
     "output_type": "error",
     "traceback": [
      "Interpreter Error: "
     ]
    }
   ],
   "source": [
    "void f(vector<double>& v);\n",
    "// function do something with v\n",
    "struct F {\n",
    "// function object: do something with v\n",
    "vector<double>& v;\n",
    "F(vector<double>& vv) :v{vv} { }\n",
    "void operator()();\n",
    "// application operator ; §3.4.3\n",
    "};\n",
    "int main()\n",
    "{\n",
    "vector<double> some_vec {1,2,3,4,5,6,7,8,9};\n",
    "vector<double> vec2 {10,11,12,13,14};\n",
    "thread t1 {f,some_vec}; // f(some_vec) executes in a separate thread\n",
    "thread t2 {F{vec2}};\n",
    "// F(vec2)() executes in a separate thread\n",
    "t1.join();\n",
    "t2.join();\n",
    "}"
   ]
  },
  {
   "cell_type": "code",
   "execution_count": null,
   "id": "2b72a2e6",
   "metadata": {},
   "outputs": [],
   "source": []
  }
 ],
 "metadata": {
  "kernelspec": {
   "display_name": "C++14",
   "language": "python",
   "name": "xcpp14"
  },
  "language_info": {
   "codemirror_mode": "text/x-c++src",
   "file_extension": ".cpp",
   "mimetype": "text/x-c++src",
   "name": "python",
   "version": "3.11.0 | packaged by conda-forge | (main, Oct 25 2022, 06:24:40) [GCC 10.4.0]"
  },
  "vscode": {
   "interpreter": {
    "hash": "f1d1fc19b365f9ad1716256121e630045ec3968373de9ab098681291a9c3ca4f"
   }
  }
 },
 "nbformat": 4,
 "nbformat_minor": 5
}
