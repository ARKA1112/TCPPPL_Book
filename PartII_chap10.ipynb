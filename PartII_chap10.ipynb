{
 "cells": [
  {
   "cell_type": "code",
   "execution_count": 4,
   "id": "1e8c702f",
   "metadata": {},
   "outputs": [],
   "source": [
    "#include<iostream>\n",
    "#include<vector>\n",
    "#include<complex>\n",
    "using namespace std;"
   ]
  },
  {
   "cell_type": "code",
   "execution_count": null,
   "id": "5828d67e",
   "metadata": {},
   "outputs": [],
   "source": [
    "map<string,double>table"
   ]
  },
  {
   "cell_type": "code",
   "execution_count": null,
   "id": "e072d573",
   "metadata": {},
   "outputs": [],
   "source": [
    "//Low level input"
   ]
  },
  {
   "cell_type": "code",
   "execution_count": null,
   "id": "be1b0891",
   "metadata": {},
   "outputs": [],
   "source": [
    "string c = \"\""
   ]
  },
  {
   "cell_type": "markdown",
   "id": "f65a238d",
   "metadata": {},
   "source": [
    "Error Handling"
   ]
  },
  {
   "cell_type": "code",
   "execution_count": null,
   "id": "e96534ae",
   "metadata": {},
   "outputs": [],
   "source": [
    "int no_of_errors;\n"
   ]
  },
  {
   "cell_type": "code",
   "execution_count": null,
   "id": "47462624",
   "metadata": {},
   "outputs": [],
   "source": [
    "//It is always ;important to detect and reprot errors. However for this program , a simple error handling strategy suffice. The rrror() funciton simply conts the erros, writes out an error emssage, and returns\n",
    "\n",
    "\n",
    "double error(const string& s)\n",
    "{\n",
    "    no_of_errors++;\n",
    "    cerr<<\"error: \"<<s<<'\\n';\n",
    "    return 1; //indicate success\n",
    "}"
   ]
  },
  {
   "cell_type": "markdown",
   "id": "25181d78",
   "metadata": {},
   "source": [
    "The Driver"
   ]
  },
  {
   "cell_type": "code",
   "execution_count": null,
   "id": "047800af",
   "metadata": {},
   "outputs": [],
   "source": [
    "Token_stream ts{cin}"
   ]
  },
  {
   "cell_type": "markdown",
   "id": "ea58d06d",
   "metadata": {},
   "source": [
    "Headers"
   ]
  },
  {
   "cell_type": "code",
   "execution_count": null,
   "id": "ea4292c8",
   "metadata": {},
   "outputs": [],
   "source": []
  },
  {
   "cell_type": "markdown",
   "id": "dbdfcc04",
   "metadata": {},
   "source": [
    "Command Line Arguments"
   ]
  },
  {
   "cell_type": "code",
   "execution_count": null,
   "id": "8c2b624a",
   "metadata": {},
   "outputs": [],
   "source": [
    "//A program starts by calling main() when this is done \n",
    "//main() is given two arguments specifying the number of arguments\n",
    "//conventionally called argc and an array of arguments \n",
    "//conventionally called argv"
   ]
  },
  {
   "cell_type": "code",
   "execution_count": null,
   "id": "789e1dfb",
   "metadata": {},
   "outputs": [],
   "source": [
    "//The idea is to read form the command string in the same way that we read\n",
    "//from the input stream\n",
    "//A stream that reads from a string iis unsurprisingly callled an istringstream.\n",
    "//So to calculate expressions presented on the command line, we simply\n",
    "\n",
    "//have to get our Token_stream to read form an appropriate istringstream"
   ]
  },
  {
   "cell_type": "code",
   "execution_count": null,
   "id": "85b60f55",
   "metadata": {},
   "outputs": [],
   "source": [
    "vector<string> arguments(int argc, char* argv[])\n",
    "{\n",
    "    vector<string> res;\n",
    "    for (int i=0; i!=argc;++i)\n",
    "        res.push_back(argv[i]);\n",
    "    return res;\n",
    "}"
   ]
  },
  {
   "cell_type": "code",
   "execution_count": null,
   "id": "70592a5c",
   "metadata": {},
   "outputs": [],
   "source": [
    "int i  = 1;\n",
    "while(i<0)++i;"
   ]
  },
  {
   "cell_type": "code",
   "execution_count": null,
   "id": "3609b598",
   "metadata": {},
   "outputs": [],
   "source": [
    "void f()\n",
    "{\n",
    "    int i = 1;\n",
    "    while (0<i) ++i;\n",
    "    cout<<\"i has become negative!\"<<i<<'\\n';\n",
    "}//result of infinite loop"
   ]
  },
  {
   "cell_type": "markdown",
   "id": "5baa2bc9",
   "metadata": {},
   "source": [
    "Order of Evaluation"
   ]
  },
  {
   "cell_type": "code",
   "execution_count": null,
   "id": "9c1bc3c0",
   "metadata": {},
   "outputs": [],
   "source": [
    "int x = f(2)"
   ]
  },
  {
   "cell_type": "markdown",
   "id": "8d3477f9",
   "metadata": {},
   "source": [
    "Operator Precedence"
   ]
  },
  {
   "cell_type": "markdown",
   "id": "70c6f0ac",
   "metadata": {},
   "source": [
    "Temporary Objects"
   ]
  },
  {
   "cell_type": "markdown",
   "id": "b47215c0",
   "metadata": {},
   "source": [
    "Constant Expressions"
   ]
  },
  {
   "cell_type": "code",
   "execution_count": null,
   "id": "0f870d0f",
   "metadata": {
    "scrolled": false
   },
   "outputs": [],
   "source": [
    "//C++ offers two related meanign of \"constant\"\n",
    "\n",
    "//constexpr: Evaluuate at compile time\n",
    "//const DO not modify in this scope\n",
    "\n",
    "\n",
    "//Basically constexpr role is to enable and ensure compile time evaluation wheras const primary role is to \n",
    "//specify immutability in interfaces. This section is primarily concerned with\n",
    "//the first role: compile time evaluation\n",
    "\n",
    "// A constant expression is an expression that a compiler can evaluate.\n",
    "//It cannot use values that are not known at compile time and it cannot have side effects\n",
    "\n",
    "//Also data in readonly memory is immune to most system crashes.\n",
    "\n",
    "//Sometimes, evaluating something once gives significantly better performance than doing so\n",
    "//a million times at run time.\n",
    "\n",
    "//As part of the definition of a data item constexpr expresses the need for compile time evaluation.\n",
    "// if the initializer for a constexpr cant be evaulated at \n",
    "//compile time, the compiler will give an error\n",
    "\n",
    "\n",
    "int x1 = 7;\n",
    "constexpr int x2 = 7;\n",
    "\n",
    "constexpr int x3 = x1;  //error: initalizer is not a constant expression\n",
    "constexpr int x4 = x2;\n"
   ]
  },
  {
   "cell_type": "code",
   "execution_count": null,
   "id": "696539f7",
   "metadata": {},
   "outputs": [],
   "source": [
    "constexpr int isqrt_helper(int sq, int d, int a)\n",
    "{\n",
    "    return sq<=?isqrt_helper(sq+d,d+2,a):d;\n",
    "}\n",
    "\n",
    "constexpr int isqrt(int x)\n",
    "{\n",
    "    return isqrt_helper(1,3,x)/2 - 1;\n",
    "}"
   ]
  },
  {
   "cell_type": "markdown",
   "id": "6493303a",
   "metadata": {},
   "source": [
    "Symbolic Constants"
   ]
  },
  {
   "cell_type": "code",
   "execution_count": null,
   "id": "a7a6b0cf",
   "metadata": {},
   "outputs": [],
   "source": [
    "//consts in Constant Expresisons\n",
    "\n",
    "//A const is primarily used to express interfaces.\n",
    "//However const can also be used to express constatn values. For examples\n",
    "\n",
    "const int x=7;\n",
    "const string s = \"asdf\";\n",
    "const int y = sqrt(x);\n",
    "\n",
    "//A const doiffes form a constexpr in that it can be initialized by something\n",
    "//that is not a constatn expression;\n",
    "//in that case, the const cannot be used as a constatn expression.\n",
    "//For example:\n",
    "\n",
    "constexpr int xx = x;\n",
    "constexpr string ss = s; //error\n",
    "constexpr int yy = y;  //error\n",
    "\n",
    "//Reasons being string is not a literal type and sqrt()is not a constexpr function"
   ]
  },
  {
   "cell_type": "markdown",
   "id": "d6db9cc4",
   "metadata": {},
   "source": [
    "\n",
    "Literal Types"
   ]
  },
  {
   "cell_type": "code",
   "execution_count": null,
   "id": "f817d6e2",
   "metadata": {},
   "outputs": [],
   "source": [
    "//A sufficiently simple user defined type can be used in a constatn expresssion\n",
    "\n",
    "struct Point\n",
    "{\n",
    "    int x,y,z;\n",
    "    constexpr Point up(int d) {return {x,y,z+d};}\n",
    "    constexpr Point move(int dx, int dy){return {x+dx, y+dy};}                        \n",
    "};"
   ]
  },
  {
   "cell_type": "code",
   "execution_count": null,
   "id": "3a2d198c",
   "metadata": {},
   "outputs": [],
   "source": [
    "constexpr Point origo{0,1};\n",
    "constexpr int z = origo.y;"
   ]
  },
  {
   "cell_type": "code",
   "execution_count": null,
   "id": "dbb0eb4e",
   "metadata": {},
   "outputs": [],
   "source": [
    "z"
   ]
  },
  {
   "cell_type": "code",
   "execution_count": null,
   "id": "1dd8d62a",
   "metadata": {},
   "outputs": [],
   "source": [
    "constexpr Point a[]={\n",
    "    origo, Point{1,2},Point{2,2},origo.move(3,3)\n",
    "};"
   ]
  },
  {
   "cell_type": "code",
   "execution_count": null,
   "id": "8de408dd",
   "metadata": {},
   "outputs": [],
   "source": [
    "a[0].x"
   ]
  },
  {
   "cell_type": "code",
   "execution_count": null,
   "id": "910129e9",
   "metadata": {},
   "outputs": [],
   "source": [
    "constexpr int radial_distance(Point p)\n",
    "{\n",
    "    return isqrt(square(p.x)+square(p.y)+square(p.z));\n",
    "}"
   ]
  },
  {
   "cell_type": "code",
   "execution_count": null,
   "id": "52db2e0d",
   "metadata": {},
   "outputs": [],
   "source": [
    "constexpr Point p1{10,20,30};\n",
    "constexpr Point p2{p1.up(20)};"
   ]
  },
  {
   "cell_type": "code",
   "execution_count": null,
   "id": "820410c0",
   "metadata": {},
   "outputs": [],
   "source": [
    "p2.z"
   ]
  },
  {
   "cell_type": "code",
   "execution_count": null,
   "id": "e029c1ea",
   "metadata": {},
   "outputs": [],
   "source": [
    "//For a member function constexpr implies cosnt"
   ]
  },
  {
   "cell_type": "markdown",
   "id": "ae6bbdd8",
   "metadata": {},
   "source": [
    "Reference Arguments"
   ]
  },
  {
   "cell_type": "code",
   "execution_count": null,
   "id": "7d66efd9",
   "metadata": {},
   "outputs": [],
   "source": [
    "//constexpr provides a miniature compile time functional programming langua\\ge"
   ]
  },
  {
   "cell_type": "code",
   "execution_count": null,
   "id": "714283d2",
   "metadata": {},
   "outputs": [],
   "source": [
    "//const references refer to values and can therefore be used. COnsidet the\n",
    "//specialization of the general complex<T> to a complex<double>"
   ]
  },
  {
   "cell_type": "code",
   "execution_count": 7,
   "id": "6b4b3a34",
   "metadata": {
    "scrolled": true
   },
   "outputs": [
    {
     "name": "stderr",
     "output_type": "stream",
     "text": [
      "\u001b[1minput_line_14:1:17: \u001b[0m\u001b[0;1;31merror: \u001b[0m\u001b[1mredefinition of 'complex<double>'\u001b[0m\n",
      "template<>class complex<double>\n",
      "\u001b[0;1;32m                ^~~~~~~~~~~~~~~\n",
      "\u001b[0m\u001b[1m/home/susearc/miniconda3/envs/xeus-cling/bin/../lib/gcc/../../x86_64-conda-linux-gnu/include/c++/12.2.0/complex:1229:11: \u001b[0m\u001b[0;1;30mnote: \u001b[0mprevious definition is here\u001b[0m\n",
      "    class complex<double>\n",
      "\u001b[0;1;32m          ^\n",
      "\u001b[0m"
     ]
    },
    {
     "ename": "Interpreter Error",
     "evalue": "",
     "output_type": "error",
     "traceback": [
      "Interpreter Error: "
     ]
    }
   ],
   "source": [
    "template<>class complex<double>\n",
    "{\n",
    "public:\n",
    "    constexpr complex(double re=0.0 , double im=0.0):\n",
    "    constexpr complex(const complex<float>&);\n",
    "    explicit constexpr complex(const complex<long double>&);\n",
    "    \n",
    "    constexpr double read(); //read the real part\n",
    "    void real(double); // set the real part\n",
    "    constexpr double imag();\n",
    "    void imag(double);\n",
    "    \n",
    "    complex<double>& operator = (double);\n",
    "    complex<double>& operator+=(double);\n",
    "};"
   ]
  },
  {
   "cell_type": "code",
   "execution_count": 8,
   "id": "02f9f6f6",
   "metadata": {},
   "outputs": [],
   "source": [
    "constexpr complex<float> z1{1,2}"
   ]
  },
  {
   "cell_type": "code",
   "execution_count": 9,
   "id": "922830a6",
   "metadata": {},
   "outputs": [
    {
     "data": {
      "text/plain": [
       "(1,2)"
      ]
     },
     "execution_count": 9,
     "metadata": {},
     "output_type": "execute_result"
    }
   ],
   "source": [
    "z1"
   ]
  },
  {
   "cell_type": "code",
   "execution_count": 10,
   "id": "c1736b8d",
   "metadata": {},
   "outputs": [],
   "source": [
    "constexpr double re = z1.real();"
   ]
  },
  {
   "cell_type": "code",
   "execution_count": 12,
   "id": "7ba31a0a",
   "metadata": {},
   "outputs": [],
   "source": [
    "constexpr double im = z1.imag();"
   ]
  },
  {
   "cell_type": "code",
   "execution_count": 13,
   "id": "ff0234a5",
   "metadata": {},
   "outputs": [],
   "source": [
    "constexpr complex<double> z2{re,im}//z2 becomes a copy of z1"
   ]
  },
  {
   "cell_type": "code",
   "execution_count": 14,
   "id": "a3257622",
   "metadata": {},
   "outputs": [
    {
     "data": {
      "text/plain": [
       "(1,2)"
      ]
     },
     "execution_count": 14,
     "metadata": {},
     "output_type": "execute_result"
    }
   ],
   "source": [
    "z2"
   ]
  },
  {
   "cell_type": "code",
   "execution_count": 16,
   "id": "d1c1e628",
   "metadata": {},
   "outputs": [],
   "source": [
    "constexpr complex<double> z3{z1};//z3 also becomes a copy of z1"
   ]
  },
  {
   "cell_type": "markdown",
   "id": "75836d60",
   "metadata": {},
   "source": [
    "Addresss Constant Expressions"
   ]
  },
  {
   "cell_type": "code",
   "execution_count": 25,
   "id": "0d13219d",
   "metadata": {},
   "outputs": [
    {
     "data": {
      "text/plain": [
       "\"sdf\""
      ]
     },
     "execution_count": 25,
     "metadata": {},
     "output_type": "execute_result"
    }
   ],
   "source": [
    "constexpr const char* p1 = \"asdf\";\n",
    "constexpr const char* p2 = p1;\n",
    "constexpr const char* p3 = p1+2;\n",
    "constexpr char c = p1[2];\n",
    "p1+1"
   ]
  },
  {
   "cell_type": "markdown",
   "id": "29c57430",
   "metadata": {},
   "source": [
    "Implicit Type Conversion"
   ]
  },
  {
   "cell_type": "code",
   "execution_count": 26,
   "id": "2cd96f47",
   "metadata": {},
   "outputs": [],
   "source": [
    "//A conversion is value preserving if you can convert a value and then convert the result \n",
    "//back to its original type and get the original value.\n",
    "//If a conversion cannot do that it is a narrowing conversion. This section provides\n",
    "// a description of conversion rules, conversion problemsn, and their resolution."
   ]
  },
  {
   "cell_type": "markdown",
   "id": "7221d889",
   "metadata": {},
   "source": [
    "Promotions"
   ]
  },
  {
   "cell_type": "code",
   "execution_count": 27,
   "id": "146a38a6",
   "metadata": {},
   "outputs": [],
   "source": [
    "//examples include conversion of True to 1 and False to 0"
   ]
  },
  {
   "cell_type": "markdown",
   "id": "8a32ac6e",
   "metadata": {},
   "source": [
    "Conversions"
   ]
  },
  {
   "cell_type": "code",
   "execution_count": 28,
   "id": "a518e767",
   "metadata": {},
   "outputs": [],
   "source": [
    "//The fundamental types can be implicityly converted into each other ina bewildering numbber of ways . In my opinion too many conversions are allowed.For example\n",
    "\n",
    "void f(double d)\n",
    "{\n",
    "    char c =d;\n",
    "}"
   ]
  },
  {
   "cell_type": "code",
   "execution_count": 33,
   "id": "046c50d6",
   "metadata": {},
   "outputs": [
    {
     "name": "stderr",
     "output_type": "stream",
     "text": [
      "\u001b[1minput_line_51:4:12: \u001b[0m\u001b[0;1;31merror: \u001b[0m\u001b[1mtype 'double' cannot be narrowed to 'char' in initializer list [-Wc++11-narrowing]\u001b[0m\n",
      "    char c{d}; //shows error\n",
      "\u001b[0;1;32m           ^\n",
      "\u001b[0m\u001b[1minput_line_51:4:12: \u001b[0m\u001b[0;1;30mnote: \u001b[0minsert an explicit cast to silence this issue\u001b[0m\n",
      "    char c{d}; //shows error\n",
      "\u001b[0;1;32m           ^\n",
      "\u001b[0m\u001b[0;32m           static_cast<char>( )\n",
      "\u001b[0m"
     ]
    },
    {
     "ename": "Interpreter Error",
     "evalue": "",
     "output_type": "error",
     "traceback": [
      "Interpreter Error: "
     ]
    }
   ],
   "source": [
    "//also {} initialize syntax prevents narrowing\n",
    "\n",
    "void f(double d)\n",
    "{\n",
    "    char c{d}; //shows error\n",
    "}"
   ]
  },
  {
   "cell_type": "code",
   "execution_count": 34,
   "id": "cf2d2bf0",
   "metadata": {},
   "outputs": [],
   "source": [
    "//Integral Conversions"
   ]
  },
  {
   "cell_type": "code",
   "execution_count": 35,
   "id": "4555642d",
   "metadata": {},
   "outputs": [
    {
     "name": "stderr",
     "output_type": "stream",
     "text": [
      "\u001b[1minput_line_53:2:21: \u001b[0m\u001b[0;1;35mwarning: \u001b[0m\u001b[1mimplicit conversion from 'int' to 'unsigned char' changes value from 1023 to 255 [-Wconstant-conversion]\u001b[0m\n",
      " unsigned char uc = 1023\n",
      "\u001b[0;1;32m               ~~   ^~~~\n",
      "\u001b[0m"
     ]
    }
   ],
   "source": [
    "unsigned char uc = 1023"
   ]
  },
  {
   "cell_type": "code",
   "execution_count": 37,
   "id": "5d751b45",
   "metadata": {},
   "outputs": [
    {
     "name": "stderr",
     "output_type": "stream",
     "text": [
      "\u001b[1minput_line_56:2:19: \u001b[0m\u001b[0;1;35mwarning: \u001b[0m\u001b[1mimplicit conversion from 'int' to 'signed char' changes value from 1023 to -1 [-Wconstant-conversion]\u001b[0m\n",
      " signed char sc = 1023\n",
      "\u001b[0;1;32m             ~~   ^~~~\n",
      "\u001b[0m"
     ]
    }
   ],
   "source": [
    "signed char sc = 1023"
   ]
  },
  {
   "cell_type": "code",
   "execution_count": 38,
   "id": "43a998cd",
   "metadata": {},
   "outputs": [
    {
     "data": {
      "text/plain": [
       "'0xff'"
      ]
     },
     "execution_count": 38,
     "metadata": {},
     "output_type": "execute_result"
    }
   ],
   "source": [
    "sc"
   ]
  },
  {
   "cell_type": "code",
   "execution_count": 39,
   "id": "16712d82",
   "metadata": {},
   "outputs": [],
   "source": [
    "//Imp Pointer and reference Conversions\n",
    "\n",
    "//any pointer to an object type can be implicityly converted to a void*\n",
    "//If a pointer refers to zero instead it can be said that the pointer points to nullptr"
   ]
  },
  {
   "cell_type": "code",
   "execution_count": 40,
   "id": "1fd4a879",
   "metadata": {},
   "outputs": [],
   "source": [
    "void f(int* p, int i)\n",
    "{\n",
    "    bool is_not_zero = p; //true if p!=0\n",
    "    bool b2 = i;          //true if i!=0\n",
    "}"
   ]
  },
  {
   "cell_type": "code",
   "execution_count": null,
   "id": "5ff88b7a",
   "metadata": {},
   "outputs": [],
   "source": [
    "f"
   ]
  }
 ],
 "metadata": {
  "kernelspec": {
   "display_name": "C++11",
   "language": "python",
   "name": "xcpp11"
  },
  "language_info": {
   "codemirror_mode": "text/x-c++src",
   "file_extension": ".cpp",
   "mimetype": "text/x-c++src",
   "name": "python",
   "version": "3.11.0 | packaged by conda-forge | (main, Oct 25 2022, 06:24:40) [GCC 10.4.0]"
  },
  "vscode": {
   "interpreter": {
    "hash": "f1d1fc19b365f9ad1716256121e630045ec3968373de9ab098681291a9c3ca4f"
   }
  }
 },
 "nbformat": 4,
 "nbformat_minor": 5
}
