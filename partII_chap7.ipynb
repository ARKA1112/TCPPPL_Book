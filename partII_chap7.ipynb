{
 "cells": [
  {
   "cell_type": "code",
   "execution_count": 11,
   "metadata": {},
   "outputs": [],
   "source": [
    "//Pointers Arrays and References\n",
    "#include <iostream>\n",
    "#include <array>\n",
    "//#include <string>\n",
    "using namespace std;"
   ]
  },
  {
   "cell_type": "code",
   "execution_count": 8,
   "metadata": {},
   "outputs": [],
   "source": [
    "//pointers\n",
    "\n",
    "//for a type T, T* is the type \"pointer to T\".That is, a variable of type T* can hold the addresss of an object of type T\n",
    "\n",
    "\n",
    "char c = 'a';\n",
    "char* p = &c; //p hold the address of c; & is the address-of operator\n",
    "\n",
    "//Means p which is a type of char* can hold the address of an object of type char\n",
    "\n",
    "\n"
   ]
  },
  {
   "cell_type": "code",
   "execution_count": 31,
   "metadata": {},
   "outputs": [
    {
     "data": {
      "text/plain": [
       "'a'"
      ]
     },
     "execution_count": 31,
     "metadata": {},
     "output_type": "execute_result"
    }
   ],
   "source": [
    "char c = 'a';\n",
    "char* p = &c;\n",
    "char c2 =  *p; //c2 == 'a';* is the dereferance operator\n",
    "c2\n",
    "\n",
    "//In order to extract the value you have to dereference the pointer"
   ]
  },
  {
   "cell_type": "code",
   "execution_count": 32,
   "metadata": {},
   "outputs": [],
   "source": [
    "int a = 9;\n",
    "auto* p = &a;\n",
    "auto c2 = *p;\n"
   ]
  },
  {
   "cell_type": "code",
   "execution_count": 33,
   "metadata": {},
   "outputs": [],
   "source": [
    "//The object pointed to by p is c, and the value stored in c is 'a', so the value of *p assigned to c2 is 'a'."
   ]
  },
  {
   "cell_type": "code",
   "execution_count": 34,
   "metadata": {},
   "outputs": [],
   "source": [
    "//Most machines can address a byte. Those that cant tend to have hardware to extract bytest from words, On the other hand few machines can directly address individual bit. Consequntly the samllest object that can be independently allocated and pointed to using a built in pointer type is a char.  Note that a bool occupies at least as much space as a char. To store smaller values more compactly you can use the bitwise logical operations\n",
    "\n",
    "\n",
    "//Similar sized built in pointer types ------ char, bool\n",
    "\n",
    "int* pi; //pointer to int\n",
    "char** ppc;// pointer to pointer to char\n",
    "\n",
    "int* ap[15];//array with 15 pointers which points to int\n",
    "\n",
    "int(*fp)(char*);//pointer to function taking a char* argument; return an int\n",
    "\n",
    "int* f(char*) //function which takes pointers which points to character and returns a pointer which is a pointer to int"
   ]
  },
  {
   "cell_type": "markdown",
   "metadata": {},
   "source": [
    "VOID*"
   ]
  },
  {
   "cell_type": "code",
   "execution_count": 35,
   "metadata": {},
   "outputs": [],
   "source": [
    "//A void* is used as a pointer to an object of unknown type"
   ]
  },
  {
   "cell_type": "code",
   "execution_count": null,
   "metadata": {},
   "outputs": [],
   "source": [
    "void f(int* pi)\n",
    "{\n",
    "    void* pv = pi; //ok implicit conversion of int* to void*\n",
    "    *pv; //error: cannot dereference void\n",
    "    ++pv;//error: size of the object pointed to is unknown\n",
    "\n",
    "    int* pi2 = static_cast<int*>(pv); //explicit conversion back to int*\n",
    "\n",
    "    double* pd1 = pv; //error: cannot convert from void\n",
    "    double* pd2 = pi; //error\n",
    "    double* pd3 = static_cast<double*>(pv);//unsafe\n",
    "}"
   ]
  },
  {
   "cell_type": "code",
   "execution_count": 37,
   "metadata": {},
   "outputs": [],
   "source": [
    "//The primary use for void* is for passing pointers to functions that are not allowed to make assumptions about the type of the object and for returning untyped objects from functions. to use such an object we must use explicit type conversion.\n",
    "\n",
    "void* my_alloc(size_t n);\n",
    "\n",
    "//Pointer to functions and pointers to members cannot be assigned to void*"
   ]
  },
  {
   "cell_type": "markdown",
   "metadata": {},
   "source": [
    "NullPtr"
   ]
  },
  {
   "cell_type": "code",
   "execution_count": null,
   "metadata": {},
   "outputs": [],
   "source": [
    "//The literal nullptr represents the null pointer, that is a pointer that does not point to an object.It can be assigned to any pointer type but not to other built in types\n",
    "\n",
    "int* pi = nullptr; //works\n",
    "double* pd = nullptr; //works, points to nothing\n",
    "\n",
    "int i  = nullptr; // error: i is not a pointer"
   ]
  },
  {
   "cell_type": "code",
   "execution_count": 40,
   "metadata": {},
   "outputs": [],
   "source": [
    "//There is just one nullptr for every pointer type rather than a null pointer for each pointer type"
   ]
  },
  {
   "cell_type": "code",
   "execution_count": null,
   "metadata": {},
   "outputs": [],
   "source": [
    "//Bfore nullptr 0 was used\n",
    "\n",
    "int* a = 0; //nullptr\n"
   ]
  },
  {
   "cell_type": "markdown",
   "metadata": {},
   "source": [
    "Arrays"
   ]
  },
  {
   "cell_type": "code",
   "execution_count": null,
   "metadata": {},
   "outputs": [],
   "source": [
    "//For a type T, T[size] is an array of size elements of type T. these are indexed form 0 to size-1\n",
    "\n",
    "float v[3]; ///Uninitialized 3 elements of float\n",
    "char* a[32]; // an array of 32 pointers to char\n",
    "\n",
    "void f()\n",
    "{\n",
    "    int aa[10]; //arrays of 10 integers\n",
    "    aa[6] = 9; //assign 9 to the 6th index of the array\n",
    "    int x = aa[99]; //undefined behaviour//also out of range\n",
    "}"
   ]
  },
  {
   "cell_type": "code",
   "execution_count": null,
   "metadata": {},
   "outputs": [],
   "source": [
    "//Also the number of elements of the array, the array bound must be a constant expression. If you neeed variable bounds use a vector\n",
    "\n",
    "void f(int n)\n",
    "{\n",
    "    int v1[n]; //err: array size nota a constant expression\n",
    "    vector<int> v2(n); //OK vector with n int elements\n",
    "}"
   ]
  },
  {
   "cell_type": "code",
   "execution_count": 48,
   "metadata": {},
   "outputs": [],
   "source": [
    "//Multidim arrays are represented as arrays of arrays"
   ]
  },
  {
   "cell_type": "code",
   "execution_count": null,
   "metadata": {},
   "outputs": [],
   "source": [
    "//An array can be allocated statically, on the stack and on the free store\n",
    "\n",
    "int a1[10]; //10 ints in static storage\n",
    "\n",
    "void f1()\n",
    "{\n",
    "    int a2[20]; //20 ints on the stack\n",
    "    int* p = new int[40];   //40 ints on the free store\n",
    "}"
   ]
  },
  {
   "cell_type": "code",
   "execution_count": null,
   "metadata": {},
   "outputs": [],
   "source": [
    "//Array Initializers\n",
    "\n",
    "int v1[] = {1,2,3,4};\n",
    "char v2[4] = {'a','b','c','0'};\n",
    "\n",
    "//also it is an error if surplus elements are supplied if wrt the size\n",
    "\n",
    "char v3[3] = {'a','b',0};\n",
    "char v4[3] = {'a', 'b', 0};\n",
    "\n",
    "//also if few elements are supplied than that of mentioned 0 is used for the rest\n",
    "\n",
    "\n",
    "int v[8] = {1,23,4,5};\n",
    "v;\n",
    "\n",
    "//which is equivalent to\n",
    "\n",
    "int v5[] = {1,2,3,4,0,0,0,0};\n",
    "\n",
    "\n",
    "//There is no built in copy operation for arrays. You cannot initialize one array with another(not even of exactly the same type), and there is no array assignment:\n",
    "\n",
    "int v6[8] = v5; //error: cannot copy an array\n",
    "\n",
    "v6 = v5; //error no array assignment"
   ]
  },
  {
   "cell_type": "markdown",
   "metadata": {},
   "source": [
    "String Literals"
   ]
  },
  {
   "cell_type": "code",
   "execution_count": 98,
   "metadata": {},
   "outputs": [],
   "source": [
    "std::string a1 {\"This is a string\"};\n",
    "sizeof(\"Bohr\"); //A string literal contains one more character than it appears to have; it is terminated by the null character,'\\0', with value 0\n",
    "\n",
    "//THe type of string literal is array of the appropriate number of const characters\n",
    "\n",
    "const char v[6]{};\n"
   ]
  },
  {
   "cell_type": "code",
   "execution_count": null,
   "metadata": {},
   "outputs": [],
   "source": [
    "void f()\n",
    "{\n",
    "    char* p = \"Plato\"; //error, but accepted in pre C++11 standard code\n",
    "    p[4] = '4';  // error: assignment to const\n",
    "}\n",
    "\n"
   ]
  },
  {
   "cell_type": "code",
   "execution_count": 103,
   "metadata": {},
   "outputs": [],
   "source": [
    "//If we want a string that we are guaranteed to be able to modify, we must place the characters in a non const array:\n",
    "\n",
    "void f()\n",
    "{\n",
    "    char p[] {\"zeno\"}; //p is an array of 5 char\n",
    "    p[0] = {'r'};   //error: assignment to const\n",
    "}\n"
   ]
  },
  {
   "cell_type": "code",
   "execution_count": 108,
   "metadata": {},
   "outputs": [],
   "source": [
    "//A string literal is statically allocated so that it is safe to return one from a function. For example:\n",
    "\n",
    "const char* error_message(int i)\n",
    "{\n",
    "    return \"range error\";\n",
    "}\n",
    "\n"
   ]
  },
  {
   "cell_type": "code",
   "execution_count": 109,
   "metadata": {},
   "outputs": [],
   "source": [
    "// The memory holding \"range error\" will not go away after a call of error_message()\n",
    "\n",
    "const char* p = \"heraclitus\";\n",
    "const char* q = \"heraclitus\";"
   ]
  },
  {
   "cell_type": "code",
   "execution_count": null,
   "metadata": {},
   "outputs": [],
   "source": [
    "void g()\n",
    "{\n",
    "    if(p==q)\n",
    "    {\n",
    "        std::cout << \" one!\\n\";\n",
    "    }\n",
    "}\n",
    "\n",
    "//Note that == compares addresses when applied to pointers and not the values pointed to"
   ]
  },
  {
   "cell_type": "code",
   "execution_count": 116,
   "metadata": {},
   "outputs": [],
   "source": [
    "//The empty string is written as a pair of adjacent double quotes, \"\", and has the type const\n",
    "//char[1]. The one character of the empty string is the terminating '\\0'."
   ]
  },
  {
   "cell_type": "code",
   "execution_count": 122,
   "metadata": {},
   "outputs": [
    {
     "name": "stdout",
     "output_type": "stream",
     "text": [
      "beep at the end of the message\n"
     ]
    },
    {
     "name": "stderr",
     "output_type": "stream",
     "text": [
      "In file included from input_line_9:1:\n",
      "/home/susearc/miniconda3/envs/xeus-cling/include/xcpp/xmime.hpp:49:30: error: no viable overloaded '='\n",
      "        bundle[\"text/plain\"] = cling::printValue(&value);\n",
      "        ~~~~~~~~~~~~~~~~~~~~ ^ ~~~~~~~~~~~~~~~~~~~~~~~~~\n",
      "input_line_178:2:2: note: in instantiation of function template specialization 'xcpp::mime_bundle_repr<std::basic_ostream<char> >' requested here\n",
      " mime_bundle_repr(*(*(std::basic_ostream<char, std::char_traits<char> >**)0x7ffc14c6bbd8));\n",
      " ^\n",
      "/home/susearc/miniconda3/envs/xeus-cling/include/nlohmann/json.hpp:2174:17: note: candidate function not viable: no known conversion from 'std::string' (aka 'basic_string<char>') to 'nlohmann::basic_json<std::map, std::vector, std::__cxx11::basic_string<char>, bool, long, unsigned long, double, std::allocator, adl_serializer, std::vector<unsigned char, std::allocator<unsigned char> > >' for 1st argument\n",
      "    basic_json& operator=(basic_json other) noexcept (\n",
      "                ^\n"
     ]
    },
    {
     "data": {},
     "execution_count": 122,
     "metadata": {},
     "output_type": "execute_result"
    }
   ],
   "source": [
    "cout << \"beep at the end of the message\\a\\n\""
   ]
  },
  {
   "cell_type": "code",
   "execution_count": 123,
   "metadata": {},
   "outputs": [],
   "source": [
    "char alpha[] = \"abcdefghijklmnopqrstuvwxyz\";"
   ]
  },
  {
   "cell_type": "markdown",
   "metadata": {},
   "source": [
    "Raw Character Strings"
   ]
  },
  {
   "cell_type": "code",
   "execution_count": 126,
   "metadata": {},
   "outputs": [],
   "source": [
    "string s = \"\\\\w\\\\\\\\w\""
   ]
  },
  {
   "cell_type": "code",
   "execution_count": 128,
   "metadata": {},
   "outputs": [],
   "source": [
    "//To avoid confusion about which backslash is which we can use\n",
    "\n",
    "string s = R\"(\\w\\\\w)\"  //The R notation"
   ]
  },
  {
   "cell_type": "code",
   "execution_count": 131,
   "metadata": {},
   "outputs": [
    {
     "data": {
      "text/plain": [
       "\"\"quoted string\"\""
      ]
     },
     "execution_count": 131,
     "metadata": {},
     "output_type": "execute_result"
    }
   ],
   "source": [
    "//for example\n",
    "string s = R\"(\"quoted string\")\";  //Is the quoted string\n",
    "s"
   ]
  },
  {
   "cell_type": "code",
   "execution_count": null,
   "metadata": {},
   "outputs": [],
   "source": [
    "//SO how do we get teh character sequence )\" into a raw string literal?\n",
    "//Fortunately it is a rare\n",
    "\n",
    "R\"***(\"quoted string containing the usual terminator(\"))\")***\"\n",
    "//\"quoted string containing the usual terminator (\"))\""
   ]
  },
  {
   "cell_type": "code",
   "execution_count": 135,
   "metadata": {},
   "outputs": [],
   "source": [
    "//unlike nonraw string literals , a raw string literal can contain a newline\n",
    "\n",
    "string counts{R\"(1\n",
    "22\n",
    "333)\"};\n",
    "\n",
    "//is equivalent to \n",
    "string x {\"1\\n22\\n333\"};"
   ]
  },
  {
   "cell_type": "markdown",
   "metadata": {},
   "source": [
    "Larger Character sets"
   ]
  },
  {
   "cell_type": "code",
   "execution_count": 9,
   "metadata": {},
   "outputs": [],
   "source": [
    "int i = 0, &r1 = i;\n",
    "double d = 0, &r2 = d;"
   ]
  },
  {
   "cell_type": "code",
   "execution_count": 18,
   "metadata": {},
   "outputs": [],
   "source": [
    "int i, &ri = i;\n"
   ]
  },
  {
   "cell_type": "code",
   "execution_count": 19,
   "metadata": {},
   "outputs": [],
   "source": [
    "i = 5; ri = 10;"
   ]
  },
  {
   "cell_type": "code",
   "execution_count": 20,
   "metadata": {},
   "outputs": [
    {
     "name": "stdout",
     "output_type": "stream",
     "text": [
      "10 \n"
     ]
    }
   ],
   "source": [
    "std::cout<<i<<\" \"<<std::endl;"
   ]
  },
  {
   "cell_type": "code",
   "execution_count": 43,
   "metadata": {},
   "outputs": [
    {
     "data": {
      "text/plain": [
       "0"
      ]
     },
     "execution_count": 43,
     "metadata": {},
     "output_type": "execute_result"
    }
   ],
   "source": [
    "int ival = 10;\n",
    "int &p = ival;\n",
    "int *q;\n",
    "q = &ival;\n",
    "*q = 0;\n",
    "ival"
   ]
  },
  {
   "cell_type": "code",
   "execution_count": 44,
   "metadata": {},
   "outputs": [],
   "source": [
    "//Pointers always points to objects and never to direct types"
   ]
  },
  {
   "cell_type": "code",
   "execution_count": 47,
   "metadata": {},
   "outputs": [
    {
     "data": {
      "text/plain": [
       "10"
      ]
     },
     "execution_count": 47,
     "metadata": {},
     "output_type": "execute_result"
    }
   ],
   "source": [
    "ival = 10;\n",
    "ival"
   ]
  },
  {
   "cell_type": "code",
   "execution_count": 48,
   "metadata": {},
   "outputs": [],
   "source": [
    "int *pi"
   ]
  },
  {
   "cell_type": "code",
   "execution_count": 52,
   "metadata": {},
   "outputs": [
    {
     "data": {
      "text/plain": [
       "@0x7ffce9655708"
      ]
     },
     "execution_count": 52,
     "metadata": {},
     "output_type": "execute_result"
    }
   ],
   "source": [
    "pi = &ival"
   ]
  },
  {
   "cell_type": "code",
   "execution_count": 58,
   "metadata": {},
   "outputs": [
    {
     "data": {
      "text/plain": [
       "@0x7ffce9655708"
      ]
     },
     "execution_count": 58,
     "metadata": {},
     "output_type": "execute_result"
    }
   ],
   "source": [
    "*pi = 0;\n",
    "&pi"
   ]
  },
  {
   "cell_type": "markdown",
   "metadata": {},
   "source": [
    "Pointers into Arrays"
   ]
  },
  {
   "cell_type": "code",
   "execution_count": 60,
   "metadata": {},
   "outputs": [],
   "source": [
    "//In C++, pointers and arrays are closely related. The name of an array can be used\n",
    "// as a pointer to its initial element."
   ]
  },
  {
   "cell_type": "code",
   "execution_count": 65,
   "metadata": {},
   "outputs": [],
   "source": [
    "int v[] = {1,2,3,4};\n",
    "int* p1 = v;  //pointer to initial element\n",
    "int* p2 = &v[0]; // also pointer to initial element\n",
    "int* p3 = v+4; //Pointer to one beyond last element"
   ]
  },
  {
   "cell_type": "code",
   "execution_count": 67,
   "metadata": {},
   "outputs": [
    {
     "data": {
      "text/plain": [
       "-147549584"
      ]
     },
     "execution_count": 67,
     "metadata": {},
     "output_type": "execute_result"
    }
   ],
   "source": [
    "*p3"
   ]
  },
  {
   "cell_type": "code",
   "execution_count": 72,
   "metadata": {},
   "outputs": [],
   "source": [
    "int* p4 = v+8;//undefined dont do it\n",
    "int* p5 = v+7;//beyoind the end, undefined:dont do it"
   ]
  },
  {
   "cell_type": "code",
   "execution_count": 75,
   "metadata": {},
   "outputs": [
    {
     "name": "stderr",
     "output_type": "stream",
     "text": [
      "\u001b[1minput_line_126:1:16: \u001b[0m\u001b[0;1;31merror: \u001b[0m\u001b[1mfunctions that differ only in their return type cannot be overloaded\u001b[0m\n",
      "extern \"C\" int strlen(const char*);\n",
      "\u001b[0;1;32m           ~~~ ^\n",
      "\u001b[0m\u001b[1m/home/susearc/miniconda3/envs/xeus-cling/x86_64-conda-linux-gnu/sysroot/usr/include/string.h:399:15: \u001b[0m\u001b[0;1;30mnote: \u001b[0mprevious declaration is here\u001b[0m\n",
      "extern size_t strlen (__const char *__s)\n",
      "\u001b[0;1;32m       ~~~~~~ ^\n",
      "\u001b[0m"
     ]
    },
    {
     "ename": "Interpreter Error",
     "evalue": "",
     "output_type": "error",
     "traceback": [
      "Interpreter Error: "
     ]
    }
   ],
   "source": [
    "#include <string.h>\n",
    "extern \"C\" int strlen(const char*);"
   ]
  },
  {
   "cell_type": "code",
   "execution_count": 76,
   "metadata": {},
   "outputs": [],
   "source": [
    "char v[] = \"Annemarie\""
   ]
  },
  {
   "cell_type": "code",
   "execution_count": 1,
   "metadata": {},
   "outputs": [],
   "source": [
    "//Navigating Arrays"
   ]
  },
  {
   "cell_type": "code",
   "execution_count": 4,
   "metadata": {},
   "outputs": [
    {
     "name": "stderr",
     "output_type": "stream",
     "text": [
      "\u001b[1minput_line_12:5:9: \u001b[0m\u001b[0;1;31merror: \u001b[0m\u001b[1muse of undeclared identifier 'use'\u001b[0m\n",
      "        use(v[i]);\n",
      "\u001b[0;1;32m        ^\n",
      "\u001b[0m"
     ]
    },
    {
     "ename": "Interpreter Error",
     "evalue": "",
     "output_type": "error",
     "traceback": [
      "Interpreter Error: "
     ]
    }
   ],
   "source": [
    "//Acces can be achieved either through a pointer to an array plus an index or through a pointer to an element.\n",
    "\n",
    "void fi(char v[])\n",
    "{\n",
    "    for(int i=0;v[i]!=0;++i)\n",
    "        use(v[i]);\n",
    "}"
   ]
  },
  {
   "cell_type": "code",
   "execution_count": 12,
   "metadata": {},
   "outputs": [],
   "source": [
    "template<typename T>\n",
    "int byte_diff(T* p, T* q)\n",
    "{\n",
    "    return reinterpret_cast<char*>(q) - reinterpret_cast<char*>(p);\n",
    "}"
   ]
  },
  {
   "cell_type": "code",
   "execution_count": 7,
   "metadata": {},
   "outputs": [],
   "source": [
    "int ma[3][5];"
   ]
  },
  {
   "cell_type": "code",
   "execution_count": 8,
   "metadata": {},
   "outputs": [],
   "source": [
    "//Multidimensional arrays.\n",
    "//for a 3 by 5 array.\n",
    "void int_ma()\n",
    "{\n",
    "    int ma[3][5];\n",
    "    for (int i=0;i!=3;++i)\n",
    "        for (int j=0; j!=5;++j)\n",
    "            ma[i][j] = 10*i+j;\n",
    "}"
   ]
  },
  {
   "cell_type": "code",
   "execution_count": 9,
   "metadata": {},
   "outputs": [],
   "source": [
    "void print_ma()\n",
    "{\n",
    "    for(int i=0;i!=3;i++)\n",
    "    {\n",
    "        for (int j =0; j!=5;j++)\n",
    "            cout << ma[i][j] <<'\\t';\n",
    "        cout <<'\\n';\n",
    "    }\n",
    "}"
   ]
  },
  {
   "cell_type": "code",
   "execution_count": 10,
   "metadata": {},
   "outputs": [
    {
     "name": "stdout",
     "output_type": "stream",
     "text": [
      "0\t0\t0\t0\t0\t\n",
      "0\t0\t0\t0\t0\t\n",
      "0\t0\t0\t0\t0\t\n"
     ]
    }
   ],
   "source": [
    "print_ma()"
   ]
  },
  {
   "cell_type": "code",
   "execution_count": 11,
   "metadata": {},
   "outputs": [],
   "source": [
    "//Passing Arrays"
   ]
  },
  {
   "cell_type": "code",
   "execution_count": 12,
   "metadata": {},
   "outputs": [],
   "source": [
    "//Arrays cannot be directly passe dby value. Instead an array is passed as a pointer to its first element\n",
    "\n"
   ]
  },
  {
   "cell_type": "code",
   "execution_count": 13,
   "metadata": {},
   "outputs": [],
   "source": [
    "void comp(double arg[10])\n",
    "{\n",
    "    for (int i=0;i!=10;++i){\n",
    "        \n",
    "        arg[i]+=99;\n",
    "        cout<<arg[i];\n",
    "        cout<<'\\n';\n",
    "    }\n",
    "    cout<<'\\t';\n",
    "}"
   ]
  },
  {
   "cell_type": "code",
   "execution_count": 14,
   "metadata": {},
   "outputs": [],
   "source": [
    "void f()\n",
    "{\n",
    "    double a1[10];\n",
    "    double a2[5];\n",
    "    double a3[100];\n",
    "    \n",
    "    comp(a1);\n",
    "    comp(a2);\n",
    "    comp(a3);\n",
    "}"
   ]
  },
  {
   "cell_type": "code",
   "execution_count": 27,
   "metadata": {},
   "outputs": [],
   "source": [
    "double a2[5]"
   ]
  },
  {
   "cell_type": "code",
   "execution_count": 16,
   "metadata": {},
   "outputs": [
    {
     "name": "stdout",
     "output_type": "stream",
     "text": [
      "99\n",
      "99\n",
      "99\n",
      "99\n",
      "99\n",
      "-nan\n",
      "99\n",
      "99\n",
      "99\n",
      "99\n",
      "\t99\n",
      "99\n",
      "99\n",
      "99\n",
      "99\n",
      "99\n",
      "198\n",
      "198\n",
      "198\n",
      "198\n",
      "\t99\n",
      "99\n",
      "99\n",
      "99\n",
      "99\n",
      "99\n",
      "99\n",
      "99\n",
      "99\n",
      "-nan\n",
      "\t"
     ]
    }
   ],
   "source": [
    "f()"
   ]
  },
  {
   "cell_type": "code",
   "execution_count": 17,
   "metadata": {
    "scrolled": true
   },
   "outputs": [
    {
     "name": "stdout",
     "output_type": "stream",
     "text": [
      "99\n",
      "99\n",
      "99\n",
      "99\n",
      "99\n",
      "99\n",
      "99\n",
      "99\n",
      "99\n",
      "99\n",
      "\t"
     ]
    }
   ],
   "source": [
    "comp(a2)"
   ]
  },
  {
   "cell_type": "code",
   "execution_count": 28,
   "metadata": {},
   "outputs": [],
   "source": [
    "void comp(double* arg)\n",
    "{\n",
    "    for (int i=0; i!=10; i++)\n",
    "    {\n",
    "        arg[i]+=99;\n",
    "        cout<<arg[i]<<'\\t';\n",
    "    }\n",
    "}"
   ]
  },
  {
   "cell_type": "code",
   "execution_count": 29,
   "metadata": {},
   "outputs": [
    {
     "name": "stdout",
     "output_type": "stream",
     "text": [
      "99\t99\t99\t99\t99\t99\t99\t99\t99\t99\t"
     ]
    }
   ],
   "source": [
    "comp(a2)"
   ]
  },
  {
   "cell_type": "code",
   "execution_count": 5,
   "metadata": {},
   "outputs": [],
   "source": [
    "int ma[3][5]"
   ]
  },
  {
   "cell_type": "code",
   "execution_count": 13,
   "metadata": {},
   "outputs": [],
   "source": [
    "\n",
    "//incorrect solution\n",
    "void print_mij(int m[1][1],int dim1,int dim2)\n",
    "{\n",
    "    for (int i=0;i!=dim1;i++)\n",
    "    {\n",
    "        for (int j = 0;j!=dim2;j++)\n",
    "            cout<<m[i][j]<<'\\t';\n",
    "    }\n",
    "}"
   ]
  },
  {
   "cell_type": "code",
   "execution_count": 14,
   "metadata": {},
   "outputs": [
    {
     "name": "stdout",
     "output_type": "stream",
     "text": [
      "0\t0\t0\t0\t0\t0\t0\t0\t0\t0\t0\t0\t0\t0\t0\t0\t0\t0\t0\t0\t0\t0\t0\t0\t"
     ]
    }
   ],
   "source": [
    "print_mij(4,6)"
   ]
  },
  {
   "cell_type": "code",
   "execution_count": 15,
   "metadata": {},
   "outputs": [],
   "source": [
    "//correct solution\n",
    "\n",
    "void print_mij(int* m, int dim1, int dim2)\n",
    "{\n",
    "    for (int i=0;i!=dim1;i++)\n",
    "    {\n",
    "        for (int j = 0; j!=dim2; j++)\n",
    "            cout << m[i*dim2+j]<<'\\t';\n",
    "        cout << '\\n';\n",
    "    }\n",
    "}"
   ]
  },
  {
   "cell_type": "markdown",
   "metadata": {},
   "source": [
    "Pointers and const"
   ]
  },
  {
   "cell_type": "code",
   "execution_count": 17,
   "metadata": {},
   "outputs": [],
   "source": [
    "//C++ offers two related meaning of \"constant\"\n",
    "\n",
    "//constexpr: Evaluate at compile time\n",
    "//const: Do not modify in this scope"
   ]
  },
  {
   "cell_type": "code",
   "execution_count": 19,
   "metadata": {},
   "outputs": [],
   "source": [
    "//To express this notion of immutability after initialization we can cadd const\n",
    "//to the definition of an object\n",
    "\n",
    "const int model = 90;       //model is a const\n",
    "const int v[] = {1,2,3,4};  // v[i] is a const\n",
    "//const int x;                //error no initializer"
   ]
  },
  {
   "cell_type": "code",
   "execution_count": 20,
   "metadata": {},
   "outputs": [],
   "source": [
    "//Declaring something const ensures that its value will not changte within its scope"
   ]
  },
  {
   "cell_type": "code",
   "execution_count": 22,
   "metadata": {},
   "outputs": [],
   "source": [
    "//const char* pc = s is pointer to constant\n",
    "\n",
    "//char *const cp =s is constant pointer"
   ]
  },
  {
   "cell_type": "code",
   "execution_count": 35,
   "metadata": {},
   "outputs": [],
   "source": [
    "char s[] = \"Gorm\""
   ]
  },
  {
   "cell_type": "code",
   "execution_count": 44,
   "metadata": {},
   "outputs": [],
   "source": [
    "const char* pc = s   ///pointer to constant"
   ]
  },
  {
   "cell_type": "code",
   "execution_count": 45,
   "metadata": {},
   "outputs": [
    {
     "name": "stderr",
     "output_type": "stream",
     "text": [
      "\u001b[1minput_line_63:2:8: \u001b[0m\u001b[0;1;31merror: \u001b[0m\u001b[1mread-only variable is not assignable\u001b[0m\n",
      " pc[3] = 'g'  //readonly cos its constant\n",
      "\u001b[0;1;32m ~~~~~ ^\n",
      "\u001b[0m"
     ]
    },
    {
     "ename": "Interpreter Error",
     "evalue": "",
     "output_type": "error",
     "traceback": [
      "Interpreter Error: "
     ]
    }
   ],
   "source": [
    "pc[3] = 'g'  //readonly cos its constant"
   ]
  },
  {
   "cell_type": "code",
   "execution_count": 46,
   "metadata": {},
   "outputs": [],
   "source": [
    "char*  p"
   ]
  },
  {
   "cell_type": "code",
   "execution_count": 48,
   "metadata": {
    "scrolled": true
   },
   "outputs": [],
   "source": [
    "pc = p; //ok\n",
    "char *const cp = s; //constant pointer"
   ]
  },
  {
   "cell_type": "markdown",
   "metadata": {},
   "source": [
    "Pointers and Ownership"
   ]
  },
  {
   "cell_type": "code",
   "execution_count": 53,
   "metadata": {},
   "outputs": [],
   "source": [
    "void confused(int* p)\n",
    "{\n",
    "    // delete p\n",
    "}"
   ]
  },
  {
   "cell_type": "code",
   "execution_count": 60,
   "metadata": {},
   "outputs": [],
   "source": [
    "int global{7};"
   ]
  },
  {
   "cell_type": "markdown",
   "metadata": {},
   "source": [
    "References"
   ]
  },
  {
   "cell_type": "code",
   "execution_count": 61,
   "metadata": {},
   "outputs": [],
   "source": [
    "//A pointer allows us to pass potentally large amounts of data around at low cons\n",
    "//instead of copying the data we simply pass its address as a pointer value. \n",
    "\n",
    "/* To reflect the lvalue/rvalue and cons/non-const distinctions, there are\n",
    "three kind of references\n",
    "\n",
    "lvalue: to refer to objects whose value we want ot change\n",
    "cons ref: to refer to objects whose value we don not want to change\n",
    "rvalue: to refer to objects whose value we do not need to preserve\n",
    "after we have used it*/\n",
    "\n",
    "\n"
   ]
  },
  {
   "cell_type": "markdown",
   "metadata": {},
   "source": [
    "Lvalue References"
   ]
  },
  {
   "cell_type": "code",
   "execution_count": 67,
   "metadata": {},
   "outputs": [],
   "source": [
    "//In a type name the notation X& means reference to X.\n",
    "//It is used for references to lvalues so it is often called an lvalue\n",
    "//reference \n",
    "\n",
    "void f()\n",
    "{\n",
    "    int var = 1;\n",
    "    int& r {var}; // r and var now refer to the same int\n",
    "    int x = r; //x becomes 1\n",
    "    \n",
    "    r = 2;\n",
    "    cout<<var<<r;\n",
    "}"
   ]
  },
  {
   "cell_type": "code",
   "execution_count": 70,
   "metadata": {},
   "outputs": [],
   "source": [
    "//int& r2 will not work because initializer is missing\n",
    "\n",
    "extern int& r3; //OK: r3 initialized elsewhere"
   ]
  },
  {
   "cell_type": "code",
   "execution_count": 71,
   "metadata": {},
   "outputs": [],
   "source": [
    "r3"
   ]
  },
  {
   "cell_type": "code",
   "execution_count": 6,
   "metadata": {},
   "outputs": [
    {
     "data": {
      "text/plain": [
       "1.0000000"
      ]
     },
     "execution_count": 6,
     "metadata": {},
     "output_type": "execute_result"
    }
   ],
   "source": [
    "//double& dr = 1; //error lvalue needed\n",
    "//Hence a reference to an object is needed\n",
    "double var = 1;\n",
    "double& dr {var};\n",
    "var"
   ]
  },
  {
   "cell_type": "code",
   "execution_count": 7,
   "metadata": {},
   "outputs": [
    {
     "data": {
      "text/plain": [
       "1.0000000"
      ]
     },
     "execution_count": 7,
     "metadata": {},
     "output_type": "execute_result"
    }
   ],
   "source": [
    "dr //this is a reference only and not an actual object"
   ]
  },
  {
   "cell_type": "code",
   "execution_count": 8,
   "metadata": {},
   "outputs": [],
   "source": [
    "double temp = double{1}; //first create a temporary with right value"
   ]
  },
  {
   "cell_type": "code",
   "execution_count": 10,
   "metadata": {},
   "outputs": [],
   "source": [
    "const double& cdr{temp}"
   ]
  },
  {
   "cell_type": "code",
   "execution_count": 11,
   "metadata": {},
   "outputs": [
    {
     "data": {
      "text/plain": [
       "1.0000000"
      ]
     },
     "execution_count": 11,
     "metadata": {},
     "output_type": "execute_result"
    }
   ],
   "source": [
    "cdr"
   ]
  },
  {
   "cell_type": "code",
   "execution_count": 28,
   "metadata": {},
   "outputs": [],
   "source": [
    "void incremen(int& aa)\n",
    "{\n",
    "    ++aa;\n",
    "}\n",
    "\n",
    "int x = 1;\n",
    "incremen(x)"
   ]
  },
  {
   "cell_type": "code",
   "execution_count": null,
   "metadata": {},
   "outputs": [
    {
     "data": {
      "text/plain": [
       "2"
      ]
     },
     "execution_count": 29,
     "metadata": {},
     "output_type": "execute_result"
    }
   ],
   "source": [
    "//&& shows rvalues reference"
   ]
  },
  {
   "cell_type": "code",
   "execution_count": 2,
   "metadata": {},
   "outputs": [],
   "source": [
    "string f(string&& s)\n",
    "{\n",
    "    if (s.size())\n",
    "        s[0] = toupper(s[0]);\n",
    "    return s;\n",
    "}\n"
   ]
  },
  {
   "cell_type": "code",
   "execution_count": 3,
   "metadata": {},
   "outputs": [
    {
     "data": {
      "text/plain": [
       "\"Hello\""
      ]
     },
     "execution_count": 3,
     "metadata": {},
     "output_type": "execute_result"
    }
   ],
   "source": [
    "f(\"hello\")"
   ]
  },
  {
   "cell_type": "code",
   "execution_count": 15,
   "metadata": {},
   "outputs": [
    {
     "data": {
      "text/plain": [
       "'@'"
      ]
     },
     "execution_count": 15,
     "metadata": {},
     "output_type": "execute_result"
    }
   ],
   "source": [
    "void fp(char* p)\n",
    "{\n",
    "    while(*p)\n",
    "        std::cout<<++*p;\n",
    "}\n",
    "char p = 64;\n",
    "p"
   ]
  },
  {
   "cell_type": "code",
   "execution_count": 17,
   "metadata": {},
   "outputs": [],
   "source": [
    "//If you want a collection of something that refers \n",
    "//to an object you must use a pointer"
   ]
  },
  {
   "cell_type": "code",
   "execution_count": 24,
   "metadata": {},
   "outputs": [],
   "source": [
    "string x,y;"
   ]
  },
  {
   "cell_type": "code",
   "execution_count": 25,
   "metadata": {},
   "outputs": [],
   "source": [
    "string* a2[] = {&x,&y}"
   ]
  },
  {
   "cell_type": "code",
   "execution_count": 33,
   "metadata": {},
   "outputs": [],
   "source": [
    "void fp1(int* x)\n",
    "{\n",
    "    if (x==nullptr)\n",
    "    {\n",
    "        //novalue\n",
    "    }\n",
    "    else\n",
    "    {\n",
    "        cout<<*x;\n",
    "    }\n",
    "}"
   ]
  },
  {
   "cell_type": "code",
   "execution_count": 34,
   "metadata": {},
   "outputs": [],
   "source": [
    "int a = 12"
   ]
  },
  {
   "cell_type": "code",
   "execution_count": 36,
   "metadata": {},
   "outputs": [
    {
     "name": "stdout",
     "output_type": "stream",
     "text": [
      "12"
     ]
    }
   ],
   "source": [
    "fp1(&a)"
   ]
  },
  {
   "cell_type": "code",
   "execution_count": 56,
   "metadata": {},
   "outputs": [],
   "source": [
    "char* ident(char* p){return p;}"
   ]
  },
  {
   "cell_type": "code",
   "execution_count": 57,
   "metadata": {},
   "outputs": [],
   "source": [
    "char p = 66;"
   ]
  },
  {
   "cell_type": "code",
   "execution_count": 58,
   "metadata": {},
   "outputs": [
    {
     "data": {
      "text/plain": [
       "\"B\""
      ]
     },
     "execution_count": 58,
     "metadata": {},
     "output_type": "execute_result"
    }
   ],
   "source": [
    "ident(&p)"
   ]
  },
  {
   "cell_type": "code",
   "execution_count": 60,
   "metadata": {},
   "outputs": [],
   "source": [
    "//Use containers vector array valarray rather than built in c style arrays"
   ]
  },
  {
   "cell_type": "markdown",
   "metadata": {},
   "source": [
    "Excersise"
   ]
  },
  {
   "cell_type": "code",
   "execution_count": 2,
   "metadata": {},
   "outputs": [],
   "source": [
    "//1"
   ]
  },
  {
   "cell_type": "code",
   "execution_count": 3,
   "metadata": {},
   "outputs": [],
   "source": [
    "char* p;\n"
   ]
  },
  {
   "cell_type": "code",
   "execution_count": 27,
   "metadata": {},
   "outputs": [],
   "source": [
    "int a[10];"
   ]
  },
  {
   "cell_type": "code",
   "execution_count": 33,
   "metadata": {},
   "outputs": [
    {
     "data": {
      "text/plain": [
       "20"
      ]
     },
     "execution_count": 33,
     "metadata": {},
     "output_type": "execute_result"
    }
   ],
   "source": [
    "a[1] = 20"
   ]
  },
  {
   "cell_type": "code",
   "execution_count": 73,
   "metadata": {},
   "outputs": [],
   "source": [
    "int (&b)[10] = a"
   ]
  },
  {
   "cell_type": "code",
   "execution_count": 74,
   "metadata": {},
   "outputs": [
    {
     "data": {
      "text/plain": [
       "{ 0, 20, 0, 0, 0, 0, 0, 0, 0, 0 }"
      ]
     },
     "execution_count": 74,
     "metadata": {},
     "output_type": "execute_result"
    }
   ],
   "source": [
    "b"
   ]
  },
  {
   "cell_type": "code",
   "execution_count": 77,
   "metadata": {},
   "outputs": [],
   "source": [
    "char p[] {'H','E','L','L','O'}"
   ]
  },
  {
   "cell_type": "code",
   "execution_count": 121,
   "metadata": {},
   "outputs": [],
   "source": [
    "char (&q)[5] = p"
   ]
  },
  {
   "cell_type": "code",
   "execution_count": null,
   "metadata": {},
   "outputs": [],
   "source": [
    "//"
   ]
  },
  {
   "cell_type": "code",
   "execution_count": 117,
   "metadata": {},
   "outputs": [],
   "source": [
    "char (*q)[5] = &p"
   ]
  },
  {
   "cell_type": "code",
   "execution_count": 119,
   "metadata": {},
   "outputs": [
    {
     "data": {
      "text/plain": [
       "\"HELLO\""
      ]
     },
     "execution_count": 119,
     "metadata": {},
     "output_type": "execute_result"
    }
   ],
   "source": [
    "*q"
   ]
  },
  {
   "cell_type": "code",
   "execution_count": 120,
   "metadata": {},
   "outputs": [],
   "source": [
    "//\n"
   ]
  },
  {
   "cell_type": "code",
   "execution_count": 197,
   "metadata": {},
   "outputs": [],
   "source": [
    "char* a;\n",
    "char **p{&a};"
   ]
  },
  {
   "cell_type": "code",
   "execution_count": 198,
   "metadata": {},
   "outputs": [
    {
     "data": {
      "text/plain": [
       "nullptr"
      ]
     },
     "execution_count": 198,
     "metadata": {},
     "output_type": "execute_result"
    }
   ],
   "source": [
    "*p"
   ]
  },
  {
   "cell_type": "code",
   "execution_count": 199,
   "metadata": {},
   "outputs": [
    {
     "data": {
      "text/plain": [
       "nullptr"
      ]
     },
     "execution_count": 199,
     "metadata": {},
     "output_type": "execute_result"
    }
   ],
   "source": [
    "a"
   ]
  },
  {
   "cell_type": "code",
   "execution_count": 200,
   "metadata": {},
   "outputs": [],
   "source": [
    "char b = 100"
   ]
  },
  {
   "cell_type": "code",
   "execution_count": 204,
   "metadata": {},
   "outputs": [
    {
     "data": {
      "text/plain": [
       "\"d\""
      ]
     },
     "execution_count": 204,
     "metadata": {},
     "output_type": "execute_result"
    }
   ],
   "source": [
    "a = &b"
   ]
  },
  {
   "cell_type": "code",
   "execution_count": 206,
   "metadata": {},
   "outputs": [
    {
     "data": {
      "text/plain": [
       "\"d\""
      ]
     },
     "execution_count": 206,
     "metadata": {},
     "output_type": "execute_result"
    }
   ],
   "source": [
    "a"
   ]
  },
  {
   "cell_type": "code",
   "execution_count": 207,
   "metadata": {},
   "outputs": [
    {
     "data": {
      "text/plain": [
       "\"d\""
      ]
     },
     "execution_count": 207,
     "metadata": {},
     "output_type": "execute_result"
    }
   ],
   "source": [
    "*p"
   ]
  },
  {
   "cell_type": "code",
   "execution_count": null,
   "metadata": {},
   "outputs": [],
   "source": []
  },
  {
   "cell_type": "code",
   "execution_count": 149,
   "metadata": {},
   "outputs": [],
   "source": [
    "//"
   ]
  },
  {
   "cell_type": "code",
   "execution_count": 215,
   "metadata": {},
   "outputs": [],
   "source": [
    "const int p {100}"
   ]
  },
  {
   "cell_type": "code",
   "execution_count": 216,
   "metadata": {},
   "outputs": [],
   "source": [
    "const int* q = &p"
   ]
  },
  {
   "cell_type": "code",
   "execution_count": 217,
   "metadata": {},
   "outputs": [
    {
     "data": {
      "text/plain": [
       "100"
      ]
     },
     "execution_count": 217,
     "metadata": {},
     "output_type": "execute_result"
    }
   ],
   "source": [
    "*q"
   ]
  },
  {
   "cell_type": "code",
   "execution_count": null,
   "metadata": {},
   "outputs": [],
   "source": [
    "//"
   ]
  },
  {
   "cell_type": "code",
   "execution_count": 237,
   "metadata": {},
   "outputs": [],
   "source": [
    "int p = 5;\n",
    "int *const q = &p"
   ]
  },
  {
   "cell_type": "code",
   "execution_count": 240,
   "metadata": {},
   "outputs": [
    {
     "data": {
      "text/plain": [
       "6"
      ]
     },
     "execution_count": 240,
     "metadata": {},
     "output_type": "execute_result"
    }
   ],
   "source": [
    "p = 6"
   ]
  },
  {
   "cell_type": "code",
   "execution_count": 242,
   "metadata": {},
   "outputs": [],
   "source": [
    "int r = 7"
   ]
  },
  {
   "cell_type": "code",
   "execution_count": 246,
   "metadata": {},
   "outputs": [],
   "source": [
    "//q = &r //Not reassignable"
   ]
  },
  {
   "cell_type": "code",
   "execution_count": 248,
   "metadata": {},
   "outputs": [
    {
     "data": {
      "text/plain": [
       "8"
      ]
     },
     "execution_count": 248,
     "metadata": {},
     "output_type": "execute_result"
    }
   ],
   "source": [
    "alignof(int*)"
   ]
  },
  {
   "cell_type": "code",
   "execution_count": 250,
   "metadata": {},
   "outputs": [
    {
     "data": {
      "text/plain": [
       "8"
      ]
     },
     "execution_count": 250,
     "metadata": {},
     "output_type": "execute_result"
    }
   ],
   "source": [
    "alignof(void*)"
   ]
  },
  {
   "cell_type": "code",
   "execution_count": 255,
   "metadata": {},
   "outputs": [],
   "source": [
    "using par = unsigned char;"
   ]
  },
  {
   "cell_type": "code",
   "execution_count": 267,
   "metadata": {},
   "outputs": [],
   "source": [
    "using par = const unsigned char;"
   ]
  },
  {
   "cell_type": "code",
   "execution_count": 273,
   "metadata": {},
   "outputs": [],
   "source": [
    "using intpont = int*; //alias of pointer to integer"
   ]
  },
  {
   "cell_type": "code",
   "execution_count": 276,
   "metadata": {},
   "outputs": [],
   "source": [
    "using pontpontchar =   char**;"
   ]
  },
  {
   "cell_type": "code",
   "execution_count": 278,
   "metadata": {},
   "outputs": [],
   "source": [
    "char* q"
   ]
  },
  {
   "cell_type": "code",
   "execution_count": 279,
   "metadata": {},
   "outputs": [],
   "source": [
    "pontpontchar p = &q"
   ]
  },
  {
   "cell_type": "code",
   "execution_count": 311,
   "metadata": {},
   "outputs": [],
   "source": [
    "char a[10]"
   ]
  },
  {
   "cell_type": "code",
   "execution_count": 313,
   "metadata": {
    "scrolled": true
   },
   "outputs": [
    {
     "name": "stderr",
     "output_type": "stream",
     "text": [
      "\u001b[1minput_line_430:1:25: \u001b[0m\u001b[0;1;31merror: \u001b[0m\u001b[1mtype-id cannot have a name\u001b[0m\n",
      "using pontchar = char (&a);\n",
      "\u001b[0;1;32m                        ^\n",
      "\u001b[0m"
     ]
    },
    {
     "ename": "Interpreter Error",
     "evalue": "",
     "output_type": "error",
     "traceback": [
      "Interpreter Error: "
     ]
    }
   ],
   "source": [
    "using pontchar = char (&a);"
   ]
  },
  {
   "cell_type": "code",
   "execution_count": 314,
   "metadata": {},
   "outputs": [],
   "source": [
    "//4"
   ]
  },
  {
   "cell_type": "code",
   "execution_count": 337,
   "metadata": {},
   "outputs": [],
   "source": [
    "char a[] = \"This is the fourth question\""
   ]
  },
  {
   "cell_type": "code",
   "execution_count": null,
   "metadata": {},
   "outputs": [],
   "source": []
  },
  {
   "cell_type": "code",
   "execution_count": 340,
   "metadata": {},
   "outputs": [],
   "source": [
    "char (*b) = a;\n",
    "char (*c) = a;"
   ]
  },
  {
   "cell_type": "code",
   "execution_count": 350,
   "metadata": {},
   "outputs": [],
   "source": [
    "void charbtw(int d, int e)\n",
    "{\n",
    "    if (d>e)\n",
    "    {\n",
    "        for(int i=e;i<=d;++i)\n",
    "        {\n",
    "            cout<<a[i]<<\" \";\n",
    "        }\n",
    "    }\n",
    "    else\n",
    "    {\n",
    "        for(int i=d;i<=e;++i)\n",
    "        {\n",
    "            cout<<a[i]<<\" \";\n",
    "        }\n",
    "    }\n",
    "}"
   ]
  },
  {
   "cell_type": "code",
   "execution_count": 351,
   "metadata": {},
   "outputs": [
    {
     "name": "stdout",
     "output_type": "stream",
     "text": [
      "  i s   t h e "
     ]
    }
   ],
   "source": [
    "charbtw(4,10)"
   ]
  },
  {
   "cell_type": "code",
   "execution_count": 356,
   "metadata": {},
   "outputs": [
    {
     "data": {
      "text/plain": [
       "28"
      ]
     },
     "execution_count": 356,
     "metadata": {},
     "output_type": "execute_result"
    }
   ],
   "source": [
    "//6\n",
    "sizeof(a)"
   ]
  },
  {
   "cell_type": "code",
   "execution_count": 362,
   "metadata": {},
   "outputs": [
    {
     "name": "stderr",
     "output_type": "stream",
     "text": [
      "\u001b[1minput_line_496:2:2: \u001b[0m\u001b[0;1;31merror: \u001b[0m\u001b[1munknown type name 'global'\u001b[0m\n",
      " global int b[] {1,2,3,4,5,6}\n",
      "\u001b[0;1;32m ^\n",
      "\u001b[0m"
     ]
    },
    {
     "ename": "Interpreter Error",
     "evalue": "",
     "output_type": "error",
     "traceback": [
      "Interpreter Error: "
     ]
    }
   ],
   "source": [
    "int b[] {1,2,3,4,5,6}"
   ]
  },
  {
   "cell_type": "code",
   "execution_count": 373,
   "metadata": {},
   "outputs": [
    {
     "name": "stderr",
     "output_type": "stream",
     "text": [
      "\u001b[1minput_line_512:4:11: \u001b[0m\u001b[0;1;35mwarning: \u001b[0m\u001b[1marray index -1 is before the beginning of the array [-Warray-bounds]\u001b[0m\n",
      "    cout<<b[-1]<<\" \";\n",
      "\u001b[0;1;32m          ^ ~~\n",
      "\u001b[0m\u001b[1minput_line_512:3:5: \u001b[0m\u001b[0;1;30mnote: \u001b[0marray 'b' declared here\u001b[0m\n",
      "    int b[] {1,2,3,4,5};\n",
      "\u001b[0;1;32m    ^\n",
      "\u001b[0m"
     ]
    }
   ],
   "source": [
    "int main()\n",
    "{\n",
    "    int b[] {1,2,3,4,5};\n",
    "    cout<<b[-1]<<\" \";\n",
    "}"
   ]
  },
  {
   "cell_type": "code",
   "execution_count": 374,
   "metadata": {},
   "outputs": [
    {
     "name": "stdout",
     "output_type": "stream",
     "text": [
      "1887706290 "
     ]
    },
    {
     "data": {
      "text/plain": [
       "0"
      ]
     },
     "execution_count": 374,
     "metadata": {},
     "output_type": "execute_result"
    }
   ],
   "source": [
    "main()"
   ]
  },
  {
   "cell_type": "code",
   "execution_count": 472,
   "metadata": {},
   "outputs": [],
   "source": [
    "void testr(int* a, int* b)\n",
    "{\n",
    "    cout<<\"a is \"<<*a<<\" b is \"<<*b<<'\\n';\n",
    "    int d;\n",
    "    int e;\n",
    "    d = *a;\n",
    "    e = *b;\n",
    "    *a = e;\n",
    "    *b = d;\n",
    "    cout<<\"value of a is \"<<e<<'\\n'\n",
    "        <<\"value of b is \"<<d<<'\\n';\n",
    "}"
   ]
  },
  {
   "cell_type": "code",
   "execution_count": 473,
   "metadata": {},
   "outputs": [
    {
     "name": "stdout",
     "output_type": "stream",
     "text": [
      "a is 30 b is 40\n",
      "value of a is 40\n",
      "value of b is 30\n"
     ]
    }
   ],
   "source": [
    "int a =30;\n",
    "int b = 40;\n",
    "testr(&a,&b)"
   ]
  },
  {
   "cell_type": "code",
   "execution_count": 483,
   "metadata": {},
   "outputs": [],
   "source": [
    "void testr(int& a, int& b)\n",
    "{\n",
    "    cout<<\"a is \"<<a<<\" b is \"<<b<<'\\n';\n",
    "    int d;\n",
    "    int e;\n",
    "    d = a;\n",
    "    e = b;\n",
    "    a = e;\n",
    "    b = d;\n",
    "    cout<<\"value of a is \"<<e<<'\\n'\n",
    "        <<\"value of b is \"<<d<<'\\n';\n",
    "}"
   ]
  },
  {
   "cell_type": "code",
   "execution_count": 484,
   "metadata": {},
   "outputs": [
    {
     "name": "stdout",
     "output_type": "stream",
     "text": [
      "a is 30 b is 40\n",
      "value of a is 40\n",
      "value of b is 30\n"
     ]
    }
   ],
   "source": [
    "int a =30;\n",
    "int b = 40;\n",
    "testr(a,b)"
   ]
  },
  {
   "cell_type": "code",
   "execution_count": 485,
   "metadata": {},
   "outputs": [
    {
     "data": {
      "text/plain": [
       "40"
      ]
     },
     "execution_count": 485,
     "metadata": {},
     "output_type": "execute_result"
    }
   ],
   "source": [
    "a"
   ]
  },
  {
   "cell_type": "code",
   "execution_count": 486,
   "metadata": {},
   "outputs": [],
   "source": [
    "//8"
   ]
  },
  {
   "cell_type": "code",
   "execution_count": 547,
   "metadata": {},
   "outputs": [],
   "source": [
    "char str[] = \"a short string\";\n",
    "sizeof(str);\n",
    "string strr = \"a short string\""
   ]
  },
  {
   "cell_type": "code",
   "execution_count": 551,
   "metadata": {},
   "outputs": [
    {
     "data": {
      "text/plain": [
       "14"
      ]
     },
     "execution_count": 551,
     "metadata": {},
     "output_type": "execute_result"
    }
   ],
   "source": [
    "//same as length function\n",
    "\n",
    "int j;\n",
    "for(auto i:strr)\n",
    "{\n",
    "    \n",
    "    if(isspace(strr[i]))\n",
    "    {\n",
    "        continue;\n",
    "    }\n",
    "    else\n",
    "    {\n",
    "        ++j;\n",
    "        cout<<strr[i];\n",
    "    };\n",
    "}\n",
    "j"
   ]
  },
  {
   "cell_type": "code",
   "execution_count": 601,
   "metadata": {},
   "outputs": [
    {
     "data": {
      "text/plain": [
       "14"
      ]
     },
     "execution_count": 601,
     "metadata": {},
     "output_type": "execute_result"
    }
   ],
   "source": [
    "strr.length()"
   ]
  },
  {
   "cell_type": "code",
   "execution_count": 602,
   "metadata": {},
   "outputs": [],
   "source": [
    "//9"
   ]
  },
  {
   "cell_type": "code",
   "execution_count": 603,
   "metadata": {},
   "outputs": [],
   "source": [
    "void f(char a){}"
   ]
  },
  {
   "cell_type": "code",
   "execution_count": 604,
   "metadata": {},
   "outputs": [],
   "source": [
    "void g(char&){}\n"
   ]
  },
  {
   "cell_type": "code",
   "execution_count": 679,
   "metadata": {},
   "outputs": [],
   "source": [
    "string months[] = {\"Jan\",\"Feb\",\"Mar\",\"Apr\",\"May\",\"Jun\",\"Jul\",\"Aug\",\"Sep\",\"Oct\",\"Nov\",\"Dec\"}"
   ]
  },
  {
   "cell_type": "code",
   "execution_count": null,
   "metadata": {},
   "outputs": [],
   "source": []
  },
  {
   "cell_type": "code",
   "execution_count": 680,
   "metadata": {},
   "outputs": [],
   "source": [
    "void mon_print(string* a[])\n",
    "{\n",
    "    for(int i=0;i<10,++i;)\n",
    "        cout<<i<<'\\n'; \n",
    "}"
   ]
  },
  {
   "cell_type": "code",
   "execution_count": 21,
   "metadata": {},
   "outputs": [],
   "source": [
    "//11"
   ]
  },
  {
   "cell_type": "code",
   "execution_count": 37,
   "metadata": {},
   "outputs": [],
   "source": [
    "void readr()\n",
    "{\n",
    "    int i = 0;\n",
    "    std::vector<string> words;\n",
    "    string s;\n",
    "    while (i!=100)\n",
    "    {\n",
    "        cin>>s;\n",
    "        words.push_back(s);\n",
    "        i++;\n",
    "        if (s==\"Quit\"|s==\"quit\")\n",
    "        {\n",
    "            for(auto j = words.begin();j!=words.end();++j)\n",
    "            {\n",
    "                for(auto k = words.begin();k!=words.end();++k)\n",
    "                {\n",
    "                    if(j!=k)\n",
    "                    {\n",
    "                        cout<<'\\t'<<*j<<'\\n';\n",
    "                    }\n",
    "                }\n",
    "            }\n",
    "            break;\n",
    "        }\n",
    "    }\n",
    "}"
   ]
  },
  {
   "cell_type": "code",
   "execution_count": null,
   "metadata": {},
   "outputs": [],
   "source": []
  }
 ],
 "metadata": {
  "kernelspec": {
   "display_name": "C++17",
   "language": "python",
   "name": "xcpp17"
  },
  "language_info": {
   "codemirror_mode": "text/x-c++src",
   "file_extension": ".cpp",
   "mimetype": "text/x-c++src",
   "name": "python",
   "version": "3.11.0 | packaged by conda-forge | (main, Oct 25 2022, 06:24:40) [GCC 10.4.0]"
  },
  "vscode": {
   "interpreter": {
    "hash": "f1d1fc19b365f9ad1716256121e630045ec3968373de9ab098681291a9c3ca4f"
   }
  }
 },
 "nbformat": 4,
 "nbformat_minor": 2
}
