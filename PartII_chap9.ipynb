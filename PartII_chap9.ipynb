{
 "cells": [
  {
   "cell_type": "markdown",
   "id": "d7edcc9d",
   "metadata": {},
   "source": []
  },
  {
   "cell_type": "markdown",
   "id": "d951c9d3",
   "metadata": {},
   "source": []
  },
  {
   "cell_type": "code",
   "execution_count": 1,
   "id": "507df4ed",
   "metadata": {},
   "outputs": [],
   "source": [
    "#include<iostream>\n",
    "using namespace std;"
   ]
  },
  {
   "cell_type": "code",
   "execution_count": 8,
   "id": "ab02e4ee",
   "metadata": {},
   "outputs": [],
   "source": [
    "enum E1{a,b};\n",
    "enum class E2{a,b};"
   ]
  },
  {
   "cell_type": "code",
   "execution_count": 15,
   "id": "677d7566",
   "metadata": {},
   "outputs": [],
   "source": [
    "void f(E1 x, E2 y)\n",
    "{\n",
    "    if(x){};\n",
    "}\n"
   ]
  },
  {
   "cell_type": "code",
   "execution_count": null,
   "id": "d319840c",
   "metadata": {},
   "outputs": [],
   "source": [
    "//The logical operators\n",
    "\n",
    "//&& ||\n",
    "\n",
    "if (p&& 1<p->count){}:"
   ]
  },
  {
   "cell_type": "code",
   "execution_count": 24,
   "id": "993e2507",
   "metadata": {},
   "outputs": [],
   "source": [
    "//For choosing between two alternatives each of which produces a value, a conditional\n",
    "//expression is a more direct expression of intent that an if-statement.\n",
    "\n",
    "int max(int a, int b)\n",
    "{\n",
    "    return (a>b)?a:b;  //return whichever is higher\n",
    "}"
   ]
  },
  {
   "cell_type": "code",
   "execution_count": 25,
   "id": "2b2ab9d8",
   "metadata": {},
   "outputs": [
    {
     "data": {
      "text/plain": [
       "5"
      ]
     },
     "execution_count": 25,
     "metadata": {},
     "output_type": "execute_result"
    }
   ],
   "source": [
    "max(4,5)"
   ]
  },
  {
   "cell_type": "code",
   "execution_count": 26,
   "id": "291981ef",
   "metadata": {
    "scrolled": true
   },
   "outputs": [
    {
     "name": "stderr",
     "output_type": "stream",
     "text": [
      "\u001b[1minput_line_38:7:1: \u001b[0m\u001b[0;1;31merror: \u001b[0m\u001b[1mfunction definition is not allowed here\u001b[0m\n",
      "{\n",
      "\u001b[0;1;32m^\n",
      "\u001b[0m\u001b[1minput_line_38:13:7: \u001b[0m\u001b[0;1;31merror: \u001b[0m\u001b[1mnon-ASCII characters are not allowed outside of literals and identifiers\u001b[0m\n",
      "case 4−2: // error: 2 used twice in case labels\n",
      "\u001b[0;1;32m      ^\n",
      "\u001b[0m\u001b[0;32m       \n",
      "\u001b[0m\u001b[1m<<< cling interactive line includer >>>:1:1: \u001b[0m\u001b[0;1;31merror: \u001b[0m\u001b[1mexpected '}'\u001b[0m\n",
      "\u001b[1minput_line_38:1:43: \u001b[0m\u001b[0;1;30mnote: \u001b[0mto match this '{'\u001b[0m\n",
      "void __cling_Un1Qu314(void* vpClingValue) {\n",
      "\u001b[0;1;32m                                          ^\n",
      "\u001b[0m"
     ]
    },
    {
     "ename": "Interpreter Error",
     "evalue": "",
     "output_type": "error",
     "traceback": [
      "Interpreter Error: "
     ]
    }
   ],
   "source": [
    "//switch statements\n",
    "\n",
    "//A switch statement selects among a set of alternatives . The expression in\n",
    "//the case labels must be a constant expression of integral or enumeration type\n",
    "//A value may not be used more than once for case labels in a swtich statement\n",
    "\n",
    "void f(int i)\n",
    "{\n",
    "switch (i) {\n",
    "case 2.7: // error: floating point uses for case\n",
    "// ...\n",
    "case 2:\n",
    "// ...\n",
    "case 4−2: // error: 2 used twice in case labels\n",
    "// ...\n",
    "};"
   ]
  },
  {
   "cell_type": "code",
   "execution_count": 28,
   "id": "7a55a8b3",
   "metadata": {},
   "outputs": [
    {
     "name": "stderr",
     "output_type": "stream",
     "text": [
      "\u001b[1minput_line_40:2:13: \u001b[0m\u001b[0;1;31merror: \u001b[0m\u001b[1mvariable declaration in condition must have an initializer\u001b[0m\n",
      " switch(int val){\n",
      "\u001b[0;1;32m            ^\n",
      "\u001b[0m\u001b[1minput_line_40:4:9: \u001b[0m\u001b[0;1;31merror: \u001b[0m\u001b[1mno matching function for call to 'f'\u001b[0m\n",
      "        f();\n",
      "\u001b[0;1;32m        ^\n",
      "\u001b[0m\u001b[1minput_line_22:1:6: \u001b[0m\u001b[0;1;30mnote: \u001b[0mcandidate function not viable: requires 2 arguments, but 0 were provided\u001b[0m\n",
      "void f(E1 x, E2 y)\n",
      "\u001b[0;1;32m     ^\n",
      "\u001b[0m\u001b[1minput_line_40:7:9: \u001b[0m\u001b[0;1;31merror: \u001b[0m\u001b[1muse of undeclared identifier 'g'\u001b[0m\n",
      "        g();\n",
      "\u001b[0;1;32m        ^\n",
      "\u001b[0m\u001b[1minput_line_40:10:9: \u001b[0m\u001b[0;1;31merror: \u001b[0m\u001b[1muse of undeclared identifier 'h'\u001b[0m\n",
      "        h();\n",
      "\u001b[0;1;32m        ^\n",
      "\u001b[0m"
     ]
    },
    {
     "ename": "Interpreter Error",
     "evalue": "",
     "output_type": "error",
     "traceback": [
      "Interpreter Error: "
     ]
    }
   ],
   "source": [
    "switch(int val){\n",
    "    case 1:\n",
    "        f();\n",
    "        break;\n",
    "    case 2:\n",
    "        g();\n",
    "        break;\n",
    "    default:\n",
    "        h();\n",
    "        break;\n",
    "}"
   ]
  },
  {
   "cell_type": "code",
   "execution_count": 29,
   "id": "fcef16d5",
   "metadata": {},
   "outputs": [
    {
     "name": "stderr",
     "output_type": "stream",
     "text": [
      "\u001b[1minput_line_41:3:4: \u001b[0m\u001b[0;1;31merror: \u001b[0m\u001b[1muse of undeclared identifier 'val'\u001b[0m\n",
      "if(val==1)\n",
      "\u001b[0;1;32m   ^\n",
      "\u001b[0m\u001b[1minput_line_41:4:5: \u001b[0m\u001b[0;1;31merror: \u001b[0m\u001b[1mno matching function for call to 'f'\u001b[0m\n",
      "    f();\n",
      "\u001b[0;1;32m    ^\n",
      "\u001b[0m\u001b[1minput_line_22:1:6: \u001b[0m\u001b[0;1;30mnote: \u001b[0mcandidate function not viable: requires 2 arguments, but 0 were provided\u001b[0m\n",
      "void f(E1 x, E2 y)\n",
      "\u001b[0;1;32m     ^\n",
      "\u001b[0m\u001b[1minput_line_41:5:11: \u001b[0m\u001b[0;1;31merror: \u001b[0m\u001b[1muse of undeclared identifier 'val'\u001b[0m\n",
      "else if  (val==2)\n",
      "\u001b[0;1;32m          ^\n",
      "\u001b[0m\u001b[1minput_line_41:6:5: \u001b[0m\u001b[0;1;31merror: \u001b[0m\u001b[1muse of undeclared identifier 'g'\u001b[0m\n",
      "    g();\n",
      "\u001b[0;1;32m    ^\n",
      "\u001b[0m\u001b[1minput_line_41:8:5: \u001b[0m\u001b[0;1;31merror: \u001b[0m\u001b[1muse of undeclared identifier 'h'\u001b[0m\n",
      "    h();\n",
      "\u001b[0;1;32m    ^\n",
      "\u001b[0m"
     ]
    },
    {
     "ename": "Interpreter Error",
     "evalue": "",
     "output_type": "error",
     "traceback": [
      "Interpreter Error: "
     ]
    }
   ],
   "source": [
    "//the above can be expressed as \n",
    "if(val==1)\n",
    "    f();\n",
    "else if  (val==2)\n",
    "    g();\n",
    "else\n",
    "    h();"
   ]
  },
  {
   "cell_type": "code",
   "execution_count": 31,
   "id": "9bebeaef",
   "metadata": {},
   "outputs": [],
   "source": [
    "enum class Vessel {cup, glass, goblet, chalice};"
   ]
  },
  {
   "cell_type": "code",
   "execution_count": 32,
   "id": "8e09a1a1",
   "metadata": {},
   "outputs": [
    {
     "name": "stderr",
     "output_type": "stream",
     "text": [
      "\u001b[1minput_line_44:3:13: \u001b[0m\u001b[0;1;35mwarning: \u001b[0m\u001b[1menumeration value 'chalice' not handled in switch [-Wswitch]\u001b[0m\n",
      "    switch (v)\n",
      "\u001b[0;1;32m            ^\n",
      "\u001b[0m"
     ]
    }
   ],
   "source": [
    "\n",
    "void problematic(Vessel v)\n",
    "{\n",
    "    switch (v)\n",
    "    {\n",
    "        case Vessel::cup: /*..*/    break;\n",
    "        case Vessel::glass: /*..*/  break;\n",
    "        case Vessel::goblet: /*..*/ break;\n",
    "    }\n",
    "}"
   ]
  },
  {
   "cell_type": "code",
   "execution_count": 34,
   "id": "abdbbdd7",
   "metadata": {},
   "outputs": [
    {
     "name": "stderr",
     "output_type": "stream",
     "text": [
      "\u001b[1minput_line_46:6:6: \u001b[0m\u001b[0;1;31merror: \u001b[0m\u001b[1muse of undeclared identifier 'prim'\u001b[0m\n",
      "if(d=prim(true))\n",
      "\u001b[0;1;32m     ^\n",
      "\u001b[0m\u001b[1minput_line_46:8:10: \u001b[0m\u001b[0;1;31merror: \u001b[0m\u001b[1minvalid operands to binary expression ('std::ios_base &(std::ios_base &)' and 'double')\u001b[0m\n",
      "    left /= d;\n",
      "\u001b[0;1;32m    ~~~~ ^  ~\n",
      "\u001b[0m\u001b[1minput_line_46:9:5: \u001b[0m\u001b[0;1;31merror: \u001b[0m\u001b[1m'break' statement not in loop or switch statement\u001b[0m\n",
      "    break;\n",
      "\u001b[0;1;32m    ^\n",
      "\u001b[0m"
     ]
    },
    {
     "ename": "Interpreter Error",
     "evalue": "",
     "output_type": "error",
     "traceback": [
      "Interpreter Error: "
     ]
    }
   ],
   "source": [
    "//Declarations in Cases\n",
    "\n",
    "\n",
    "double d;\n",
    "int d2;\n",
    "d2 = d;\n",
    "if(d=prim(true))\n",
    "{\n",
    "    left /= d;\n",
    "    break;\n",
    "}\n",
    "//\n",
    "d = 2.0;"
   ]
  },
  {
   "cell_type": "code",
   "execution_count": 35,
   "id": "0783e00f",
   "metadata": {},
   "outputs": [],
   "source": [
    "//Iteration Statements\n",
    "\n",
    "//A loop can be expressed as a for-,while-,or do- statement;\n",
    "\n",
    "//while(condition)statement\n",
    "//do statement while(expression);\n",
    "//for (for-init-datement condition; expression) statement\n",
    "//for(for-declaration:expression) statement"
   ]
  },
  {
   "cell_type": "code",
   "execution_count": 2,
   "id": "9bc371b0",
   "metadata": {},
   "outputs": [],
   "source": [
    "//Range for statements\n",
    "\n",
    "//The controlled variable x in the example that refers to the current element\n",
    "//is equivalent to *p when using an equivalent for statement:\n",
    "\n",
    "int sum2(vector<int>& v)\n",
    "{\n",
    "    int s = 0;\n",
    "    for (auto p=begin(v); p!=end(v); ++p)\n",
    "        s+=*p;\n",
    "    return s;\n",
    "}"
   ]
  },
  {
   "cell_type": "code",
   "execution_count": 3,
   "id": "17409c48",
   "metadata": {},
   "outputs": [],
   "source": [
    "// To increment each element of a vector like this:\n",
    "\n",
    "void incr(vector<int>& v)\n",
    "{\n",
    "    for(int& x:v)\n",
    "        ++x;\n",
    "}"
   ]
  },
  {
   "cell_type": "code",
   "execution_count": 4,
   "id": "dd2dc204",
   "metadata": {},
   "outputs": [],
   "source": [
    "//References are also appropriate for elements tha might be large, so that\n",
    "// coping them to the element value could be costly\n",
    "\n",
    "template<class T>T accum(vector<T>& v)\n",
    "{\n",
    "    T sum=0;\n",
    "    for (const T&x:v)\n",
    "        sum += x;\n",
    "    return sum;\n",
    "}"
   ]
  },
  {
   "cell_type": "code",
   "execution_count": 6,
   "id": "a75228ba",
   "metadata": {},
   "outputs": [],
   "source": [
    "//Note that a range for-loop is a deliberately simple construct. For example usiong \n",
    "//it you cant touch two elements at the same time and cant effectively traverse two ranges\n",
    "//simultaneously. For that we need a general for statement."
   ]
  },
  {
   "cell_type": "markdown",
   "id": "b983fad8",
   "metadata": {},
   "source": [
    "for Statements"
   ]
  },
  {
   "cell_type": "code",
   "execution_count": 10,
   "id": "656ea21a",
   "metadata": {},
   "outputs": [],
   "source": [
    "//There is also more general for statement allowing greater control of the iteration. \n",
    "//The loop variable the termination condition and the expression that updates the loop varibale \n",
    "//are explicityly presented up fron ton a single line. For example\n",
    "\n",
    "\n",
    "void f(int v[], int max)\n",
    "{\n",
    "    for(int i=0;i!=max;++i)\n",
    "        v[i] = i*i;\n",
    "}\n"
   ]
  },
  {
   "cell_type": "code",
   "execution_count": 12,
   "id": "b5d357c7",
   "metadata": {},
   "outputs": [],
   "source": [
    "//This is equivalent to \n",
    "\n",
    "void f(int v[], int max)\n",
    "{\n",
    "    int i;        //introduce loop variable\n",
    "    while(i!=max)  //test termination condition\n",
    "    {\n",
    "        v[i] = i*i;  //execute teh loop body\n",
    "        ++i;         //increment loop variable\n",
    "    }\n",
    "}"
   ]
  },
  {
   "cell_type": "code",
   "execution_count": null,
   "id": "28a10367",
   "metadata": {},
   "outputs": [],
   "source": [
    "// Avaribale can be declared in the initializer part of a for statement. If that\n",
    "//initializer is a declaration the variable it introdices is in scope unti;\n",
    "// the end of the for statement.\n",
    "\n",
    "//It is not always obvioud what is the right type to use for a controlled variable in a for loop,\n",
    "//so auto often comes handy\n",
    "\n",
    "int c[10]{1,2,3,4,5};\n",
    "for(auto p = begin(c); c!=end(c);++p)\n",
    "{\n",
    "    //use iterator p for elements in container c\n",
    "    cout<<c;\n",
    "}"
   ]
  },
  {
   "cell_type": "code",
   "execution_count": 4,
   "id": "71cd779e",
   "metadata": {},
   "outputs": [
    {
     "name": "stderr",
     "output_type": "stream",
     "text": [
      "\u001b[1minput_line_10:6:25: \u001b[0m\u001b[0;1;31merror: \u001b[0m\u001b[1mno member named 'cin' in namespace 'std'\u001b[0m\n",
      "for(std::string s; std::cin>>s;)\n",
      "\u001b[0;1;32m                   ~~~~~^\n",
      "\u001b[0m\u001b[1minput_line_10:7:5: \u001b[0m\u001b[0;1;31merror: \u001b[0m\u001b[1muse of undeclared identifier 'v'\u001b[0m\n",
      "    v.push_back(s);\n",
      "\u001b[0;1;32m    ^\n",
      "\u001b[0m"
     ]
    },
    {
     "ename": "Interpreter Error",
     "evalue": "",
     "output_type": "error",
     "traceback": [
      "Interpreter Error: "
     ]
    }
   ],
   "source": [
    "//If no initialization is needed, the initializeing statement can be empty'\n",
    "//If the expression that is supposed to increment the loop variable is omitted\n",
    "//we must update some form of lopp varibale elsewhere,typically in the body of the loop varibale\n",
    "\n",
    "//It is often better expressed as a while statement. However consider this elegant variant\n",
    "\n",
    "\n",
    "for(std::string s; std::cin>>s;)\n",
    "    v.push_back(s);\n",
    "\n",
    "//Here the reading andtesting for termination and combined in cin>>s\n",
    "//so we dont need an explicit loop varibale.\n",
    "\n",
    "//On the other hand the user  of for rather than while, allows us to limit the \n",
    "//scope of the current element s to the loop itself(the for statement)\n",
    "\n",
    "//A for statement is also useful for expressing a loop without an explicit termination condition:\n",
    "for(;;)\n",
    "{\n",
    "    //\"forever loop\"\n",
    "}"
   ]
  },
  {
   "cell_type": "code",
   "execution_count": null,
   "id": "717312b2",
   "metadata": {},
   "outputs": [],
   "source": [
    "//However an alternate interpretation can be the following\n",
    "\n",
    "while(true)\n",
    "{\n",
    "    //..infinite loop\n",
    "}"
   ]
  },
  {
   "cell_type": "markdown",
   "id": "170948ef",
   "metadata": {},
   "source": [
    "while Statements"
   ]
  },
  {
   "cell_type": "code",
   "execution_count": 2,
   "id": "07722bf9",
   "metadata": {},
   "outputs": [],
   "source": [
    "//A while statement executest its controlled statment until its condition becomes false.\n",
    "\n",
    "template<class Iter, class Value>\n",
    "Iter find(Iter first, Iter last, Value val)\n",
    "{\n",
    "    while (first!=last&& *first!=val)\n",
    "        ++first;\n",
    "    return first;\n",
    "}\n",
    "\n",
    "//A for statement is easily rewritten into an equivalent while statement and vice versa."
   ]
  },
  {
   "cell_type": "markdown",
   "id": "cb7c6e2d",
   "metadata": {},
   "source": [
    "do Statements"
   ]
  },
  {
   "cell_type": "code",
   "execution_count": 3,
   "id": "f32daec1",
   "metadata": {},
   "outputs": [],
   "source": [
    "//A do statement is similar to ta while statement excwept that teh condition comes after\n",
    "//the body\n",
    "//For example\n",
    "void print_backwards(char a[], int i)\n",
    "{\n",
    "    cout<<'{';\n",
    "    do {\n",
    "        cout<<a[--i];\n",
    "    }while (i);\n",
    "    cout<<'}';\n",
    "}"
   ]
  },
  {
   "cell_type": "markdown",
   "id": "e60b538f",
   "metadata": {},
   "source": [
    "Loop exit"
   ]
  },
  {
   "cell_type": "code",
   "execution_count": 4,
   "id": "295de76b",
   "metadata": {},
   "outputs": [],
   "source": [
    "//If the condition of an iteration statement (for while do statement) is omitted the loop will not terminate unless the user explicityly exits it by a break, return, goto, \n",
    "//throw or some less obvious way such as a call of exit()"
   ]
  },
  {
   "cell_type": "code",
   "execution_count": 8,
   "id": "5760dda3",
   "metadata": {},
   "outputs": [
    {
     "name": "stderr",
     "output_type": "stream",
     "text": [
      "\u001b[1minput_line_15:20:1: \u001b[0m\u001b[0;1;31merror: \u001b[0m\u001b[1mfunction definition is not allowed here\u001b[0m\n",
      "{\n",
      "\u001b[0;1;32m^\n",
      "\u001b[0m"
     ]
    },
    {
     "ename": "Interpreter Error",
     "evalue": "",
     "output_type": "error",
     "traceback": [
      "Interpreter Error: "
     ]
    }
   ],
   "source": [
    "//A break breaks out of the neares enclosing switch statement or iteration statement\n",
    "\n",
    "void f(vector<string>& v, string terminator)\n",
    "{\n",
    "    char c;\n",
    "    string s;\n",
    "    while(cin>>c)\n",
    "    {\n",
    "        if (c=='\\n') break; //terminate when the loop is infinite\n",
    "    }\n",
    "}\n",
    "\n",
    "//We use a break when we need to leave the loop body \"in the middle\". Unless it warps the logic of a loop\n",
    "//e.g. requires the introduction of an extra varible , it is usually better to have the complete exit\n",
    "//condition as the condition of a while statement or a for statement.\n",
    "\n",
    "//Sometimes, we dont want to exit the loop completetly we just want to get\n",
    "//to the end of the loop body.\n",
    "//A continue skips the rest of the body of an iteration-statement\n",
    "//For example\n",
    "\n",
    "void find_prime(vector<string>& v)\n",
    "{\n",
    "    for (int i = 0; i!=v.size(); ++i)\n",
    "    {\n",
    "        if(!prime(v[i]) continue;\n",
    "           return v[i];\n",
    "    }\n",
    "}"
   ]
  },
  {
   "cell_type": "code",
   "execution_count": 9,
   "id": "3ae9203c",
   "metadata": {},
   "outputs": [
    {
     "name": "stderr",
     "output_type": "stream",
     "text": [
      "\u001b[1minput_line_16:8:13: \u001b[0m\u001b[0;1;31merror: \u001b[0m\u001b[1muse of undeclared identifier 'prime'\u001b[0m\n",
      "        if(!prime(v[i]))\n",
      "\u001b[0;1;32m            ^\n",
      "\u001b[0m"
     ]
    },
    {
     "ename": "Interpreter Error",
     "evalue": "",
     "output_type": "error",
     "traceback": [
      "Interpreter Error: "
     ]
    }
   ],
   "source": [
    "//After a continue the increment part of the loop if any is executed, followed\n",
    "//by the loop condition\n",
    "//So find_prime() could equivalently have been written as:\n",
    "void find_prime(vector<string>& v)\n",
    "{\n",
    "    for (int i=0;i!=v.size();++i)\n",
    "    {\n",
    "        if(!prime(v[i]))\n",
    "        {\n",
    "            return v[i];\n",
    "        }\n",
    "    }\n",
    "}"
   ]
  },
  {
   "cell_type": "markdown",
   "id": "90cae3f7",
   "metadata": {},
   "source": [
    "goto Statements"
   ]
  },
  {
   "cell_type": "code",
   "execution_count": 10,
   "id": "b730b879",
   "metadata": {},
   "outputs": [
    {
     "name": "stderr",
     "output_type": "stream",
     "text": [
      "\u001b[1minput_line_17:4:12: \u001b[0m\u001b[0;1;31merror: \u001b[0m\u001b[1muse of undeclared identifier 'statement'\u001b[0m\n",
      "identifier:statement;\n",
      "\u001b[0;1;32m           ^\n",
      "\u001b[0m"
     ]
    },
    {
     "ename": "Interpreter Error",
     "evalue": "",
     "output_type": "error",
     "traceback": [
      "Interpreter Error: "
     ]
    }
   ],
   "source": [
    "//C++ possesses the infamous goto:\n",
    "\n",
    "goto identifier;\n",
    "identifier:statement;\n",
    "\n",
    "\n",
    "//The goto has few uses in general high-level programming, but it can be very useful\n",
    "//when C++ code is generated by a program rather than writtern directly by a person\n",
    "//gotos can be used in a parser generated from a grammar by a parser generator."
   ]
  },
  {
   "cell_type": "code",
   "execution_count": 13,
   "id": "679041a2",
   "metadata": {
    "scrolled": true
   },
   "outputs": [
    {
     "name": "stderr",
     "output_type": "stream",
     "text": [
      "\u001b[1minput_line_20:9:17: \u001b[0m\u001b[0;1;31merror: \u001b[0m\u001b[1muse of undeclared identifier 'n'\u001b[0m\n",
      "    for (i=0;i!=n;++i)\n",
      "\u001b[0;1;32m                ^\n",
      "\u001b[0m\u001b[1minput_line_20:10:20: \u001b[0m\u001b[0;1;31merror: \u001b[0m\u001b[1muse of undeclared identifier 'm'\u001b[0m\n",
      "        for(j=0;j!=m;++j)\n",
      "\u001b[0;1;32m                   ^\n",
      "\u001b[0m\u001b[1minput_line_20:11:16: \u001b[0m\u001b[0;1;31merror: \u001b[0m\u001b[1muse of undeclared identifier 'nm'\u001b[0m\n",
      "            if(nm[i][j] == a)\n",
      "\u001b[0;1;32m               ^\n",
      "\u001b[0m\u001b[1minput_line_20:11:28: \u001b[0m\u001b[0;1;31merror: \u001b[0m\u001b[1muse of undeclared identifier 'a'\u001b[0m\n",
      "            if(nm[i][j] == a)\n",
      "\u001b[0;1;32m                           ^\n",
      "\u001b[0m\u001b[1minput_line_20:17:1: \u001b[0m\u001b[0;1;31merror: \u001b[0m\u001b[1mexpected statement\u001b[0m\n",
      "}\n",
      "\u001b[0;1;32m^\n",
      "\u001b[0m"
     ]
    },
    {
     "ename": "Interpreter Error",
     "evalue": "",
     "output_type": "error",
     "traceback": [
      "Interpreter Error: "
     ]
    }
   ],
   "source": [
    "//The scope of a label is the function it is in . This implies that you can use goto\n",
    "//to jump both into and out of blocks. The only restriction is that\n",
    "//you cannot jump past an initializer or into an exception handler\n",
    "\n",
    "\n",
    "//One of the few sensible uses of hoto in ordinary code is to break out\n",
    "//from a nested loop or switch statement. For example:\n",
    "\n",
    "void do_something(int i, int j)\n",
    "    // do something to a two dimensional matrix called mn\n",
    "{\n",
    "    for (i=0;i!=n;++i)\n",
    "        for(j=0;j!=m;++j)\n",
    "            if(nm[i][j] == a)\n",
    "                goto found;\n",
    "    //not found\n",
    "    //..\n",
    "    found:\n",
    "        //nm[i][j]\n",
    "}\n",
    "\n",
    "\n",
    "//this goto just jumps forward to exit its loop. It does not introduce\n",
    "//a new loop or enter a new scope.\n",
    "//That make s it the least troublesome and least confusing use of a goto."
   ]
  },
  {
   "cell_type": "markdown",
   "id": "e9c97bf0",
   "metadata": {},
   "source": [
    "Comments and Indentation"
   ]
  },
  {
   "cell_type": "code",
   "execution_count": null,
   "id": "45922715",
   "metadata": {},
   "outputs": [],
   "source": []
  },
  {
   "cell_type": "code",
   "execution_count": null,
   "id": "84f318a1",
   "metadata": {},
   "outputs": [],
   "source": []
  }
 ],
 "metadata": {
  "kernelspec": {
   "display_name": "C++14",
   "language": "python",
   "name": "xcpp14"
  },
  "language_info": {
   "codemirror_mode": "text/x-c++src",
   "file_extension": ".cpp",
   "mimetype": "text/x-c++src",
   "name": "python",
   "version": "3.11.0 | packaged by conda-forge | (main, Oct 25 2022, 06:24:40) [GCC 10.4.0]"
  },
  "vscode": {
   "interpreter": {
    "hash": "f1d1fc19b365f9ad1716256121e630045ec3968373de9ab098681291a9c3ca4f"
   }
  }
 },
 "nbformat": 4,
 "nbformat_minor": 5
}
