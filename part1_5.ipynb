{
 "cells": [
  {
   "cell_type": "code",
   "execution_count": 13,
   "id": "22fc361d",
   "metadata": {},
   "outputs": [],
   "source": [
    "#include <ostream>\n",
    "using namespace std;"
   ]
  },
  {
   "cell_type": "code",
   "execution_count": 10,
   "id": "64be621b",
   "metadata": {},
   "outputs": [
    {
     "name": "stderr",
     "output_type": "stream",
     "text": [
      "\u001b[1minput_line_17:4:14: \u001b[0m\u001b[0;1;31merror: \u001b[0m\u001b[1mno matching function for call to 'accumulate'\u001b[0m\n",
      "    auto s = accumulate(lst.begin(),lst.end(),0.0);\n",
      "\u001b[0;1;32m             ^~~~~~~~~~\n",
      "\u001b[0m\u001b[1m/home/susearc/miniconda3/envs/xeus-cling/bin/../lib/gcc/../../x86_64-conda-linux-gnu/include/c++/12.2.0/bits/stl_numeric.h:134:5: \u001b[0m\u001b[0;1;30mnote: \u001b[0mcandidate template ignored: deduced conflicting types for parameter '_InputIterator' ('std::_List_const_iterator<double>' vs. 'std::_List_iterator<double>')\u001b[0m\n",
      "    accumulate(_InputIterator __first, _InputIterator __last, _Tp __init)\n",
      "\u001b[0;1;32m    ^\n",
      "\u001b[0m\u001b[1m/home/susearc/miniconda3/envs/xeus-cling/bin/../lib/gcc/../../x86_64-conda-linux-gnu/include/c++/12.2.0/bits/stl_numeric.h:161:5: \u001b[0m\u001b[0;1;30mnote: \u001b[0mcandidate function template not viable: requires 4 arguments, but 3 were provided\u001b[0m\n",
      "    accumulate(_InputIterator __first, _InputIterator __last, _Tp __init,\n",
      "\u001b[0;1;32m    ^\n",
      "\u001b[0m\u001b[1minput_line_17:5:5: \u001b[0m\u001b[0;1;31merror: \u001b[0m\u001b[1muse of undeclared identifier 'cout'; did you mean 'count'?\u001b[0m\n",
      "    cout << s <<'\\n';\n",
      "\u001b[0;1;32m    ^~~~\n",
      "\u001b[0m\u001b[0;32m    count\n",
      "\u001b[0m\u001b[1m/home/susearc/miniconda3/envs/xeus-cling/bin/../lib/gcc/../../x86_64-conda-linux-gnu/include/c++/12.2.0/bits/stl_algo.h:4026:5: \u001b[0m\u001b[0;1;30mnote: \u001b[0m'count' declared here\u001b[0m\n",
      "    count(_InputIterator __first, _InputIterator __last, const _Tp& __value)\n",
      "\u001b[0;1;32m    ^\n",
      "\u001b[0m"
     ]
    },
    {
     "ename": "Interpreter Error",
     "evalue": "",
     "output_type": "error",
     "traceback": [
      "Interpreter Error: "
     ]
    }
   ],
   "source": [
    "void f()\n",
    "{\n",
    "    list<double> lst {1,2,3,4,5,6,99.99,999.999};\n",
    "    auto s = accumulate(lst.begin(),lst.end(),0.0);\n",
    "    cout << s <<'\\n';\n",
    "}"
   ]
  },
  {
   "cell_type": "code",
   "execution_count": 7,
   "id": "ea8d02c9",
   "metadata": {},
   "outputs": [],
   "source": [
    "f()"
   ]
  },
  {
   "cell_type": "code",
   "execution_count": 14,
   "id": "5085bb2f",
   "metadata": {},
   "outputs": [
    {
     "name": "stderr",
     "output_type": "stream",
     "text": [
      "\u001b[1minput_line_22:3:5: \u001b[0m\u001b[0;1;31merror: \u001b[0m\u001b[1muse of undeclared identifier 'cin'\u001b[0m\n",
      "    cin>>name>>age;\n",
      "\u001b[0;1;32m    ^\n",
      "\u001b[0m\u001b[1minput_line_22:4:5: \u001b[0m\u001b[0;1;31merror: \u001b[0m\u001b[1muse of undeclared identifier 'cout'; did you mean 'count'?\u001b[0m\n",
      "    cout<<\"name is \"<<name<<\"age is \"<<age<<endl;\n",
      "\u001b[0;1;32m    ^~~~\n",
      "\u001b[0m\u001b[0;32m    count\n",
      "\u001b[0m\u001b[1m/home/susearc/miniconda3/envs/xeus-cling/bin/../lib/gcc/../../x86_64-conda-linux-gnu/include/c++/12.2.0/bits/stl_algo.h:4026:5: \u001b[0m\u001b[0;1;30mnote: \u001b[0m'count' declared here\u001b[0m\n",
      "    count(_InputIterator __first, _InputIterator __last, const _Tp& __value)\n",
      "\u001b[0;1;32m    ^\n",
      "\u001b[0m\u001b[1minput_line_22:4:5: \u001b[0m\u001b[0;1;31merror: \u001b[0m\u001b[1mreference to overloaded function could not be resolved; did you mean to call it?\u001b[0m\n",
      "    cout<<\"name is \"<<name<<\"age is \"<<age<<endl;\n",
      "\u001b[0;1;32m    ^~~~\n",
      "\u001b[0m\u001b[1m/home/susearc/miniconda3/envs/xeus-cling/bin/../lib/gcc/../../x86_64-conda-linux-gnu/include/c++/12.2.0/bits/stl_algo.h:4026:5: \u001b[0m\u001b[0;1;30mnote: \u001b[0mpossible target for call\u001b[0m\n",
      "    count(_InputIterator __first, _InputIterator __last, const _Tp& __value)\n",
      "\u001b[0;1;32m    ^\n",
      "\u001b[0m"
     ]
    },
    {
     "ename": "Interpreter Error",
     "evalue": "",
     "output_type": "error",
     "traceback": [
      "Interpreter Error: "
     ]
    }
   ],
   "source": [
    "void namer(string& name, int& age)\n",
    "{\n",
    "    cin>>name>>age;\n",
    "    cout<<\"name is \"<<name<<\"age is \"<<age<<endl;\n",
    "}\n"
   ]
  },
  {
   "cell_type": "code",
   "execution_count": null,
   "id": "dc5e63c1",
   "metadata": {},
   "outputs": [],
   "source": []
  }
 ],
 "metadata": {
  "kernelspec": {
   "display_name": "C++14 [conda env:xeus-cling]",
   "language": "C++14",
   "name": "conda-env-xeus-cling-xcpp14"
  },
  "language_info": {
   "codemirror_mode": "text/x-c++src",
   "file_extension": ".cpp",
   "mimetype": "text/x-c++src",
   "name": "c++",
   "version": "14"
  }
 },
 "nbformat": 4,
 "nbformat_minor": 5
}
