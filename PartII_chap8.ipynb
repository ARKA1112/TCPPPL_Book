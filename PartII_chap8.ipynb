{
 "cells": [
  {
   "cell_type": "code",
   "execution_count": 310,
   "id": "f34fb0db",
   "metadata": {},
   "outputs": [],
   "source": [
    "#include <iostream>\n",
    "#include <array>\n",
    "using namespace std;"
   ]
  },
  {
   "cell_type": "code",
   "execution_count": 2,
   "id": "d63d642c",
   "metadata": {},
   "outputs": [],
   "source": [
    "//struct is an aggregate of elements of arbitrary types."
   ]
  },
  {
   "cell_type": "code",
   "execution_count": 4,
   "id": "11e4c331",
   "metadata": {},
   "outputs": [],
   "source": [
    "struct Address{\n",
    "    const char* name;  //\"jim dandy\"\n",
    "    int number;      //int\n",
    "    const char* street; //south st\n",
    "    const char* town;  //new providence\n",
    "    char state[2];   //'N''J\n",
    "    const char* zip;//\"086\"\n",
    "};   //note the terminating semicolon"
   ]
  },
  {
   "cell_type": "code",
   "execution_count": 11,
   "id": "e3e831f1",
   "metadata": {},
   "outputs": [],
   "source": [
    "//can be accessed using the dot operator\n",
    "\n",
    "void f()\n",
    "{\n",
    "    Address jd;\n",
    "    jd.name = \"Jim Dandy\";\n",
    "    jd.number = 9987;\n",
    "    cout<<jd.name<< jd.number<<'\\n';\n",
    "}"
   ]
  },
  {
   "cell_type": "code",
   "execution_count": 12,
   "id": "438f1ec4",
   "metadata": {},
   "outputs": [
    {
     "name": "stdout",
     "output_type": "stream",
     "text": [
      "Jim Dandy9987\n"
     ]
    }
   ],
   "source": [
    "f()"
   ]
  },
  {
   "cell_type": "code",
   "execution_count": 13,
   "id": "79ec7bfb",
   "metadata": {},
   "outputs": [],
   "source": [
    "// Can also be initialized using the {} notation\n",
    "\n",
    "Address jd {\n",
    "    \"Jim dandy\",\n",
    "    61,\"South st\",\n",
    "    \"New Providence\",\n",
    "    {'N','J'},\n",
    "    \"997\"\n",
    "};"
   ]
  },
  {
   "cell_type": "code",
   "execution_count": 20,
   "id": "c7fe2c8b",
   "metadata": {},
   "outputs": [],
   "source": [
    "//dereferencing the struct pointer\n",
    "\n",
    "void print_addr(Address* p)\n",
    "{\n",
    "    cout<<p->name<<'\\n'\n",
    "        <<p->number<<' '<<p->street;\n",
    "}"
   ]
  },
  {
   "cell_type": "code",
   "execution_count": 27,
   "id": "f99a0665",
   "metadata": {},
   "outputs": [],
   "source": [
    "Address* p = &jd"
   ]
  },
  {
   "cell_type": "code",
   "execution_count": 28,
   "id": "a24a3e9f",
   "metadata": {},
   "outputs": [
    {
     "name": "stdout",
     "output_type": "stream",
     "text": [
      "Jim dandy\n",
      "61 South st"
     ]
    }
   ],
   "source": [
    "print_addr(p)"
   ]
  },
  {
   "cell_type": "code",
   "execution_count": 29,
   "id": "5d5cccbd",
   "metadata": {},
   "outputs": [],
   "source": [
    "//when p is a pointer, p->m is equivalent to (*p).m"
   ]
  },
  {
   "cell_type": "code",
   "execution_count": 30,
   "id": "4ba34c57",
   "metadata": {},
   "outputs": [],
   "source": [
    "//ALternatively, a struct can be passed by reference and accessed using \n",
    "// the . operator\n",
    "\n",
    "void print_addr2(const Address& r)\n",
    "{\n",
    "    cout<<r.name<<'\\n'\n",
    "        <<r.street<<r.number;\n",
    "}"
   ]
  },
  {
   "cell_type": "code",
   "execution_count": 31,
   "id": "5ac807a0",
   "metadata": {},
   "outputs": [
    {
     "name": "stdout",
     "output_type": "stream",
     "text": [
      "Jim dandy\n",
      "South st61"
     ]
    }
   ],
   "source": [
    "print_addr2(jd)"
   ]
  },
  {
   "cell_type": "markdown",
   "id": "fee395e0",
   "metadata": {},
   "source": [
    "`struct` Layout"
   ]
  },
  {
   "cell_type": "code",
   "execution_count": 32,
   "id": "fc72e122",
   "metadata": {},
   "outputs": [],
   "source": [
    "//An object of a struct holds its members in the order they are declared"
   ]
  },
  {
   "cell_type": "code",
   "execution_count": 33,
   "id": "7203b5bb",
   "metadata": {},
   "outputs": [],
   "source": [
    "struct Readout {\n",
    "    char hour;\n",
    "    int value;\n",
    "    char seq;\n",
    "}"
   ]
  },
  {
   "cell_type": "code",
   "execution_count": 41,
   "id": "6432b5e7",
   "metadata": {},
   "outputs": [],
   "source": [
    "Readout al{12,12,'A'};"
   ]
  },
  {
   "cell_type": "code",
   "execution_count": 49,
   "id": "e2e91e77",
   "metadata": {},
   "outputs": [
    {
     "data": {
      "text/plain": [
       "1"
      ]
     },
     "execution_count": 49,
     "metadata": {},
     "output_type": "execute_result"
    }
   ],
   "source": [
    "sizeof(char)"
   ]
  },
  {
   "cell_type": "code",
   "execution_count": 50,
   "id": "7ffd7cc7",
   "metadata": {},
   "outputs": [],
   "source": [
    "//You can minimize wasted space by simply ordering members by size\n",
    "\n"
   ]
  },
  {
   "cell_type": "code",
   "execution_count": 51,
   "id": "11a9c1a2",
   "metadata": {},
   "outputs": [],
   "source": [
    "struct Readout\n",
    "{\n",
    "    int value;\n",
    "    char hour;\n",
    "    char seq;\n",
    "}"
   ]
  },
  {
   "cell_type": "code",
   "execution_count": 52,
   "id": "37d817cc",
   "metadata": {},
   "outputs": [],
   "source": [
    "Readout al{12,12,'A'};"
   ]
  },
  {
   "cell_type": "code",
   "execution_count": 54,
   "id": "ddab8d92",
   "metadata": {},
   "outputs": [
    {
     "data": {
      "text/plain": [
       "8"
      ]
     },
     "execution_count": 54,
     "metadata": {},
     "output_type": "execute_result"
    }
   ],
   "source": [
    "sizeof(al)"
   ]
  },
  {
   "cell_type": "markdown",
   "id": "fda9fe43",
   "metadata": {},
   "source": [
    "`struct` Names"
   ]
  },
  {
   "cell_type": "markdown",
   "id": "eaf7b985",
   "metadata": {},
   "source": [
    "Structures and Classes"
   ]
  },
  {
   "cell_type": "code",
   "execution_count": 55,
   "id": "be1d5b8e",
   "metadata": {},
   "outputs": [],
   "source": [
    "//A struct is simply a class where the members are public by default.\n",
    "//So a struct can have member functions"
   ]
  },
  {
   "cell_type": "code",
   "execution_count": 58,
   "id": "9d4ecb55",
   "metadata": {},
   "outputs": [],
   "source": [
    "struct Point {\n",
    "    int x,y;\n",
    "}"
   ]
  },
  {
   "cell_type": "code",
   "execution_count": 59,
   "id": "7e3ff764",
   "metadata": {},
   "outputs": [],
   "source": [
    "struct Points\n",
    "{\n",
    "    vector<Point>elem;\n",
    "    Points(Point p0){elem.push_back(p0);}\n",
    "    Points(Point p0, Point p1){elem.push_back(p0); elem.push_back(p1);}\n",
    "};"
   ]
  },
  {
   "cell_type": "code",
   "execution_count": 68,
   "id": "db765a14",
   "metadata": {},
   "outputs": [],
   "source": [
    "Points x {{100,200}}"
   ]
  },
  {
   "cell_type": "code",
   "execution_count": 2,
   "id": "d992851c",
   "metadata": {},
   "outputs": [],
   "source": [
    "//Structures and Arrays"
   ]
  },
  {
   "cell_type": "code",
   "execution_count": 4,
   "id": "fd57632f",
   "metadata": {},
   "outputs": [],
   "source": [
    "struct Point\n",
    "{\n",
    "    int x, y;\n",
    "};"
   ]
  },
  {
   "cell_type": "code",
   "execution_count": 7,
   "id": "b228c748",
   "metadata": {},
   "outputs": [],
   "source": [
    "Point points[3] {{1,2},{3,4},{5,6}};"
   ]
  },
  {
   "cell_type": "code",
   "execution_count": 10,
   "id": "4ba4972b",
   "metadata": {},
   "outputs": [],
   "source": [
    "int x2 = points[2].x"
   ]
  },
  {
   "cell_type": "code",
   "execution_count": 11,
   "id": "f07efa9a",
   "metadata": {},
   "outputs": [
    {
     "data": {
      "text/plain": [
       "5"
      ]
     },
     "execution_count": 11,
     "metadata": {},
     "output_type": "execute_result"
    }
   ],
   "source": [
    "\n",
    "x2"
   ]
  },
  {
   "cell_type": "code",
   "execution_count": 13,
   "id": "a23186b4",
   "metadata": {},
   "outputs": [],
   "source": [
    "struct Array{Point elem[3];};"
   ]
  },
  {
   "cell_type": "code",
   "execution_count": 21,
   "id": "853bbabb",
   "metadata": {},
   "outputs": [],
   "source": [
    "Array points2[3] {{1,2},{3,4},{5,6}};"
   ]
  },
  {
   "cell_type": "code",
   "execution_count": 36,
   "id": "5f06c32c",
   "metadata": {},
   "outputs": [
    {
     "data": {
      "text/plain": [
       "{ @0x55f2c5e5b1e0, @0x55f2c5e5b1e8, @0x55f2c5e5b1f0 }"
      ]
     },
     "execution_count": 36,
     "metadata": {},
     "output_type": "execute_result"
    }
   ],
   "source": [
    "points2[2].elem"
   ]
  },
  {
   "cell_type": "code",
   "execution_count": 37,
   "id": "53a616e8",
   "metadata": {},
   "outputs": [],
   "source": [
    "Array shift(Array a, Point p)\n",
    "{\n",
    "for (int i=0; i!=3; ++i) {\n",
    "a.elem[i].x += p.x;\n",
    "a.elem[i].y += p.y;\n",
    "}\n",
    "return a;\n",
    "}"
   ]
  },
  {
   "cell_type": "code",
   "execution_count": 40,
   "id": "ae0c8e23",
   "metadata": {},
   "outputs": [],
   "source": [
    "struct Point{\n",
    "    int x,y;\n",
    "};"
   ]
  },
  {
   "cell_type": "code",
   "execution_count": 42,
   "id": "d4ba8c28",
   "metadata": {},
   "outputs": [],
   "source": [
    "using Array = array<Point,3>; //array of 3 points"
   ]
  },
  {
   "cell_type": "code",
   "execution_count": 46,
   "id": "b1004155",
   "metadata": {},
   "outputs": [
    {
     "name": "stderr",
     "output_type": "stream",
     "text": [
      "\u001b[1minput_line_72:2:30: \u001b[0m\u001b[0;1;31merror: \u001b[0m\u001b[1mexcess elements in struct initializer\u001b[0m\n",
      " array<Point,3>points {{1,2},{3,4},{5,6}};\n",
      "\u001b[0;1;32m                             ^~~~~\n",
      "\u001b[0m"
     ]
    },
    {
     "ename": "Interpreter Error",
     "evalue": "",
     "output_type": "error",
     "traceback": [
      "Interpreter Error: "
     ]
    }
   ],
   "source": [
    "array<Point,3>points {{1,2},{3,4},{5,6}};"
   ]
  },
  {
   "cell_type": "markdown",
   "id": "5a0364c6",
   "metadata": {},
   "source": [
    "Type Equivalence"
   ]
  },
  {
   "cell_type": "code",
   "execution_count": 47,
   "id": "5ff536db",
   "metadata": {},
   "outputs": [],
   "source": [
    "//Every struct is a different type even if they have the same mebers\n",
    "\n",
    "struct S1{int a;};\n",
    "struct S2{int a;};"
   ]
  },
  {
   "cell_type": "code",
   "execution_count": 48,
   "id": "b1f270f6",
   "metadata": {},
   "outputs": [],
   "source": [
    "S1 x;"
   ]
  },
  {
   "cell_type": "code",
   "execution_count": 50,
   "id": "51b0a5f5",
   "metadata": {},
   "outputs": [],
   "source": [
    "//S2 y = x  Type mismatch"
   ]
  },
  {
   "cell_type": "code",
   "execution_count": 52,
   "id": "60de0250",
   "metadata": {},
   "outputs": [],
   "source": [
    "S1 x;\n",
    "//int i = x;"
   ]
  },
  {
   "cell_type": "markdown",
   "id": "20c53f6f",
   "metadata": {},
   "source": [
    "Plain Old Data"
   ]
  },
  {
   "cell_type": "code",
   "execution_count": 53,
   "id": "e48717e6",
   "metadata": {},
   "outputs": [],
   "source": [
    "//SOmetimes we wan to treat an object as just lain old data a contgouoi sequenec of byutes in memory and no tworry about more advance dsemanti c notion s such as runtime\n",
    "//polymorphism user defined copy semanticas etc often the reason for doing so is to be able to move objects around in the most efficient way the hardware is capable of."
   ]
  },
  {
   "cell_type": "code",
   "execution_count": 54,
   "id": "e165ba97",
   "metadata": {},
   "outputs": [],
   "source": [
    "//For example copyting a 100 element array using 100 calls of a copy constructor is unlikely to be as fast as calling std::memcpy()"
   ]
  },
  {
   "cell_type": "code",
   "execution_count": 55,
   "id": "57771da8",
   "metadata": {},
   "outputs": [],
   "source": [
    "//So a POD or a plain old data is an object that can be manipulated as just data without worrying about complications of class alyouts or user-defined semantics for construction, copy and move"
   ]
  },
  {
   "cell_type": "code",
   "execution_count": 59,
   "id": "50148ec3",
   "metadata": {},
   "outputs": [],
   "source": [
    "struct S0 { };\n",
    "struct S1 { int a; };\n",
    "struct S2 { int a; S2(int aa) : a(aa) { } };\n",
    "struct S3 { int a; S3(int aa) : a(aa) { } S3() {} };\n",
    "struct S4 { int a; S4(int aa) : a(aa) { } S4() = default; };\n",
    "struct S5 { virtual void f(); /* ... */ };\n",
    "struct S6 : S1 { };\n",
    "struct S7 : S0 { int b; };\n",
    "struct S8 : S1 { int b; };\n",
    "struct S9 : S0, S1 {};\n",
    "// a POD\n",
    "// a POD\n",
    "// not a POD (no default constructor)\n",
    "// a POD (user-defined default constructor)\n",
    "// a POD\n",
    "// not a POD (has a virtual function)\n",
    "// a POD\n",
    "// a POD\n",
    "// not a POD (data in both S1 and S8)\n",
    "// a POD"
   ]
  },
  {
   "cell_type": "code",
   "execution_count": 62,
   "id": "a3963b33",
   "metadata": {},
   "outputs": [],
   "source": [
    "template<typename T>\n",
    "void mycopy(T* to, const T* from, int count);"
   ]
  },
  {
   "cell_type": "code",
   "execution_count": 64,
   "id": "1357481e",
   "metadata": {},
   "outputs": [
    {
     "name": "stderr",
     "output_type": "stream",
     "text": [
      "\u001b[1minput_line_91:2:2: \u001b[0m\u001b[0;1;31merror: \u001b[0m\u001b[1mno matching function for call to 'mycopy'\u001b[0m\n",
      " mycopy()\n",
      "\u001b[0;1;32m ^~~~~~\n",
      "\u001b[0m"
     ]
    },
    {
     "ename": "Interpreter Error",
     "evalue": "",
     "output_type": "error",
     "traceback": [
      "Interpreter Error: "
     ]
    }
   ],
   "source": [
    "mycopy()"
   ]
  },
  {
   "cell_type": "code",
   "execution_count": 67,
   "id": "7ab866bd",
   "metadata": {},
   "outputs": [],
   "source": [
    "template<typename T>\n",
    "void mycopy(T* to, const T* from, int count)\n",
    "{\n",
    "if (is_pod<T>::value)\n",
    "memcpy(to,from,count*sizeof(T));\n",
    "else\n",
    "for (int i=0; i!=count; ++i)\n",
    "to[i]=from[i];\n",
    "}"
   ]
  },
  {
   "cell_type": "markdown",
   "id": "50bd8073",
   "metadata": {},
   "source": [
    "Fields"
   ]
  },
  {
   "cell_type": "code",
   "execution_count": 68,
   "id": "369e4804",
   "metadata": {},
   "outputs": [],
   "source": [
    "struct PPN {\n",
    "// R6000 Physical Page Number\n",
    "unsigned int PFN : 22; // Page Frame Number\n",
    "int : 3;\n",
    "// unused\n",
    "unsigned int CCA : 3;\n",
    "// Cache Coherency Algorithm\n",
    "bool nonreachable : 1;\n",
    "bool dirty : 1;\n",
    "bool valid : 1;\n",
    "bool global : 1;\n",
    "};"
   ]
  },
  {
   "cell_type": "code",
   "execution_count": 81,
   "id": "9cc480f1",
   "metadata": {},
   "outputs": [],
   "source": [
    "PPN v {222}"
   ]
  },
  {
   "cell_type": "code",
   "execution_count": 83,
   "id": "2b0654ad",
   "metadata": {},
   "outputs": [
    {
     "name": "stderr",
     "output_type": "stream",
     "text": [
      "\u001b[1minput_line_120:2:4: \u001b[0m\u001b[0;1;31merror: \u001b[0m\u001b[1mexpected unqualified-id\u001b[0m\n",
      " v.int\n",
      "\u001b[0;1;32m   ^\n",
      "\u001b[0m"
     ]
    },
    {
     "ename": "Interpreter Error",
     "evalue": "",
     "output_type": "error",
     "traceback": [
      "Interpreter Error: "
     ]
    }
   ],
   "source": [
    "v.int"
   ]
  },
  {
   "cell_type": "code",
   "execution_count": 84,
   "id": "b69be5a2",
   "metadata": {},
   "outputs": [],
   "source": [
    "void part_of_VM_system(PPN* p)\n",
    "{\n",
    "    //\n",
    "    if (p->dirty){\n",
    "        //copy to disk\n",
    "        p->dirty = 0;\n",
    "    }\n",
    "}"
   ]
  },
  {
   "cell_type": "markdown",
   "id": "da3d08db",
   "metadata": {},
   "source": [
    "Unions"
   ]
  },
  {
   "cell_type": "code",
   "execution_count": 87,
   "id": "b41b49ac",
   "metadata": {},
   "outputs": [],
   "source": [
    "enum Type{str,num}"
   ]
  },
  {
   "cell_type": "code",
   "execution_count": 90,
   "id": "411c9d2a",
   "metadata": {},
   "outputs": [],
   "source": [
    "struct Entry{\n",
    "    char* name;\n",
    "    Type t;\n",
    "    char* s; //use s if t==str\n",
    "    int i; //use i if t==num\n",
    "}"
   ]
  },
  {
   "cell_type": "code",
   "execution_count": 99,
   "id": "7300ee97",
   "metadata": {},
   "outputs": [],
   "source": [
    "void f(Entry* p )\n",
    "{\n",
    "    if (p->t == str)\n",
    "        cout<<p->s;\n",
    "}"
   ]
  },
  {
   "cell_type": "code",
   "execution_count": 101,
   "id": "b3c0819a",
   "metadata": {},
   "outputs": [],
   "source": [
    "//both s and i cannot be used at the same time\n",
    "//instead we can do this\n",
    "\n",
    "union Value {\n",
    "char* s;\n",
    "int i;\n",
    "};"
   ]
  },
  {
   "cell_type": "code",
   "execution_count": 102,
   "id": "e8b3ef59",
   "metadata": {},
   "outputs": [],
   "source": [
    "//Unions and Classes"
   ]
  },
  {
   "cell_type": "code",
   "execution_count": 103,
   "id": "a3533ce2",
   "metadata": {},
   "outputs": [],
   "source": [
    "void f(Entry a)\n",
    "{\n",
    "Entry b = a;\n",
    "};"
   ]
  },
  {
   "cell_type": "code",
   "execution_count": 106,
   "id": "9d20e1bc",
   "metadata": {},
   "outputs": [],
   "source": [
    "//Doing so with a more complicated union would cause implementation difficulties or errors:\n",
    "union U {\n",
    "\n",
    "    int m1;\n",
    "complex<double> m2; // complex has a constructor\n",
    "string m3;   // string has a constructor (maintaining a serious invariant)\n",
    "};\n",
    "\n"
   ]
  },
  {
   "cell_type": "code",
   "execution_count": 107,
   "id": "44f9a8fc",
   "metadata": {},
   "outputs": [
    {
     "name": "stderr",
     "output_type": "stream",
     "text": [
      "\u001b[1minput_line_145:3:3: \u001b[0m\u001b[0;1;31merror: \u001b[0m\u001b[1mcall to implicitly-deleted default constructor of 'U'\u001b[0m\n",
      "U u;\n",
      "\u001b[0;1;32m  ^\n",
      "\u001b[0m\u001b[1minput_line_144:5:17: \u001b[0m\u001b[0;1;30mnote: \u001b[0mdefault constructor of 'U' is implicitly deleted because variant field 'm2' has a non-trivial default constructor\u001b[0m\n",
      "complex<double> m2; // complex has a constructor\n",
      "\u001b[0;1;32m                ^\n",
      "\u001b[0m\u001b[1minput_line_145:4:3: \u001b[0m\u001b[0;1;31merror: \u001b[0m\u001b[1mcall to implicitly-deleted copy constructor of 'U'\u001b[0m\n",
      "U u2 = x;\n",
      "\u001b[0;1;32m  ^    ~\n",
      "\u001b[0m\u001b[1minput_line_144:6:8: \u001b[0m\u001b[0;1;30mnote: \u001b[0mcopy constructor of 'U' is implicitly deleted because variant field 'm3' has a non-trivial copy constructor\u001b[0m\n",
      "string m3;   // string has a constructor (maintaining a serious invariant)\n",
      "\u001b[0;1;32m       ^\n",
      "\u001b[0m"
     ]
    },
    {
     "ename": "Interpreter Error",
     "evalue": "",
     "output_type": "error",
     "traceback": [
      "Interpreter Error: "
     ]
    }
   ],
   "source": [
    "void f2(U x)\n",
    "{\n",
    "U u;\n",
    "U u2 = x;\n",
    "u.m1 = 1;\n",
    "string s = u.m3;\n",
    "return;\n",
    "}\n",
    "// error : which default constructor?\n",
    "// error : which copy constructor?\n",
    "// assign to int member\n",
    "// disaster : read from string member\n",
    "// error : which destructors are called for x, u, and u2?"
   ]
  },
  {
   "cell_type": "code",
   "execution_count": 110,
   "id": "67a0e80b",
   "metadata": {
    "scrolled": true
   },
   "outputs": [
    {
     "name": "stderr",
     "output_type": "stream",
     "text": [
      "\u001b[1minput_line_148:4:11: \u001b[0m\u001b[0;1;31merror: \u001b[0m\u001b[1mnon-ASCII characters are not allowed outside of literals and identifiers\u001b[0m\n",
      "const char∗ p {\"\"};\n",
      "\u001b[0;1;32m          ^\n",
      "\u001b[0m\u001b[1minput_line_148:4:18: \u001b[0m\u001b[0;1;31merror: \u001b[0m\u001b[1mcannot initialize a member subobject of type 'const char' with an lvalue of type 'const char [1]'\u001b[0m\n",
      "const char∗ p {\"\"};\n",
      "\u001b[0;1;32m               ^~\n",
      "\u001b[0m\u001b[1minput_line_148:7:4: \u001b[0m\u001b[0;1;31merror: \u001b[0m\u001b[1mno matching constructor for initialization of 'U2'\u001b[0m\n",
      "U2 x2 {7};\n",
      "\u001b[0;1;32m   ^  ~~~\n",
      "\u001b[0m\u001b[1minput_line_148:2:8: \u001b[0m\u001b[0;1;30mnote: \u001b[0mcandidate constructor (the implicit copy constructor) not viable: no known conversion from 'int' to 'const U2' for 1st argument\u001b[0m\n",
      " union U2 {\n",
      "\u001b[0;1;32m       ^\n",
      "\u001b[0m\u001b[1minput_line_148:2:8: \u001b[0m\u001b[0;1;30mnote: \u001b[0mcandidate constructor (the implicit move constructor) not viable: no known conversion from 'int' to 'U2' for 1st argument\u001b[0m\n",
      " union U2 {\n",
      "\u001b[0;1;32m       ^\n",
      "\u001b[0m\u001b[1minput_line_148:2:8: \u001b[0m\u001b[0;1;30mnote: \u001b[0mcandidate constructor (the implicit default constructor) not viable: requires 0 arguments, but 1 was provided\u001b[0m\n"
     ]
    },
    {
     "ename": "Interpreter Error",
     "evalue": "",
     "output_type": "error",
     "traceback": [
      "Interpreter Error: "
     ]
    }
   ],
   "source": [
    "union U2 {\n",
    "int a;\n",
    "const char∗ p {\"\"};\n",
    "};\n",
    "U2 x1;\n",
    "U2 x2 {7};\n",
    "// default initialized to x1.p == \"\"\n",
    "// x2.a == 7"
   ]
  },
  {
   "cell_type": "markdown",
   "id": "66001eb9",
   "metadata": {},
   "source": [
    "Anonymous Unions"
   ]
  },
  {
   "cell_type": "markdown",
   "id": "8c169cc8",
   "metadata": {},
   "source": [
    "Enumerations"
   ]
  },
  {
   "cell_type": "code",
   "execution_count": 112,
   "id": "3c0d5a80",
   "metadata": {},
   "outputs": [],
   "source": [
    "//An enumeration is a type that can hold a set of integer values specified by the user"
   ]
  },
  {
   "cell_type": "code",
   "execution_count": 113,
   "id": "98d2dfa2",
   "metadata": {},
   "outputs": [],
   "source": [
    "enum class Color{red, green, blue}"
   ]
  },
  {
   "cell_type": "code",
   "execution_count": 116,
   "id": "8dd9b066",
   "metadata": {},
   "outputs": [],
   "source": [
    "//This defines an enumeration called Color with the enumerators red, green, and blue"
   ]
  },
  {
   "cell_type": "code",
   "execution_count": 117,
   "id": "9c987617",
   "metadata": {},
   "outputs": [],
   "source": [
    "//There are two types of enum\n",
    "\n",
    "//enum classes which the enumerator names are local to the enum and their\n",
    "//values do no implicityly convert ot other types\n",
    "\n",
    "//Plain enums for which the enumerator names are in the smae scope as the enum and their values implicityly convert ot integers"
   ]
  },
  {
   "cell_type": "code",
   "execution_count": 118,
   "id": "cdf9b345",
   "metadata": {},
   "outputs": [],
   "source": [
    "//In general we prefer enum classes because they cause fewer surprises."
   ]
  },
  {
   "cell_type": "markdown",
   "id": "ffef0ef1",
   "metadata": {},
   "source": [
    "enum classes"
   ]
  },
  {
   "cell_type": "code",
   "execution_count": 119,
   "id": "d832e2db",
   "metadata": {},
   "outputs": [],
   "source": [
    "//enum class is a scoped and strongly typed enumeration "
   ]
  },
  {
   "cell_type": "code",
   "execution_count": 120,
   "id": "836a5a7a",
   "metadata": {},
   "outputs": [],
   "source": [
    "enum class Traffic_light{red, yellow, green};"
   ]
  },
  {
   "cell_type": "code",
   "execution_count": 122,
   "id": "b831b20d",
   "metadata": {},
   "outputs": [],
   "source": [
    "enum class Warning{green, yellow, orange, red};"
   ]
  },
  {
   "cell_type": "code",
   "execution_count": 129,
   "id": "dad65805",
   "metadata": {},
   "outputs": [],
   "source": [
    "//Warning a1 = 7; //error no int-> warning conversion\n",
    "//int a2 = green;  //error green not in scope\n",
    "//int a3 = Warning::green; //error no warning-> int conversion\n",
    "Warning a4 = Warning::green"
   ]
  },
  {
   "cell_type": "code",
   "execution_count": 134,
   "id": "e2358235",
   "metadata": {},
   "outputs": [],
   "source": [
    "void f(Traffic_light x)\n",
    "{\n",
    "    //if(x==9){/*..*/}  //error 9 is not a traffic_light\n",
    "    //if(x==red)        //error no red in scope\n",
    "    //if(x==Warning::red){/*..*/} //x is not a warning\n",
    "    if(x==Traffic_light::red){/*...*/} //OK red is a traffic light\n",
    "}"
   ]
  },
  {
   "cell_type": "code",
   "execution_count": 137,
   "id": "64b2df9a",
   "metadata": {},
   "outputs": [],
   "source": [
    "enum class Warning : int { green, yellow, orange, red };//sizeof(Warning)==sizof(int)"
   ]
  },
  {
   "cell_type": "code",
   "execution_count": 138,
   "id": "a54e7d4e",
   "metadata": {},
   "outputs": [],
   "source": [
    "enum class Warning : char { green, yellow, orange, red };\n",
    "// sizeof(Warning)==1"
   ]
  },
  {
   "cell_type": "code",
   "execution_count": 140,
   "id": "c9bf9105",
   "metadata": {},
   "outputs": [],
   "source": [
    "//By default, enumerator values are assigned increasing from 0. Here, we get:\n",
    "static_cast<int>(Warning::green)==0;\n",
    "static_cast<int>(Warning::yellow)==1;\n",
    "static_cast<int>(Warning::orange)==2;\n",
    "static_cast<int>(Warning::red)==3;"
   ]
  },
  {
   "cell_type": "code",
   "execution_count": 142,
   "id": "f382c7b1",
   "metadata": {},
   "outputs": [
    {
     "name": "stderr",
     "output_type": "stream",
     "text": [
      "\u001b[1minput_line_183:3:12: \u001b[0m\u001b[0;1;35mwarning: \u001b[0m\u001b[1menumeration values 'yellow' and 'orange' not handled in switch [-Wswitch]\u001b[0m\n",
      "    switch(key)\n",
      "\u001b[0;1;32m           ^\n",
      "\u001b[0m"
     ]
    }
   ],
   "source": [
    "void f(Warning key)\n",
    "{\n",
    "    switch(key)\n",
    "    {\n",
    "        case Warning::green:\n",
    "            //do something\n",
    "            break;\n",
    "        case Warning::red:\n",
    "            //do something\n",
    "            break;\n",
    "    }\n",
    "}"
   ]
  },
  {
   "cell_type": "code",
   "execution_count": 2,
   "id": "ec781e28",
   "metadata": {},
   "outputs": [],
   "source": [
    "//Excercises"
   ]
  },
  {
   "cell_type": "code",
   "execution_count": 4,
   "id": "1605e8a1",
   "metadata": {},
   "outputs": [],
   "source": [
    "//1\n",
    "\n",
    "struct memb_er\n",
    "{\n",
    "    long double* a;\n",
    "    double* b;\n",
    "    long* c;\n",
    "    int* d;\n",
    "    char* e;\n",
    "    bool* f;\n",
    "}"
   ]
  },
  {
   "cell_type": "code",
   "execution_count": 11,
   "id": "ef1b4ba6",
   "metadata": {},
   "outputs": [],
   "source": [
    "long double a = 10;\n",
    "long double* b = &a;"
   ]
  },
  {
   "cell_type": "code",
   "execution_count": 12,
   "id": "b2565a2f",
   "metadata": {},
   "outputs": [],
   "source": [
    "memb_er mem {b}"
   ]
  },
  {
   "cell_type": "code",
   "execution_count": 32,
   "id": "50dc0d8d",
   "metadata": {},
   "outputs": [],
   "source": [
    "//2\n",
    "\n",
    "int a[10]{}"
   ]
  },
  {
   "cell_type": "code",
   "execution_count": 153,
   "id": "18798f3a",
   "metadata": {},
   "outputs": [],
   "source": [
    "string month_names[12]{\"Jan\",\"Feb\",\"Mar\",\"Apr\",\"May\",\"Jun\",\"Jul\",\"Aug\",\"Sep\",\"Oct\",\"Nov\",\"Dec\"}"
   ]
  },
  {
   "cell_type": "code",
   "execution_count": 154,
   "id": "6fe9ed85",
   "metadata": {},
   "outputs": [],
   "source": [
    "int month_dates[12]{31,28,31,30,31,30,30,31,30,31,30,31}"
   ]
  },
  {
   "cell_type": "code",
   "execution_count": 257,
   "id": "562282dd",
   "metadata": {},
   "outputs": [],
   "source": [
    "//using struct\n",
    "\n",
    "struct month_name_date\n",
    "{\n",
    "    string names;\n",
    "    int date;\n",
    "};"
   ]
  },
  {
   "cell_type": "code",
   "execution_count": 278,
   "id": "123c59fd",
   "metadata": {},
   "outputs": [],
   "source": [
    "struct month_name_date p[3]{\"Jan\",31,\"Feb\",28,\"Mar\",31};"
   ]
  },
  {
   "cell_type": "code",
   "execution_count": 282,
   "id": "563c9499",
   "metadata": {},
   "outputs": [
    {
     "data": {
      "text/plain": [
       "\"Mar\""
      ]
     },
     "execution_count": 282,
     "metadata": {},
     "output_type": "execute_result"
    }
   ],
   "source": [
    "p[2].names"
   ]
  },
  {
   "cell_type": "code",
   "execution_count": 283,
   "id": "4f9eab22",
   "metadata": {},
   "outputs": [],
   "source": [
    "//3"
   ]
  },
  {
   "cell_type": "code",
   "execution_count": 285,
   "id": "b9e38914",
   "metadata": {},
   "outputs": [],
   "source": [
    "//4"
   ]
  },
  {
   "cell_type": "code",
   "execution_count": 327,
   "id": "780a5c52",
   "metadata": {},
   "outputs": [],
   "source": [
    "struct date_\n",
    "{\n",
    "    array<int,3> Date;\n",
    "}"
   ]
  },
  {
   "cell_type": "code",
   "execution_count": 330,
   "id": "64cd0335",
   "metadata": {},
   "outputs": [
    {
     "data": {
      "text/plain": [
       "{ 12, 12, 2004 }"
      ]
     },
     "execution_count": 330,
     "metadata": {},
     "output_type": "execute_result"
    }
   ],
   "source": [
    "date_ dt;\n",
    "dt.Date = {12,12,2004}"
   ]
  },
  {
   "cell_type": "code",
   "execution_count": 332,
   "id": "ec0af7a0",
   "metadata": {},
   "outputs": [
    {
     "name": "stderr",
     "output_type": "stream",
     "text": [
      "In file included from input_line_5:1:\n",
      "In file included from /home/susearc/miniconda3/envs/xeus-cling/include/xeus/xinterpreter.hpp:17:\n",
      "In file included from /home/susearc/miniconda3/envs/xeus-cling/include/xeus/xcomm.hpp:19:\n",
      "In file included from /home/susearc/miniconda3/envs/xeus-cling/include/nlohmann/json.hpp:55:\n",
      "In file included from /home/susearc/miniconda3/envs/xeus-cling/include/nlohmann/detail/input/binary_reader.hpp:16:\n",
      "In file included from /home/susearc/miniconda3/envs/xeus-cling/include/nlohmann/detail/input/input_adapters.hpp:7:\n",
      "In file included from /home/susearc/miniconda3/envs/xeus-cling/bin/../lib/gcc/../../x86_64-conda-linux-gnu/include/c++/12.2.0/istream:39:\n",
      "\u001b[1m/home/susearc/miniconda3/envs/xeus-cling/bin/../lib/gcc/../../x86_64-conda-linux-gnu/include/c++/12.2.0/ostream:618:8: \u001b[0m\u001b[0;1;31merror: \u001b[0m\u001b[1mno member named 'setstate' in 'std::basic_ostream<char>'\u001b[0m\n",
      "        __out.setstate(ios_base::badbit);\n",
      "\u001b[0;1;32m        ~~~~~ ^\n",
      "\u001b[0m\u001b[1minput_line_425:2:6: \u001b[0m\u001b[0;1;30mnote: \u001b[0min instantiation of function template specialization 'std::operator<<<std::char_traits<char> >' requested here\u001b[0m\n",
      " cout<<\"enter a date\"\n",
      "\u001b[0;1;32m     ^\n",
      "\u001b[0m"
     ]
    },
    {
     "ename": "Interpreter Error",
     "evalue": "",
     "output_type": "error",
     "traceback": [
      "Interpreter Error: "
     ]
    }
   ],
   "source": [
    "cout<<\"enter a date\""
   ]
  },
  {
   "cell_type": "code",
   "execution_count": 336,
   "id": "333788c7",
   "metadata": {},
   "outputs": [],
   "source": [
    "enum Season {spring, summer, autumn, winter}"
   ]
  },
  {
   "cell_type": "code",
   "execution_count": 340,
   "id": "48d59280",
   "metadata": {},
   "outputs": [
    {
     "name": "stderr",
     "output_type": "stream",
     "text": [
      "\u001b[1minput_line_434:2:19: \u001b[0m\u001b[0;1;35mwarning: \u001b[0m\u001b[1mmulti-character character constant [-Wmultichar]\u001b[0m\n",
      " Season::spring = 'red'\n",
      "\u001b[0;1;32m                  ^\n",
      "\u001b[0m\u001b[1minput_line_434:2:17: \u001b[0m\u001b[0;1;31merror: \u001b[0m\u001b[1mexpression is not assignable\u001b[0m\n",
      " Season::spring = 'red'\n",
      "\u001b[0;1;32m ~~~~~~~~~~~~~~ ^\n",
      "\u001b[0m"
     ]
    },
    {
     "ename": "Interpreter Error",
     "evalue": "",
     "output_type": "error",
     "traceback": [
      "Interpreter Error: "
     ]
    }
   ],
   "source": []
  },
  {
   "cell_type": "code",
   "execution_count": null,
   "id": "80ce8218",
   "metadata": {},
   "outputs": [],
   "source": []
  }
 ],
 "metadata": {
  "kernelspec": {
   "display_name": "C++11 [conda env:xeus-cling]",
   "language": "C++11",
   "name": "conda-env-xeus-cling-xcpp11"
  },
  "language_info": {
   "codemirror_mode": "text/x-c++src",
   "file_extension": ".cpp",
   "mimetype": "text/x-c++src",
   "name": "c++",
   "version": "11"
  }
 },
 "nbformat": 4,
 "nbformat_minor": 5
}
