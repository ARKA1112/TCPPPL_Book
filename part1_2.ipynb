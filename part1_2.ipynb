{
 "cells": [
  {
   "cell_type": "markdown",
   "metadata": {},
   "source": []
  },
  {
   "cell_type": "code",
   "execution_count": 1,
   "metadata": {
    "vscode": {
     "languageId": "cpp"
    }
   },
   "outputs": [],
   "source": [
    "#include <iostream>\n",
    "using namespace std;"
   ]
  },
  {
   "cell_type": "code",
   "execution_count": 2,
   "metadata": {
    "vscode": {
     "languageId": "cpp"
    }
   },
   "outputs": [
    {
     "name": "stdout",
     "output_type": "stream",
     "text": [
      "Hello,World!\n"
     ]
    },
    {
     "data": {
      "text/plain": [
       "0"
      ]
     },
     "execution_count": 2,
     "metadata": {},
     "output_type": "execute_result"
    }
   ],
   "source": [
    "int main()\n",
    "{\n",
    "    std::cout<<\"Hello,World!\\n\";\n",
    "}\n",
    "main()"
   ]
  },
  {
   "cell_type": "code",
   "execution_count": null,
   "metadata": {
    "vscode": {
     "languageId": "python"
    }
   },
   "outputs": [],
   "source": []
  },
  {
   "cell_type": "code",
   "execution_count": 3,
   "metadata": {
    "vscode": {
     "languageId": "python"
    }
   },
   "outputs": [
    {
     "name": "stdout",
     "output_type": "stream",
     "text": [
      "hello"
     ]
    },
    {
     "data": {
      "text/plain": [
       "0"
      ]
     },
     "execution_count": 3,
     "metadata": {},
     "output_type": "execute_result"
    }
   ],
   "source": [
    "double square(double x)\n",
    "{\n",
    "    return x*x;\n",
    "}\n",
    "square(6)\n",
    "\n",
    "#include <iostream>\n",
    "int main()\n",
    "{\n",
    "    std::cout << \"hello\";\n",
    "}\n",
    "main()"
   ]
  },
  {
   "cell_type": "code",
   "execution_count": 4,
   "metadata": {
    "vscode": {
     "languageId": "python"
    }
   },
   "outputs": [],
   "source": [
    "double square(double x)\n",
    "{\n",
    "    return x*x;    \n",
    "}"
   ]
  },
  {
   "cell_type": "code",
   "execution_count": 5,
   "metadata": {
    "vscode": {
     "languageId": "python"
    }
   },
   "outputs": [
    {
     "data": {
      "text/plain": [
       "100.00000"
      ]
     },
     "execution_count": 5,
     "metadata": {},
     "output_type": "execute_result"
    }
   ],
   "source": [
    "square(10)"
   ]
  },
  {
   "cell_type": "code",
   "execution_count": 6,
   "metadata": {
    "vscode": {
     "languageId": "cpp"
    }
   },
   "outputs": [],
   "source": [
    "\n",
    "void print_square(double x)\n",
    "{\n",
    "    cout<<\"square of: \"<< x <<\" is \"<<square(x)<<\"\\n\";\n",
    "}"
   ]
  },
  {
   "cell_type": "code",
   "execution_count": 7,
   "metadata": {
    "vscode": {
     "languageId": "cpp"
    }
   },
   "outputs": [
    {
     "name": "stdout",
     "output_type": "stream",
     "text": [
      "square of: 12 is 144\n"
     ]
    },
    {
     "data": {
      "text/plain": [
       "0"
      ]
     },
     "execution_count": 7,
     "metadata": {},
     "output_type": "execute_result"
    }
   ],
   "source": [
    "int main()\n",
    "{\n",
    "    print_square(12);\n",
    "}\n",
    "main()"
   ]
  },
  {
   "cell_type": "code",
   "execution_count": 8,
   "metadata": {
    "vscode": {
     "languageId": "cpp"
    }
   },
   "outputs": [
    {
     "name": "stdout",
     "output_type": "stream",
     "text": [
      "square of: 12 is 144\n"
     ]
    }
   ],
   "source": [
    "print_square(12)"
   ]
  },
  {
   "cell_type": "code",
   "execution_count": 10,
   "metadata": {
    "vscode": {
     "languageId": "python"
    }
   },
   "outputs": [
    {
     "data": {
      "text/plain": [
       "4"
      ]
     },
     "execution_count": 10,
     "metadata": {},
     "output_type": "execute_result"
    }
   ],
   "source": [
    "sizeof(char),sizeof(int)"
   ]
  },
  {
   "cell_type": "code",
   "execution_count": null,
   "metadata": {
    "vscode": {
     "languageId": "c++"
    }
   },
   "outputs": [],
   "source": [
    "void some_function()         //void doesnt return a value\n",
    "{\n",
    "    double d =2.2;\n",
    "    int i = 7;\n",
    "    d = d+i; //assignment\n",
    "    i = d+1;\n",
    "}"
   ]
  },
  {
   "cell_type": "code",
   "execution_count": null,
   "metadata": {
    "vscode": {
     "languageId": "c++"
    }
   },
   "outputs": [],
   "source": [
    "some_function()"
   ]
  },
  {
   "cell_type": "code",
   "execution_count": null,
   "metadata": {
    "vscode": {
     "languageId": "c++"
    }
   },
   "outputs": [],
   "source": [
    "double d1 = 2.4;\n",
    "double d2{2.3};  //universal basic form of assignment"
   ]
  },
  {
   "cell_type": "code",
   "execution_count": null,
   "metadata": {
    "vscode": {
     "languageId": "c++"
    }
   },
   "outputs": [
    {
     "data": {
      "text/plain": [
       "2.4000000"
      ]
     },
     "execution_count": 13,
     "metadata": {},
     "output_type": "execute_result"
    }
   ],
   "source": [
    "d1"
   ]
  },
  {
   "cell_type": "code",
   "execution_count": null,
   "metadata": {
    "vscode": {
     "languageId": "c++"
    }
   },
   "outputs": [],
   "source": [
    "complex<double>z2{d1,d2};"
   ]
  },
  {
   "cell_type": "code",
   "execution_count": null,
   "metadata": {
    "vscode": {
     "languageId": "c++"
    }
   },
   "outputs": [
    {
     "data": {
      "text/plain": [
       "(2.4,2.3)"
      ]
     },
     "execution_count": 15,
     "metadata": {},
     "output_type": "execute_result"
    }
   ],
   "source": [
    "z2"
   ]
  },
  {
   "cell_type": "code",
   "execution_count": null,
   "metadata": {
    "vscode": {
     "languageId": "c++"
    }
   },
   "outputs": [
    {
     "data": {
      "text/plain": [
       "{ 1, 2, 3, 4 }"
      ]
     },
     "execution_count": 16,
     "metadata": {},
     "output_type": "execute_result"
    }
   ],
   "source": [
    "vector<int>v = {1,2,3,4};  //curly braces must\n",
    "v"
   ]
  },
  {
   "cell_type": "code",
   "execution_count": null,
   "metadata": {
    "vscode": {
     "languageId": "c++"
    }
   },
   "outputs": [
    {
     "name": "stderr",
     "output_type": "stream",
     "text": [
      "\u001b[1minput_line_36:2:11: \u001b[0m\u001b[0;1;35mwarning: \u001b[0m\u001b[1mimplicit conversion from 'double' to 'int' changes value from 7.2 to 7 [-Wliteral-conversion]\u001b[0m\n",
      " int i1 = 7.2;\n",
      "\u001b[0;1;32m     ~~   ^~~\n",
      "\u001b[0m\u001b[1minput_line_36:3:9: \u001b[0m\u001b[0;1;31merror: \u001b[0m\u001b[1mtype 'double' cannot be narrowed to 'int' in initializer list [-Wc++11-narrowing]\u001b[0m\n",
      "int i2 {7.2};\n",
      "\u001b[0;1;32m        ^~~\n",
      "\u001b[0m\u001b[1minput_line_36:3:9: \u001b[0m\u001b[0;1;30mnote: \u001b[0minsert an explicit cast to silence this issue\u001b[0m\n",
      "int i2 {7.2};\n",
      "\u001b[0;1;32m        ^~~\n",
      "\u001b[0m\u001b[0;32m        static_cast<int>( )\n",
      "\u001b[0m\u001b[1minput_line_36:3:9: \u001b[0m\u001b[0;1;35mwarning: \u001b[0m\u001b[1mimplicit conversion from 'double' to 'int' changes value from 7.2 to 7 [-Wliteral-conversion]\u001b[0m\n",
      "int i2 {7.2};\n",
      "\u001b[0;1;32m       ~^~~\n",
      "\u001b[0m\u001b[1minput_line_36:4:11: \u001b[0m\u001b[0;1;31merror: \u001b[0m\u001b[1mtype 'double' cannot be narrowed to 'int' in initializer list [-Wc++11-narrowing]\u001b[0m\n",
      "int i3 = {7.2};\n",
      "\u001b[0;1;32m          ^~~\n",
      "\u001b[0m\u001b[1minput_line_36:4:11: \u001b[0m\u001b[0;1;30mnote: \u001b[0minsert an explicit cast to silence this issue\u001b[0m\n",
      "int i3 = {7.2};\n",
      "\u001b[0;1;32m          ^~~\n",
      "\u001b[0m\u001b[0;32m          static_cast<int>( )\n",
      "\u001b[0m\u001b[1minput_line_36:4:11: \u001b[0m\u001b[0;1;35mwarning: \u001b[0m\u001b[1mimplicit conversion from 'double' to 'int' changes value from 7.2 to 7 [-Wliteral-conversion]\u001b[0m\n",
      "int i3 = {7.2};\n",
      "\u001b[0;1;32m         ~^~~\n",
      "\u001b[0m"
     ]
    },
    {
     "ename": "Interpreter Error",
     "evalue": "",
     "output_type": "error",
     "traceback": [
      "Interpreter Error: "
     ]
    }
   ],
   "source": [
    "int i1 = 7.2;\n",
    "int i2 {7.2};\n",
    "int i3 = {7.2};\n",
    "// i1 becomes 7\n",
    "// error: floating-point to integer conversion\n",
    "// error: floating-point to integer conversion (the = is redundant)"
   ]
  },
  {
   "cell_type": "code",
   "execution_count": null,
   "metadata": {
    "vscode": {
     "languageId": "c++"
    }
   },
   "outputs": [
    {
     "name": "stderr",
     "output_type": "stream",
     "text": [
      "\u001b[1minput_line_37:2:11: \u001b[0m\u001b[0;1;35mwarning: \u001b[0m\u001b[1mimplicit conversion from 'double' to 'int' changes value from 7.2 to 7 [-Wliteral-conversion]\u001b[0m\n",
      " int i1 = 7.2;\n",
      "\u001b[0;1;32m     ~~   ^~~\n",
      "\u001b[0m"
     ]
    }
   ],
   "source": [
    "int i1 = 7.2;"
   ]
  },
  {
   "cell_type": "code",
   "execution_count": null,
   "metadata": {
    "vscode": {
     "languageId": "c++"
    }
   },
   "outputs": [
    {
     "data": {
      "text/plain": [
       "7"
      ]
     },
     "execution_count": 29,
     "metadata": {},
     "output_type": "execute_result"
    }
   ],
   "source": [
    "i1"
   ]
  },
  {
   "cell_type": "code",
   "execution_count": null,
   "metadata": {
    "vscode": {
     "languageId": "c++"
    }
   },
   "outputs": [],
   "source": [
    "//If you dont want to explicitly introduce type for values\n",
    "//use auto for that\n",
    "\n",
    "auto b = 7.1;\n",
    "b;"
   ]
  },
  {
   "cell_type": "markdown",
   "metadata": {},
   "source": [
    "#### Constants"
   ]
  },
  {
   "cell_type": "code",
   "execution_count": null,
   "metadata": {
    "vscode": {
     "languageId": "c++"
    }
   },
   "outputs": [],
   "source": [
    "//const: immutable and cannot be changed also evaluated at runtime\n",
    "//constexpr: to be evaluated at runtime also evaluated at compiletime used for expressions or functions"
   ]
  },
  {
   "cell_type": "code",
   "execution_count": null,
   "metadata": {
    "vscode": {
     "languageId": "c++"
    }
   },
   "outputs": [],
   "source": [
    "const int dmv = 17; //dmv is a named const\n",
    "//const int dmv = 18; fails for dmv is a named const and immutable\n",
    "\n",
    "int var = 17;"
   ]
  },
  {
   "cell_type": "code",
   "execution_count": null,
   "metadata": {
    "vscode": {
     "languageId": "c++"
    }
   },
   "outputs": [],
   "source": [
    "int var = 18;"
   ]
  },
  {
   "cell_type": "code",
   "execution_count": null,
   "metadata": {
    "vscode": {
     "languageId": "c++"
    }
   },
   "outputs": [
    {
     "data": {
      "text/plain": [
       "18"
      ]
     },
     "execution_count": 34,
     "metadata": {},
     "output_type": "execute_result"
    }
   ],
   "source": [
    "var"
   ]
  },
  {
   "cell_type": "code",
   "execution_count": null,
   "metadata": {
    "vscode": {
     "languageId": "c++"
    }
   },
   "outputs": [],
   "source": [
    "constexpr double square(double x)\n",
    "{\n",
    "    return x*x;\n",
    "}"
   ]
  },
  {
   "cell_type": "code",
   "execution_count": null,
   "metadata": {
    "vscode": {
     "languageId": "c++"
    }
   },
   "outputs": [
    {
     "data": {
      "text/plain": [
       "256.00000"
      ]
     },
     "execution_count": 72,
     "metadata": {},
     "output_type": "execute_result"
    }
   ],
   "source": [
    "square(16)"
   ]
  },
  {
   "cell_type": "code",
   "execution_count": null,
   "metadata": {
    "vscode": {
     "languageId": "c++"
    }
   },
   "outputs": [],
   "source": [
    "const int dmv = 17;\n",
    "constexpr double max1  = 1.4*square(dmv); //works if square(17) is a constanct expression\n",
    "//constexpr double max2 = 1.4 * square(var);\n",
    "\n",
    "const double max3 = 1.4*square(var);"
   ]
  },
  {
   "cell_type": "code",
   "execution_count": null,
   "metadata": {
    "vscode": {
     "languageId": "c++"
    }
   },
   "outputs": [
    {
     "name": "stderr",
     "output_type": "stream",
     "text": [
      "\u001b[1minput_line_106:5:18: \u001b[0m\u001b[0;1;31merror: \u001b[0m\u001b[1mconstexpr variable 's2' must be initialized by a constant expression\u001b[0m\n",
      "constexpr double s2 =  sum(v);\n",
      "\u001b[0;1;32m                 ^     ~~~~~~\n",
      "\u001b[0m\u001b[1minput_line_106:5:24: \u001b[0m\u001b[0;1;30mnote: \u001b[0mundefined function 'sum' cannot be used in a constant expression\u001b[0m\n",
      "constexpr double s2 =  sum(v);\n",
      "\u001b[0;1;32m                       ^\n",
      "\u001b[0m\u001b[1minput_line_106:2:19: \u001b[0m\u001b[0;1;30mnote: \u001b[0mdeclared here\u001b[0m\n",
      " constexpr double sum(const vector<double>&); //sum will not modify iits arguments\n",
      "\u001b[0;1;32m                  ^\n",
      "\u001b[0m"
     ]
    },
    {
     "ename": "Interpreter Error",
     "evalue": "",
     "output_type": "error",
     "traceback": [
      "Interpreter Error: "
     ]
    }
   ],
   "source": [
    "double sum(const vector<double>&); //sum will not modify iits arguments\n",
    "\n",
    "vector<double>v {1.2,3.4,4.5};\n",
    "\n",
    "const double s1 = sum(v);//error as sum is not a const expr\n",
    "//constexpr double s2 =  sum(v);\n",
    "//For a function to be usable in a constant expression, that is, in an expression that will be evaluated\n",
    "//by the compiler, it must be defined constexpr"
   ]
  },
  {
   "cell_type": "code",
   "execution_count": null,
   "metadata": {
    "vscode": {
     "languageId": "c++"
    }
   },
   "outputs": [
    {
     "data": {
      "text/plain": [
       "0.0000000"
      ]
     },
     "execution_count": 58,
     "metadata": {},
     "output_type": "execute_result"
    }
   ],
   "source": [
    "s1"
   ]
  },
  {
   "cell_type": "markdown",
   "metadata": {},
   "source": [
    "Test and Loops"
   ]
  },
  {
   "cell_type": "code",
   "execution_count": 6,
   "metadata": {
    "vscode": {
     "languageId": "c++"
    }
   },
   "outputs": [],
   "source": [
    "#include <iostream>\n",
    "\n",
    "bool accept()\n",
    "{\n",
    "    std::cout<<\"do you want to proceed(y or n)\";\n",
    "\n",
    "    char answer = 0;\n",
    "    std::cin>>answer;\n",
    "\n",
    "    if (answer=='y') return true;\n",
    "    return false;\n",
    "}"
   ]
  },
  {
   "cell_type": "code",
   "execution_count": 7,
   "metadata": {
    "vscode": {
     "languageId": "plaintext"
    }
   },
   "outputs": [
    {
     "name": "stdout",
     "output_type": "stream",
     "text": [
      "do you want to proceed(y or n)y\n"
     ]
    },
    {
     "data": {
      "text/plain": [
       "true"
      ]
     },
     "execution_count": 7,
     "metadata": {},
     "output_type": "execute_result"
    }
   ],
   "source": [
    "accept()"
   ]
  },
  {
   "cell_type": "code",
   "execution_count": 31,
   "metadata": {
    "vscode": {
     "languageId": "c++"
    }
   },
   "outputs": [
    {
     "name": "stderr",
     "output_type": "stream",
     "text": [
      "\u001b[1minput_line_68:1:1: \u001b[0m\u001b[0;1;31merror: \u001b[0m\u001b[1munknown type name 'str'\u001b[0m\n",
      "str accept2()\n",
      "\u001b[0;1;32m^\n",
      "\u001b[0m\u001b[1minput_line_68:15:20: \u001b[0m\u001b[0;1;31merror: \u001b[0m\u001b[1mno viable conversion from returned value of type 'basic_ostream<char, std::char_traits<char> >' to function return type 'int'\u001b[0m\n",
      "            return std::cout<<\"fuckoff\";\n",
      "\u001b[0;1;32m                   ^~~~~~~~~~~~~~~~~~~~\n",
      "\u001b[0m"
     ]
    },
    {
     "ename": "Interpreter Error",
     "evalue": "",
     "output_type": "error",
     "traceback": [
      "Interpreter Error: "
     ]
    }
   ],
   "source": [
    "#include <iostream>\n",
    "\n",
    "\n",
    "str accept2()\n",
    "{\n",
    "    std::cout<<\"Do you want to proceed y/n?\";\n",
    "    char answer = 0;\n",
    "    std::cin>>answer;\n",
    "    \n",
    "    switch(answer)\n",
    "    {\n",
    "        case  'y':\n",
    "            return true;\n",
    "        case 'n':\n",
    "            return false;\n",
    "        default:\n",
    "            std::cout<<\"I will assume that as a no\";\n",
    "            return std::cout<<\"fuckoff\";\n",
    "    }\n",
    "}"
   ]
  },
  {
   "cell_type": "code",
   "execution_count": 28,
   "metadata": {
    "vscode": {
     "languageId": "c++"
    }
   },
   "outputs": [
    {
     "name": "stdout",
     "output_type": "stream",
     "text": [
      "Do you want to proceed y/n?h\n",
      "I will assume that as a no"
     ]
    },
    {
     "data": {
      "text/plain": [
       "true"
      ]
     },
     "execution_count": 28,
     "metadata": {},
     "output_type": "execute_result"
    }
   ],
   "source": [
    "accept2()"
   ]
  },
  {
   "cell_type": "code",
   "execution_count": 21,
   "metadata": {
    "vscode": {
     "languageId": "c++"
    }
   },
   "outputs": [
    {
     "name": "stdout",
     "output_type": "stream",
     "text": [
      "Do you want to proceed y/n?dfs\n",
      "I will assume that as a no"
     ]
    },
    {
     "data": {
      "text/plain": [
       "false"
      ]
     },
     "execution_count": 21,
     "metadata": {},
     "output_type": "execute_result"
    }
   ],
   "source": [
    "accept2()    "
   ]
  },
  {
   "cell_type": "code",
   "execution_count": 9,
   "metadata": {
    "vscode": {
     "languageId": "c++"
    }
   },
   "outputs": [
    {
     "name": "stderr",
     "output_type": "stream",
     "text": [
      "\u001b[1minput_line_26:20:17: \u001b[0m\u001b[0;1;31merror: \u001b[0m\u001b[1mcall to 'accept3' is ambiguous\u001b[0m\n",
      "                accept3();\n",
      "\u001b[0;1;32m                ^~~~~~~\n",
      "\u001b[0m\u001b[1minput_line_22:1:6: \u001b[0m\u001b[0;1;30mnote: \u001b[0mcandidate function\u001b[0m\n",
      "bool accept3()\n",
      "\u001b[0;1;32m     ^\n",
      "\u001b[0m\u001b[1minput_line_26:1:6: \u001b[0m\u001b[0;1;30mnote: \u001b[0mcandidate function\u001b[0m\n",
      "bool accept3()\n",
      "\u001b[0;1;32m     ^\n",
      "\u001b[0m"
     ]
    },
    {
     "ename": "Interpreter Error",
     "evalue": "",
     "output_type": "error",
     "traceback": [
      "Interpreter Error: "
     ]
    }
   ],
   "source": [
    "#include <iostream>\n",
    "\n",
    "bool accept3()\n",
    "{\n",
    "    std::cout<<\"Do you want to proceed y/n\";\n",
    "    \n",
    "    char answer = 0;\n",
    "    std::cin>>answer;\n",
    "    \n",
    "    int tries= 0;\n",
    "    while (tries<=4)\n",
    "    {\n",
    "        switch(answer)\n",
    "        {\n",
    "            case 'y':\n",
    "                return true;\n",
    "            case 'n':\n",
    "                return false;\n",
    "            default:\n",
    "                std::cout<<\"Didnt quite get it\";\n",
    "                ++tries;\n",
    "        }\n",
    "    }\n",
    "    std::cout<<\"Out of chances!!\";\n",
    "    return 0;\n",
    "}"
   ]
  },
  {
   "cell_type": "code",
   "execution_count": 8,
   "metadata": {
    "vscode": {
     "languageId": "c++"
    }
   },
   "outputs": [
    {
     "name": "stdout",
     "output_type": "stream",
     "text": [
      "Do you want to proceed y/ndfs\n",
      "Didnt quite get itDidnt quite get itDidnt quite get itDidnt quite get itDidnt quite get itOut of chances!!"
     ]
    },
    {
     "data": {
      "text/plain": [
       "false"
      ]
     },
     "execution_count": 8,
     "metadata": {},
     "output_type": "execute_result"
    }
   ],
   "source": [
    "accept3()"
   ]
  },
  {
   "cell_type": "code",
   "execution_count": 1,
   "metadata": {
    "vscode": {
     "languageId": "c++"
    }
   },
   "outputs": [],
   "source": [
    "//pointers arrays and loops\n",
    "#include <iostream>\n",
    "using namespace std;"
   ]
  },
  {
   "cell_type": "code",
   "execution_count": 39,
   "metadata": {
    "vscode": {
     "languageId": "c++"
    }
   },
   "outputs": [],
   "source": [
    "//create a copy function to copy an array to another\n",
    "\n",
    "void copy_fct()\n",
    "{\n",
    "    int v1[10] = {0,1,2,3,4,5,6,7,8,9};\n",
    "    int v2[10];\n",
    "    \n",
    "    for(auto i=0;i!=10;++i)\n",
    "        v2[i] = v1[i];\n",
    "}"
   ]
  },
  {
   "cell_type": "code",
   "execution_count": 40,
   "metadata": {
    "vscode": {
     "languageId": "c++"
    }
   },
   "outputs": [],
   "source": [
    "copy_fct()"
   ]
  },
  {
   "cell_type": "code",
   "execution_count": 47,
   "metadata": {
    "vscode": {
     "languageId": "c++"
    }
   },
   "outputs": [],
   "source": [
    "//another way using the range for statement\n",
    "//this copies the elements of v into x and prints it\n",
    "void print()\n",
    "{\n",
    "    int v[] = {0,1,2,3,4,5,6,7,8,9};\n",
    "    \n",
    "    for(auto x:v)\n",
    "        cout<<x<<' ';\n",
    "    \n",
    "    for(auto x:{0,1,2,3,4,5,6,7,8,9})\n",
    "        cout<<x;\n",
    "}"
   ]
  },
  {
   "cell_type": "code",
   "execution_count": 48,
   "metadata": {
    "vscode": {
     "languageId": "c++"
    }
   },
   "outputs": [
    {
     "name": "stdout",
     "output_type": "stream",
     "text": [
      "0 1 2 3 4 5 6 7 8 9 0123456789"
     ]
    }
   ],
   "source": [
    "print()"
   ]
  },
  {
   "cell_type": "code",
   "execution_count": 52,
   "metadata": {
    "vscode": {
     "languageId": "c++"
    }
   },
   "outputs": [],
   "source": [
    "//if we didnt want to copy the elements and just wanted to loop over it\n",
    "//\n",
    "void increment()\n",
    "{\n",
    "    int v[] = {0,1,2,3,4,5,6,7,8,9};\n",
    "    for(auto& x:v)\n",
    "        ++x;\n",
    "}"
   ]
  },
  {
   "cell_type": "code",
   "execution_count": 54,
   "metadata": {
    "vscode": {
     "languageId": "c++"
    }
   },
   "outputs": [],
   "source": [
    "increment()"
   ]
  },
  {
   "cell_type": "code",
   "execution_count": 55,
   "metadata": {
    "vscode": {
     "languageId": "c++"
    }
   },
   "outputs": [],
   "source": [
    "// T[n]: array of n Ts (§7.3)\n",
    "// T*: pointer to T (§7.2)\n",
    "// T&: reference to T (§7.7)\n",
    "// T(A): function taking an argument of type A returning a result of type T"
   ]
  },
  {
   "cell_type": "code",
   "execution_count": 61,
   "metadata": {
    "vscode": {
     "languageId": "c++"
    }
   },
   "outputs": [],
   "source": [
    "double * pd = nullptr;"
   ]
  },
  {
   "cell_type": "code",
   "execution_count": 64,
   "metadata": {
    "vscode": {
     "languageId": "c++"
    }
   },
   "outputs": [
    {
     "name": "stderr",
     "output_type": "stream",
     "text": [
      "\u001b[1minput_line_76:2:7: \u001b[0m\u001b[0;1;31merror: \u001b[0m\u001b[1muse of undeclared identifier 'Record'\u001b[0m\n",
      " Link<Record>* ist = nullptr;\n",
      "\u001b[0;1;32m      ^\n",
      "\u001b[0m"
     ]
    },
    {
     "ename": "Interpreter Error",
     "evalue": "",
     "output_type": "error",
     "traceback": [
      "Interpreter Error: "
     ]
    }
   ],
   "source": [
    "Link<Record>* ist = nullptr;"
   ]
  },
  {
   "cell_type": "code",
   "execution_count": 65,
   "metadata": {
    "vscode": {
     "languageId": "c++"
    }
   },
   "outputs": [],
   "source": [
    "char v[6];"
   ]
  },
  {
   "cell_type": "code",
   "execution_count": 66,
   "metadata": {
    "vscode": {
     "languageId": "c++"
    }
   },
   "outputs": [],
   "source": [
    "char* p;"
   ]
  },
  {
   "cell_type": "code",
   "execution_count": 67,
   "metadata": {
    "vscode": {
     "languageId": "c++"
    }
   },
   "outputs": [],
   "source": [
    "char* p = &v[3];"
   ]
  },
  {
   "cell_type": "code",
   "execution_count": 70,
   "metadata": {
    "vscode": {
     "languageId": "c++"
    }
   },
   "outputs": [],
   "source": [
    "char x = *p;"
   ]
  },
  {
   "cell_type": "code",
   "execution_count": 85,
   "metadata": {
    "vscode": {
     "languageId": "c++"
    }
   },
   "outputs": [],
   "source": [
    "int x[3] = {1,2,3};\n"
   ]
  },
  {
   "cell_type": "code",
   "execution_count": 87,
   "metadata": {
    "vscode": {
     "languageId": "c++"
    }
   },
   "outputs": [],
   "source": [
    "int count_x(char* p, char x)\n",
    "{\n",
    "    if (p==nullptr) return 0;\n",
    "    int count = 0;\n",
    "    for (; *p!=0; ++p)\n",
    "        if(*p==x)\n",
    "            ++count;\n",
    "    return count;\n",
    "}"
   ]
  },
  {
   "cell_type": "code",
   "execution_count": 89,
   "metadata": {
    "scrolled": true,
    "vscode": {
     "languageId": "c++"
    }
   },
   "outputs": [
    {
     "name": "stderr",
     "output_type": "stream",
     "text": [
      "\u001b[1minput_line_109:2:2: \u001b[0m\u001b[0;1;31merror: \u001b[0m\u001b[1mno matching function for call to 'count_x'\u001b[0m\n",
      " count_x(p,x)\n",
      "\u001b[0;1;32m ^~~~~~~\n",
      "\u001b[0m\u001b[1minput_line_107:1:5: \u001b[0m\u001b[0;1;30mnote: \u001b[0mcandidate function not viable: no known conversion from 'int [3]' to 'char' for 2nd argument\u001b[0m\n",
      "int count_x(char* p, char x)\n",
      "\u001b[0;1;32m    ^\n",
      "\u001b[0m"
     ]
    },
    {
     "ename": "Interpreter Error",
     "evalue": "",
     "output_type": "error",
     "traceback": [
      "Interpreter Error: "
     ]
    }
   ],
   "source": [
    "count_x(p,x)"
   ]
  },
  {
   "cell_type": "code",
   "execution_count": 90,
   "metadata": {
    "vscode": {
     "languageId": "c++"
    }
   },
   "outputs": [],
   "source": [
    "//2.3.1 Structures"
   ]
  },
  {
   "cell_type": "code",
   "execution_count": 70,
   "metadata": {
    "vscode": {
     "languageId": "c++"
    }
   },
   "outputs": [],
   "source": [
    "//structuring a vector\n",
    "\n",
    "struct Vector{\n",
    "    int sz;       //number of elements\n",
    "    double *elem; // pointer to elements\n",
    "}"
   ]
  },
  {
   "cell_type": "code",
   "execution_count": 11,
   "metadata": {
    "vscode": {
     "languageId": "c++"
    }
   },
   "outputs": [],
   "source": [
    "//However the above doesnt make any sense sinc the elem pointer doesent point to anything"
   ]
  },
  {
   "cell_type": "code",
   "execution_count": 12,
   "metadata": {
    "vscode": {
     "languageId": "c++"
    }
   },
   "outputs": [],
   "source": [
    "//To construct a vector we can do the following\n",
    "\n",
    "void vector_init(Vector &v, int s)\n",
    "{\n",
    "    v.elem = new double[s]; //allocate an array of doubles\n",
    "    v.sz = s;\n",
    "}"
   ]
  },
  {
   "cell_type": "code",
   "execution_count": 2,
   "metadata": {
    "vscode": {
     "languageId": "c++"
    }
   },
   "outputs": [
    {
     "name": "stderr",
     "output_type": "stream",
     "text": [
      "\u001b[1minput_line_8:5:5: \u001b[0m\u001b[0;1;31merror: \u001b[0m\u001b[1muse of undeclared identifier 'Vector'; did you mean 'std::vector'?\u001b[0m\n",
      "    Vector v;\n",
      "\u001b[0;1;32m    ^~~~~~\n",
      "\u001b[0m\u001b[0;32m    std::vector\n",
      "\u001b[0m\u001b[1m/home/susearc/miniconda3/envs/xeus-cling/bin/../lib/gcc/../../x86_64-conda-linux-gnu/include/c++/12.2.0/bits/stl_vector.h:423:11: \u001b[0m\u001b[0;1;30mnote: \u001b[0m'std::vector' declared here\u001b[0m\n",
      "    class vector : protected _Vector_base<_Tp, _Alloc>\n",
      "\u001b[0;1;32m          ^\n",
      "\u001b[0m\u001b[1minput_line_8:5:5: \u001b[0m\u001b[0;1;31merror: \u001b[0m\u001b[1munknown type name 'Vector'\u001b[0m\n",
      "    Vector v;\n",
      "\u001b[0;1;32m    ^\n",
      "\u001b[0m\u001b[1minput_line_8:8:9: \u001b[0m\u001b[0;1;31merror: \u001b[0m\u001b[1muse of undeclared identifier 'cin'; did you mean 'sin'?\u001b[0m\n",
      "        cin>>v.elem[i];\n",
      "\u001b[0;1;32m        ^~~\n",
      "\u001b[0m\u001b[0;32m        sin\n",
      "\u001b[0m\u001b[1m/home/susearc/miniconda3/envs/xeus-cling/x86_64-conda-linux-gnu/sysroot/usr/include/bits/mathcalls.h:66:13: \u001b[0m\u001b[0;1;30mnote: \u001b[0m'sin' declared here\u001b[0m\n",
      "__MATHCALL (sin,, (_Mdouble_ __x));\n",
      "\u001b[0;1;32m            ^\n",
      "\u001b[0m\u001b[1minput_line_8:11:20: \u001b[0m\u001b[0;1;30mnote: \u001b[0muse '|=' to turn this inequality comparison into an or-assignment\u001b[0m\n",
      "    for (int i=0; i!=s, ++i)\n",
      "\u001b[0;1;32m                   ^~\n",
      "\u001b[0m\u001b[0;32m                   |=\n",
      "\u001b[0m\u001b[1minput_line_8:11:28: \u001b[0m\u001b[0;1;31merror: \u001b[0m\u001b[1mexpected ';' in 'for' statement specifier\u001b[0m\n",
      "    for (int i=0; i!=s, ++i)\n",
      "\u001b[0;1;32m                           ^\n",
      "\u001b[0m"
     ]
    },
    {
     "ename": "Interpreter Error",
     "evalue": "",
     "output_type": "error",
     "traceback": [
      "Interpreter Error: "
     ]
    }
   ],
   "source": [
    "//A simple use fo the vector looks like this\n",
    "\n",
    "double read_and_sum(int s)\n",
    "{\n",
    "    //read s integers from cin and return their sum; s is assumed to be positive\n",
    "    Vector v;\n",
    "    vector_init(v,s);\n",
    "    for(auto i=0; i!=s; ++i)\n",
    "        cin>>v.elem[i];\n",
    "    \n",
    "    double sum = 0;\n",
    "    for (int i=0; i!=s, ++i)\n",
    "        sum+=v.elem[i];\n",
    "    return sum;\n",
    "}"
   ]
  },
  {
   "cell_type": "code",
   "execution_count": 17,
   "metadata": {
    "vscode": {
     "languageId": "c++"
    }
   },
   "outputs": [],
   "source": [
    "void f(Vector v, Vector &rv, Vector *pv)\n",
    "{\n",
    "    int i1 = v.sz;\n",
    "    int i2 = rv.sz;\n",
    "    int i3 = pv->sz;\n",
    "}"
   ]
  },
  {
   "cell_type": "code",
   "execution_count": 25,
   "metadata": {
    "vscode": {
     "languageId": "c++"
    }
   },
   "outputs": [],
   "source": [
    "//Classes]\n",
    "#include <iostream>\n",
    "using namespace std;"
   ]
  },
  {
   "cell_type": "code",
   "execution_count": 20,
   "metadata": {
    "vscode": {
     "languageId": "c++"
    }
   },
   "outputs": [],
   "source": [
    "class Vector\n",
    "{\n",
    "    public:\n",
    "    Vector(int s):elem{new double[s]},sz{s}{} //construct a vector\n",
    "    double& operator[](int i){return elem[i];}// element access: subscripting\n",
    "    int size() {return sz;}\n",
    "    \n",
    "    private:\n",
    "    double* elem; //pointer to the elements\n",
    "    int sz;\n",
    "}"
   ]
  },
  {
   "cell_type": "code",
   "execution_count": 26,
   "metadata": {
    "vscode": {
     "languageId": "c++"
    }
   },
   "outputs": [],
   "source": [
    "//creating a function to access the vector\n",
    "\n",
    "double read_sum(int s)\n",
    "{\n",
    "    Vector v(s);\n",
    "    for (auto i=0;i!=v.size();++i)\n",
    "        cin>>v[i];\n",
    "        \n",
    "    double sum=0;\n",
    "    for (int i=0;i!=v.size();++i)\n",
    "        sum+=v[i];\n",
    "    return sum;\n",
    "}"
   ]
  },
  {
   "cell_type": "code",
   "execution_count": 27,
   "metadata": {
    "vscode": {
     "languageId": "c++"
    }
   },
   "outputs": [
    {
     "name": "stdout",
     "output_type": "stream",
     "text": [
      "5\n",
      "3\n",
      "3\n",
      "4\n",
      "5\n",
      "6\n",
      "7\n"
     ]
    },
    {
     "data": {
      "text/plain": [
       "33.000000"
      ]
     },
     "execution_count": 27,
     "metadata": {},
     "output_type": "execute_result"
    }
   ],
   "source": [
    "read_sum(7)"
   ]
  },
  {
   "cell_type": "code",
   "execution_count": 28,
   "metadata": {
    "vscode": {
     "languageId": "c++"
    }
   },
   "outputs": [
    {
     "name": "stderr",
     "output_type": "stream",
     "text": [
      "\u001b[1minput_line_42:2:2: \u001b[0m\u001b[0;1;31merror: \u001b[0m\u001b[1muse of undeclared identifier 'v'\u001b[0m\n",
      " v\n",
      "\u001b[0;1;32m ^\n",
      "\u001b[0m"
     ]
    },
    {
     "ename": "Interpreter Error",
     "evalue": "",
     "output_type": "error",
     "traceback": [
      "Interpreter Error: "
     ]
    }
   ],
   "source": [
    "// Enumerations"
   ]
  },
  {
   "cell_type": "code",
   "execution_count": 40,
   "metadata": {
    "vscode": {
     "languageId": "c++"
    }
   },
   "outputs": [],
   "source": [
    "enum class Color {red,green,blue};\n",
    "\n",
    "enum class Traffic_light {red, green, blue};"
   ]
  },
  {
   "cell_type": "code",
   "execution_count": 66,
   "metadata": {
    "vscode": {
     "languageId": "c++"
    }
   },
   "outputs": [
    {
     "name": "stderr",
     "output_type": "stream",
     "text": [
      "\u001b[1minput_line_91:3:1: \u001b[0m\u001b[0;1;31merror: \u001b[0m\u001b[1mfunction definition is not allowed here\u001b[0m\n",
      "{\n",
      "\u001b[0;1;32m^\n",
      "\u001b[0m"
     ]
    },
    {
     "ename": "Interpreter Error",
     "evalue": "",
     "output_type": "error",
     "traceback": [
      "Interpreter Error: "
     ]
    }
   ],
   "source": [
    "#include <iostream>\n",
    "Traffic_light& operator++(Traffic_light& t)\n",
    "{\n",
    "    switch(t){\n",
    "    case Traffic_light::green: return t=Traffic_light::blue;\n",
    "    case Traffic_light::blue: return t=Traffic_light::red;\n",
    "    case Traffic_light::red: return t=Traffic_light::green;\n",
    "    };\n",
    "};\n"
   ]
  },
  {
   "cell_type": "code",
   "execution_count": 59,
   "metadata": {
    "vscode": {
     "languageId": "c++"
    }
   },
   "outputs": [],
   "source": [
    "//Modularity\n",
    "double sqrt(double);\n"
   ]
  },
  {
   "cell_type": "code",
   "execution_count": 63,
   "metadata": {
    "vscode": {
     "languageId": "c++"
    }
   },
   "outputs": [
    {
     "data": {
      "text/plain": [
       "6.0000000"
      ]
     },
     "execution_count": 63,
     "metadata": {},
     "output_type": "execute_result"
    }
   ],
   "source": [
    "sqrt(36)"
   ]
  },
  {
   "cell_type": "code",
   "execution_count": 2,
   "metadata": {
    "vscode": {
     "languageId": "c++"
    }
   },
   "outputs": [],
   "source": [
    "class Vector {\n",
    "    public:\n",
    "    Vector(int s);\n",
    "    double& operator[](int i);\n",
    "    int size();\n",
    "    private:\n",
    "    double* elem;\n",
    "    int sz;\n",
    "};"
   ]
  },
  {
   "cell_type": "code",
   "execution_count": 7,
   "metadata": {
    "vscode": {
     "languageId": "c++"
    }
   },
   "outputs": [
    {
     "name": "stderr",
     "output_type": "stream",
     "text": [
      "\u001b[1minput_line_13:3:37: \u001b[0m\u001b[0;1;31merror: \u001b[0m\u001b[1mexpected '(' for function-style cast or type construction\u001b[0m\n",
      "    if (s<0) throw std::length_error;\n",
      "\u001b[0;1;32m                   ~~~~~~~~~~~~~~~~~^\n",
      "\u001b[0m"
     ]
    },
    {
     "ename": "Interpreter Error",
     "evalue": "",
     "output_type": "error",
     "traceback": [
      "Interpreter Error: "
     ]
    }
   ],
   "source": [
    "Vector::Vector(int s)\n",
    "{\n",
    "    if (s<0) throw std::length_error;\n",
    "    elem = new double[s];\n",
    "    sz = s;\n",
    "}"
   ]
  },
  {
   "cell_type": "code",
   "execution_count": 4,
   "metadata": {
    "vscode": {
     "languageId": "c++"
    }
   },
   "outputs": [
    {
     "name": "stderr",
     "output_type": "stream",
     "text": [
      "IncrementalExecutor::executeFunction: symbol '_ZN11__cling_N526VectorC1Ei' unresolved while linking function '_GLOBAL__sub_I_cling_module_7'!\n",
      "You are probably missing the definition of __cling_N52::Vector::Vector(int)\n",
      "Maybe you need to load the corresponding shared library?\n"
     ]
    }
   ],
   "source": []
  },
  {
   "cell_type": "code",
   "execution_count": null,
   "metadata": {
    "vscode": {
     "languageId": "c++"
    }
   },
   "outputs": [],
   "source": []
  }
 ],
 "metadata": {
  "kernelspec": {
   "display_name": "C++11",
   "language": "C++11",
   "name": "xcpp11"
  },
  "language_info": {
   "codemirror_mode": "text/x-c++src",
   "file_extension": ".cpp",
   "mimetype": "text/x-c++src",
   "name": "C++11",
   "version": "11"
  },
  "vscode": {
   "interpreter": {
    "hash": "cbcfcef4fb1a421a25d66d9493f5a4b338998e39d88b9e30741ff340ac113675"
   }
  }
 },
 "nbformat": 4,
 "nbformat_minor": 4
}
