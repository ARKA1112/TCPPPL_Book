{
 "cells": [
  {
   "cell_type": "code",
   "execution_count": 89,
   "id": "7d506c3d",
   "metadata": {},
   "outputs": [],
   "source": [
    "#include <iostream>\n",
    "#include <vector>\n",
    "using namespace std;"
   ]
  },
  {
   "cell_type": "code",
   "execution_count": 2,
   "id": "4452a92c",
   "metadata": {},
   "outputs": [
    {
     "name": "stderr",
     "output_type": "stream",
     "text": [
      "\u001b[1minput_line_9:3:20: \u001b[0m\u001b[0;1;35mwarning: \u001b[0m\u001b[1mimplicit conversion from 'int' to 'unsigned char' changes value from 1256 to 232 [-Wconstant-conversion]\u001b[0m\n",
      "unsigned char c2 = 1256;\n",
      "\u001b[0;1;32m              ~~   ^~~~\n",
      "\u001b[0m"
     ]
    }
   ],
   "source": [
    "unsigned char c1 = 64;\n",
    "unsigned char c2 = 1256;\n",
    "// well defined: a char has at least 8 bits and can always hold 64\n",
    "// implementation-defined: truncation if a char has only 8 bits"
   ]
  },
  {
   "cell_type": "code",
   "execution_count": 3,
   "id": "ca473c2e",
   "metadata": {},
   "outputs": [
    {
     "data": {
      "text/plain": [
       "'0xe8'"
      ]
     },
     "execution_count": 3,
     "metadata": {},
     "output_type": "execute_result"
    }
   ],
   "source": [
    "c2"
   ]
  },
  {
   "cell_type": "code",
   "execution_count": 4,
   "id": "33ce884c",
   "metadata": {},
   "outputs": [],
   "source": [
    "static_assert(4<=sizeof(int),\"sizeof(int) too small\");"
   ]
  },
  {
   "cell_type": "code",
   "execution_count": 5,
   "id": "2cbffc4c",
   "metadata": {},
   "outputs": [],
   "source": [
    "const int size = 4*1096"
   ]
  },
  {
   "cell_type": "code",
   "execution_count": 6,
   "id": "9b900c23",
   "metadata": {},
   "outputs": [],
   "source": [
    "char page[size];"
   ]
  },
  {
   "cell_type": "code",
   "execution_count": 7,
   "id": "07bb34c4",
   "metadata": {},
   "outputs": [
    {
     "name": "stderr",
     "output_type": "stream",
     "text": [
      "\u001b[1minput_line_17:3:5: \u001b[0m\u001b[0;1;35mwarning: \u001b[0m\u001b[1marray index 8768 is past the end of the array (which contains 4384 elements) [-Warray-bounds]\u001b[0m\n",
      "    page[size+size] = 7;\n",
      "\u001b[0;1;32m    ^    ~~~~~~~~~\n",
      "\u001b[0m\u001b[1minput_line_16:2:2: \u001b[0m\u001b[0;1;30mnote: \u001b[0marray 'page' declared here\u001b[0m\n",
      " char page[size];\n",
      "\u001b[0;1;32m ^\n",
      "\u001b[0m"
     ]
    }
   ],
   "source": [
    "void f()\n",
    "{\n",
    "    page[size+size] = 7;\n",
    "}"
   ]
  },
  {
   "cell_type": "markdown",
   "id": "b3fda2da",
   "metadata": {},
   "source": [
    "Implementations"
   ]
  },
  {
   "cell_type": "code",
   "execution_count": 8,
   "id": "866791b2",
   "metadata": {},
   "outputs": [],
   "source": [
    "//pg-137"
   ]
  },
  {
   "cell_type": "markdown",
   "id": "51e58742",
   "metadata": {},
   "source": [
    "Types"
   ]
  },
  {
   "cell_type": "code",
   "execution_count": 9,
   "id": "9c905279",
   "metadata": {},
   "outputs": [],
   "source": [
    "/*float x;\n",
    "int y = 7;\n",
    "float f(int);\n",
    "// x is a floating-point variable\n",
    "// y is an integer variable with the initial value 7\n",
    "// f is a function taking an argument of type int and returning a floating-point number*/"
   ]
  },
  {
   "cell_type": "markdown",
   "id": "1a157987",
   "metadata": {},
   "source": [
    "Booleans\n"
   ]
  },
  {
   "cell_type": "code",
   "execution_count": 10,
   "id": "5753b486",
   "metadata": {},
   "outputs": [],
   "source": [
    "void f(int a, int b)\n",
    "{\n",
    "    bool b1 {a==b};\n",
    "    cout << b1;\n",
    "}"
   ]
  },
  {
   "cell_type": "code",
   "execution_count": 11,
   "id": "89e489fe",
   "metadata": {},
   "outputs": [
    {
     "name": "stdout",
     "output_type": "stream",
     "text": [
      "1"
     ]
    }
   ],
   "source": [
    "f(3,3)"
   ]
  },
  {
   "cell_type": "code",
   "execution_count": 12,
   "id": "d8ca27e5",
   "metadata": {},
   "outputs": [],
   "source": [
    "//greateer than checker\n",
    "\n",
    "bool grreater(int a,int b)\n",
    "{\n",
    "    return a<b;\n",
    "}\n"
   ]
  },
  {
   "cell_type": "code",
   "execution_count": 13,
   "id": "256b1ad4",
   "metadata": {},
   "outputs": [
    {
     "data": {
      "text/plain": [
       "false"
      ]
     },
     "execution_count": 13,
     "metadata": {},
     "output_type": "execute_result"
    }
   ],
   "source": [
    "grreater(8,7)"
   ]
  },
  {
   "cell_type": "code",
   "execution_count": 14,
   "id": "9b58a3b1",
   "metadata": {},
   "outputs": [
    {
     "name": "stderr",
     "output_type": "stream",
     "text": [
      "\u001b[1minput_line_25:3:10: \u001b[0m\u001b[0;1;31merror: \u001b[0m\u001b[1mconstant expression evaluates to 7 which cannot be narrowed to type 'bool' [-Wc++11-narrowing]\u001b[0m\n",
      "bool b2 {7};\n",
      "\u001b[0;1;32m         ^\n",
      "\u001b[0m\u001b[1minput_line_25:3:10: \u001b[0m\u001b[0;1;30mnote: \u001b[0minsert an explicit cast to silence this issue\u001b[0m\n",
      "bool b2 {7};\n",
      "\u001b[0;1;32m         ^\n",
      "\u001b[0m\u001b[0;32m         static_cast<bool>( )\n",
      "\u001b[0m"
     ]
    },
    {
     "ename": "Interpreter Error",
     "evalue": "",
     "output_type": "error",
     "traceback": [
      "Interpreter Error: "
     ]
    }
   ],
   "source": [
    "bool b1 = 7;\n",
    "bool b2 {7};"
   ]
  },
  {
   "cell_type": "code",
   "execution_count": null,
   "id": "021602ad",
   "metadata": {},
   "outputs": [],
   "source": [
    "void g(int *p)\n",
    "{\n",
    "    bool b = p;\n",
    "    bool b2 {p!=nullptr};\n",
    "    cout<<b;\n",
    "    cout<<b2;\n",
    "    \n",
    "    if (p){\n",
    "        return p;\n",
    "    }\n",
    "};"
   ]
  },
  {
   "cell_type": "markdown",
   "id": "bade18bb",
   "metadata": {},
   "source": [
    "Character Types"
   ]
  },
  {
   "cell_type": "code",
   "execution_count": null,
   "id": "528f4cc5",
   "metadata": {},
   "outputs": [],
   "source": [
    "//char --- The default character type used for program text.\n",
    "//signed char: Like shar but guaranteed to tbe signed, that is capable of holding both positive and negative values\n",
    "\n",
    "//unsigned char: Like char, but guaranteed to be unsigned.\n",
    "\n",
    "//char16_t: A type for holding 16 bit character sets\n",
    "//char32_t A type for holding 32 bit character sets\n",
    "\n",
    "//A char variable can hold a character fo the implementation character set."
   ]
  },
  {
   "cell_type": "code",
   "execution_count": null,
   "id": "8e25d17b",
   "metadata": {},
   "outputs": [],
   "source": [
    "char ch = 'a';"
   ]
  },
  {
   "cell_type": "code",
   "execution_count": null,
   "id": "d67f4da5",
   "metadata": {},
   "outputs": [],
   "source": [
    "ch"
   ]
  },
  {
   "cell_type": "code",
   "execution_count": null,
   "id": "fb37ffd7",
   "metadata": {},
   "outputs": [],
   "source": [
    "//Every character has an integer value like we used in ord() in python\n",
    "/// Simillarly we can use\n",
    "\n",
    "void intval()\n",
    "{\n",
    "    for (char c; cin>>c;)\n",
    "        cout << \"The integer value is \"<<int{c}<<'\\n';\n",
    "}"
   ]
  },
  {
   "cell_type": "code",
   "execution_count": null,
   "id": "cb230bc4",
   "metadata": {},
   "outputs": [],
   "source": [
    "intval()"
   ]
  },
  {
   "cell_type": "code",
   "execution_count": 4,
   "id": "3ac491ec",
   "metadata": {},
   "outputs": [],
   "source": [
    "void digits()\n",
    "{\n",
    "    for(int i=0; i!=10;++i)\n",
    "        cout<<static_cast<char>('0'+i);\n",
    "}"
   ]
  },
  {
   "cell_type": "code",
   "execution_count": 5,
   "id": "60d261ea",
   "metadata": {},
   "outputs": [
    {
     "name": "stdout",
     "output_type": "stream",
     "text": [
      "0123456789"
     ]
    }
   ],
   "source": [
    "digits()"
   ]
  },
  {
   "cell_type": "markdown",
   "id": "d0675404",
   "metadata": {},
   "source": [
    "Signed and Unsigned Characters"
   ]
  },
  {
   "cell_type": "code",
   "execution_count": 10,
   "id": "3423f85a",
   "metadata": {},
   "outputs": [
    {
     "name": "stderr",
     "output_type": "stream",
     "text": [
      "\u001b[1minput_line_21:2:11: \u001b[0m\u001b[0;1;35mwarning: \u001b[0m\u001b[1mimplicit conversion from 'int' to 'char' changes value from 255 to -1 [-Wconstant-conversion]\u001b[0m\n",
      " char c = 255;\n",
      "\u001b[0;1;32m      ~   ^~~\n",
      "\u001b[0m"
     ]
    }
   ],
   "source": [
    "char c = 255;\n",
    "int i = c;"
   ]
  },
  {
   "cell_type": "code",
   "execution_count": 19,
   "id": "165f4f5f",
   "metadata": {},
   "outputs": [
    {
     "data": {
      "text/plain": [
       "'0x9c'"
      ]
     },
     "execution_count": 19,
     "metadata": {},
     "output_type": "execute_result"
    }
   ],
   "source": [
    "signed char sc = -100;\n",
    "unsigned char uc = sc;\n",
    "cout << uc;\n",
    "sc"
   ]
  },
  {
   "cell_type": "code",
   "execution_count": 10,
   "id": "89f9cfe4",
   "metadata": {},
   "outputs": [
    {
     "data": {
      "text/plain": [
       "'0x02'"
      ]
     },
     "execution_count": 10,
     "metadata": {},
     "output_type": "execute_result"
    }
   ],
   "source": [
    "char count[256];\n",
    "++count[sc];\n",
    "++count[uc]"
   ]
  },
  {
   "cell_type": "code",
   "execution_count": 8,
   "id": "9145f139",
   "metadata": {},
   "outputs": [
    {
     "name": "stderr",
     "output_type": "stream",
     "text": [
      "\u001b[1minput_line_21:2:4: \u001b[0m\u001b[0;1;31merror: \u001b[0m\u001b[1mreference to 'count' is ambiguous\u001b[0m\n",
      " ++count[sc];\n",
      "\u001b[0;1;32m   ^\n",
      "\u001b[0m\u001b[1minput_line_20:2:7: \u001b[0m\u001b[0;1;30mnote: \u001b[0mcandidate found by name lookup is '__cling_N511::count'\u001b[0m\n",
      " char count[256];\n",
      "\u001b[0;1;32m      ^\n",
      "\u001b[0m\u001b[1m/home/susearc/miniconda3/envs/xeus-cling/bin/../lib/gcc/../../x86_64-conda-linux-gnu/include/c++/12.2.0/bits/stl_algo.h:4026:5: \u001b[0m\u001b[0;1;30mnote: \u001b[0mcandidate found by name lookup is 'std::count'\u001b[0m\n",
      "    count(_InputIterator __first, _InputIterator __last, const _Tp& __value)\n",
      "\u001b[0;1;32m    ^\n",
      "\u001b[0m"
     ]
    },
    {
     "ename": "Interpreter Error",
     "evalue": "",
     "output_type": "error",
     "traceback": [
      "Interpreter Error: "
     ]
    }
   ],
   "source": [
    "++count[sc];"
   ]
  },
  {
   "cell_type": "markdown",
   "id": "08a0fe52",
   "metadata": {},
   "source": [
    "Character Literals"
   ]
  },
  {
   "cell_type": "code",
   "execution_count": 22,
   "id": "9a885b9e",
   "metadata": {},
   "outputs": [
    {
     "data": {
      "text/plain": [
       "\"a\n",
       "h\n",
       "9\""
      ]
     },
     "execution_count": 22,
     "metadata": {},
     "output_type": "execute_result"
    }
   ],
   "source": [
    "char v1[] = \"a\\xah\\129\";\n",
    "v1"
   ]
  },
  {
   "cell_type": "code",
   "execution_count": 27,
   "id": "e502fbbb",
   "metadata": {},
   "outputs": [
    {
     "name": "stderr",
     "output_type": "stream",
     "text": [
      "\u001b[1minput_line_52:2:16: \u001b[0m\u001b[0;1;31merror: \u001b[0m\u001b[1minvalid universal character\u001b[0m\n",
      " char v1[] = u'\\UFADEBEEF'\n",
      "\u001b[0;1;32m               ^~~~~~~~~~\n",
      "\u001b[0m"
     ]
    },
    {
     "ename": "Interpreter Error",
     "evalue": "",
     "output_type": "error",
     "traceback": [
      "Interpreter Error: "
     ]
    }
   ],
   "source": [
    "char v1[] = u'\\UFADEBEEF'"
   ]
  },
  {
   "cell_type": "code",
   "execution_count": 29,
   "id": "c16d4b5a",
   "metadata": {},
   "outputs": [
    {
     "name": "stderr",
     "output_type": "stream",
     "text": [
      "\u001b[1minput_line_54:2:4: \u001b[0m\u001b[0;1;31merror: \u001b[0m\u001b[1minvalid universal character\u001b[0m\n",
      " u'\\uDEAD'\n",
      "\u001b[0;1;32m   ^~~~~~\n",
      "\u001b[0m"
     ]
    },
    {
     "ename": "Interpreter Error",
     "evalue": "",
     "output_type": "error",
     "traceback": [
      "Interpreter Error: "
     ]
    }
   ],
   "source": [
    "u'\\uDEAD'"
   ]
  },
  {
   "cell_type": "markdown",
   "id": "078ace06",
   "metadata": {},
   "source": [
    "Integer Types"
   ]
  },
  {
   "cell_type": "markdown",
   "id": "9e2350f3",
   "metadata": {},
   "source": [
    "Types of Integer Literals"
   ]
  },
  {
   "cell_type": "code",
   "execution_count": 82,
   "id": "e7f9057b",
   "metadata": {},
   "outputs": [],
   "source": [
    "long int a = 12;\n",
    "float b = a"
   ]
  },
  {
   "cell_type": "code",
   "execution_count": 83,
   "id": "3dcf74f0",
   "metadata": {},
   "outputs": [],
   "source": [
    "long *c = &a //Pointers point to a memory address"
   ]
  },
  {
   "cell_type": "code",
   "execution_count": 87,
   "id": "cf5dac12",
   "metadata": {},
   "outputs": [
    {
     "data": {
      "text/plain": [
       "@0x7ffdba48cca8"
      ]
     },
     "execution_count": 87,
     "metadata": {},
     "output_type": "execute_result"
    }
   ],
   "source": [
    "c + 1"
   ]
  },
  {
   "cell_type": "code",
   "execution_count": 91,
   "id": "b824a53d",
   "metadata": {},
   "outputs": [
    {
     "data": {
      "text/plain": [
       "13"
      ]
     },
     "execution_count": 91,
     "metadata": {},
     "output_type": "execute_result"
    }
   ],
   "source": [
    "*c + 1"
   ]
  },
  {
   "cell_type": "code",
   "execution_count": 96,
   "id": "1a7417ba",
   "metadata": {},
   "outputs": [
    {
     "data": {
      "text/plain": [
       "14"
      ]
     },
     "execution_count": 96,
     "metadata": {},
     "output_type": "execute_result"
    }
   ],
   "source": [
    "++a"
   ]
  },
  {
   "cell_type": "code",
   "execution_count": 100,
   "id": "c3e87298",
   "metadata": {},
   "outputs": [
    {
     "data": {
      "text/plain": [
       "@0x7ffdba48cca8"
      ]
     },
     "execution_count": 100,
     "metadata": {},
     "output_type": "execute_result"
    }
   ],
   "source": [
    "&c"
   ]
  },
  {
   "cell_type": "markdown",
   "id": "5bce1ea1",
   "metadata": {},
   "source": [
    "Floating point literals"
   ]
  },
  {
   "cell_type": "markdown",
   "id": "ece346ab",
   "metadata": {},
   "source": [
    "Prefixes and Suffixes"
   ]
  },
  {
   "cell_type": "code",
   "execution_count": 110,
   "id": "7d3dac20",
   "metadata": {},
   "outputs": [
    {
     "data": {
      "text/plain": [
       "8"
      ]
     },
     "execution_count": 110,
     "metadata": {},
     "output_type": "execute_result"
    }
   ],
   "source": [
    "sizeof(1L)"
   ]
  },
  {
   "cell_type": "code",
   "execution_count": 111,
   "id": "e3a02d8e",
   "metadata": {},
   "outputs": [
    {
     "data": {
      "text/plain": [
       "8"
      ]
     },
     "execution_count": 111,
     "metadata": {},
     "output_type": "execute_result"
    }
   ],
   "source": [
    "sizeof(1LL)"
   ]
  },
  {
   "cell_type": "code",
   "execution_count": 130,
   "id": "3e77b57f",
   "metadata": {},
   "outputs": [],
   "source": [
    "unsigned char Hello = 200"
   ]
  },
  {
   "cell_type": "code",
   "execution_count": 131,
   "id": "bfccfdd6",
   "metadata": {},
   "outputs": [
    {
     "data": {
      "text/plain": [
       "1"
      ]
     },
     "execution_count": 131,
     "metadata": {},
     "output_type": "execute_result"
    }
   ],
   "source": [
    "sizeof(Hello)"
   ]
  },
  {
   "cell_type": "code",
   "execution_count": 132,
   "id": "44546a6e",
   "metadata": {},
   "outputs": [
    {
     "data": {
      "text/plain": [
       "'0xc8'"
      ]
     },
     "execution_count": 132,
     "metadata": {},
     "output_type": "execute_result"
    }
   ],
   "source": [
    "Hello"
   ]
  },
  {
   "cell_type": "markdown",
   "id": "0877e074",
   "metadata": {},
   "source": [
    "Alignment"
   ]
  },
  {
   "cell_type": "code",
   "execution_count": 136,
   "id": "96f56588",
   "metadata": {},
   "outputs": [
    {
     "name": "stderr",
     "output_type": "stream",
     "text": [
      "\u001b[1minput_line_218:2:12: \u001b[0m\u001b[0;1;35mwarning: \u001b[0m\u001b[1m'alignof' applied to an expression is a GNU extension [-Wgnu-alignof-expression]\u001b[0m\n",
      " auto ac = alignof('c'); //alignment of char\n",
      "\u001b[0;1;32m           ^\n",
      "\u001b[0m"
     ]
    }
   ],
   "source": [
    "auto ac = alignof('c'); //alignment of char"
   ]
  },
  {
   "cell_type": "code",
   "execution_count": 137,
   "id": "d006f910",
   "metadata": {},
   "outputs": [
    {
     "name": "stderr",
     "output_type": "stream",
     "text": [
      "\u001b[1minput_line_219:2:12: \u001b[0m\u001b[0;1;35mwarning: \u001b[0m\u001b[1m'alignof' applied to an expression is a GNU extension [-Wgnu-alignof-expression]\u001b[0m\n",
      " auto ai = alignof(1);\n",
      "\u001b[0;1;32m           ^\n",
      "\u001b[0m"
     ]
    }
   ],
   "source": [
    "auto ai = alignof(1);  //alignment of int"
   ]
  },
  {
   "cell_type": "code",
   "execution_count": 138,
   "id": "08d2d9f2",
   "metadata": {},
   "outputs": [
    {
     "data": {
      "text/plain": [
       "4"
      ]
     },
     "execution_count": 138,
     "metadata": {},
     "output_type": "execute_result"
    }
   ],
   "source": [
    "ai"
   ]
  },
  {
   "cell_type": "code",
   "execution_count": 139,
   "id": "064474a0",
   "metadata": {},
   "outputs": [
    {
     "name": "stderr",
     "output_type": "stream",
     "text": [
      "\u001b[1minput_line_222:2:12: \u001b[0m\u001b[0;1;35mwarning: \u001b[0m\u001b[1m'alignof' applied to an expression is a GNU extension [-Wgnu-alignof-expression]\u001b[0m\n",
      " auto ad = alignof(2.0)\n",
      "\u001b[0;1;32m           ^\n",
      "\u001b[0m"
     ]
    }
   ],
   "source": [
    "auto ad = alignof(2.0)  //alignment of double"
   ]
  },
  {
   "cell_type": "code",
   "execution_count": 143,
   "id": "034b6879",
   "metadata": {},
   "outputs": [],
   "source": [
    "int a[20] = {1,2,3}"
   ]
  },
  {
   "cell_type": "code",
   "execution_count": 146,
   "id": "e3e8e919",
   "metadata": {},
   "outputs": [
    {
     "name": "stderr",
     "output_type": "stream",
     "text": [
      "\u001b[1minput_line_232:2:12: \u001b[0m\u001b[0;1;35mwarning: \u001b[0m\u001b[1m'alignof' applied to an expression is a GNU extension [-Wgnu-alignof-expression]\u001b[0m\n",
      " auto aa = alignof(a)\n",
      "\u001b[0;1;32m           ^\n",
      "\u001b[0m"
     ]
    }
   ],
   "source": [
    "auto aa = alignof(a)"
   ]
  },
  {
   "cell_type": "code",
   "execution_count": 148,
   "id": "4ad1d593",
   "metadata": {},
   "outputs": [
    {
     "data": {
      "text/plain": [
       "4"
      ]
     },
     "execution_count": 148,
     "metadata": {},
     "output_type": "execute_result"
    }
   ],
   "source": [
    "aa"
   ]
  },
  {
   "cell_type": "markdown",
   "id": "e44fbc02",
   "metadata": {},
   "source": [
    "Declarations"
   ]
  },
  {
   "cell_type": "code",
   "execution_count": 180,
   "id": "08fdb4bb",
   "metadata": {},
   "outputs": [],
   "source": [
    "//Before a name can be used in a C++ program it must be declared. Tha is its \n",
    "//type must be specified to inform the compiler what kind of entity the name refers to.\n",
    "\n",
    "char ch;\n",
    "string s;\n",
    "auto count = 1;\n",
    "sizeof(count);\n",
    "\n",
    "const double pi {3.1415926535897};\n",
    "\n",
    "//extern int error_number;\n",
    "\n",
    "\n",
    "const char* name = \"Njal\";\n",
    "\n",
    "const char* season[] = { \"spring\", \"summer\", \"fall\", \"winter\" };\n",
    "\n",
    "\n",
    "vector <string> people {name, \"Skarphedlin\",\"Gunnar\"}\n",
    "\n",
    "\n"
   ]
  },
  {
   "cell_type": "code",
   "execution_count": 181,
   "id": "fde0fb10",
   "metadata": {},
   "outputs": [
    {
     "data": {
      "text/plain": [
       "{ \"Njal\", \"Skarphedlin\", \"Gunnar\" }"
      ]
     },
     "execution_count": 181,
     "metadata": {},
     "output_type": "execute_result"
    }
   ],
   "source": [
    "people"
   ]
  },
  {
   "cell_type": "code",
   "execution_count": 197,
   "id": "09bbde30",
   "metadata": {},
   "outputs": [
    {
     "name": "stderr",
     "output_type": "stream",
     "text": [
      "\u001b[1minput_line_302:3:7: \u001b[0m\u001b[0;1;31merror: \u001b[0m\u001b[1mno viable conversion from 'int' to '__cling_N5287::Date'\u001b[0m\n",
      " Date p = 12,6,2\n",
      "\u001b[0;1;32m      ^   ~~\n",
      "\u001b[0m\u001b[1minput_line_302:1:8: \u001b[0m\u001b[0;1;30mnote: \u001b[0mcandidate constructor (the implicit copy constructor) not viable: no known conversion from 'int' to 'const __cling_N5287::Date &' for 1st argument\u001b[0m\n",
      "struct Date{int d, m, y;};\n",
      "\u001b[0;1;32m       ^\n",
      "\u001b[0m\u001b[1minput_line_302:1:8: \u001b[0m\u001b[0;1;30mnote: \u001b[0mcandidate constructor (the implicit move constructor) not viable: no known conversion from 'int' to '__cling_N5287::Date &&' for 1st argument\u001b[0m\n",
      "struct Date{int d, m, y;};\n",
      "\u001b[0;1;32m       ^\n",
      "\u001b[0m\u001b[1minput_line_302:3:14: \u001b[0m\u001b[0;1;31merror: \u001b[0m\u001b[1mexpected unqualified-id\u001b[0m\n",
      " Date p = 12,6,2\n",
      "\u001b[0;1;32m             ^\n",
      "\u001b[0m\u001b[1minput_line_302:3:14: \u001b[0m\u001b[0;1;31merror: \u001b[0m\u001b[1mexpected ';' at end of declaration\u001b[0m\n",
      " Date p = 12,6,2\n",
      "\u001b[0;1;32m             ^\n",
      "\u001b[0m\u001b[0;32m             ;\n",
      "\u001b[0m"
     ]
    },
    {
     "ename": "Interpreter Error",
     "evalue": "",
     "output_type": "error",
     "traceback": [
      "Interpreter Error: "
     ]
    }
   ],
   "source": [
    "struct Date{int d, m, y;};\n"
   ]
  },
  {
   "cell_type": "code",
   "execution_count": 193,
   "id": "92410564",
   "metadata": {},
   "outputs": [
    {
     "name": "stderr",
     "output_type": "stream",
     "text": [
      "\u001b[1minput_line_298:3:2: \u001b[0m\u001b[0;1;31merror: \u001b[0m\u001b[1mno matching function for call to 'day'\u001b[0m\n",
      " day(12)\n",
      "\u001b[0;1;32m ^~~\n",
      "\u001b[0m\u001b[1minput_line_298:1:5: \u001b[0m\u001b[0;1;30mnote: \u001b[0mcandidate function not viable: no known conversion from 'int' to '__cling_N5278::Date *' for 1st argument\u001b[0m\n",
      "int day(Date* p) {return p->d;}\n",
      "\u001b[0;1;32m    ^\n",
      "\u001b[0m"
     ]
    },
    {
     "ename": "Interpreter Error",
     "evalue": "",
     "output_type": "error",
     "traceback": [
      "Interpreter Error: "
     ]
    }
   ],
   "source": [
    "int day(Date* p) {return p->d;}\n"
   ]
  },
  {
   "cell_type": "code",
   "execution_count": 190,
   "id": "51a49e4f",
   "metadata": {},
   "outputs": [
    {
     "name": "stderr",
     "output_type": "stream",
     "text": [
      "\u001b[1minput_line_295:2:2: \u001b[0m\u001b[0;1;31merror: \u001b[0m\u001b[1mno matching function for call to 'day'\u001b[0m\n",
      " day()\n",
      "\u001b[0;1;32m ^~~\n",
      "\u001b[0m\u001b[1minput_line_294:1:5: \u001b[0m\u001b[0;1;30mnote: \u001b[0mcandidate function not viable: requires single argument 'p', but no arguments were provided\u001b[0m\n",
      "int day(Date* p) {return p->d;}\n",
      "\u001b[0;1;32m    ^\n",
      "\u001b[0m"
     ]
    },
    {
     "ename": "Interpreter Error",
     "evalue": "",
     "output_type": "error",
     "traceback": [
      "Interpreter Error: "
     ]
    }
   ],
   "source": [
    "day()"
   ]
  },
  {
   "cell_type": "code",
   "execution_count": 202,
   "id": "0ba7140a",
   "metadata": {},
   "outputs": [],
   "source": [
    "int sqrt(int);"
   ]
  },
  {
   "cell_type": "code",
   "execution_count": 204,
   "id": "64d7a8bd",
   "metadata": {},
   "outputs": [
    {
     "data": {
      "text/plain": [
       "3.0331502"
      ]
     },
     "execution_count": 204,
     "metadata": {},
     "output_type": "execute_result"
    }
   ],
   "source": [
    "sqrt(9.2)"
   ]
  },
  {
   "cell_type": "code",
   "execution_count": 205,
   "id": "db472c98",
   "metadata": {},
   "outputs": [],
   "source": [
    "constexpr int fac(int n)\n",
    "{\n",
    "    return (n<2)?1:n*fac(n-1);\n",
    "}"
   ]
  },
  {
   "cell_type": "code",
   "execution_count": 206,
   "id": "36e778cd",
   "metadata": {},
   "outputs": [
    {
     "data": {
      "text/plain": [
       "362880"
      ]
     },
     "execution_count": 206,
     "metadata": {},
     "output_type": "execute_result"
    }
   ],
   "source": [
    "fac(9)"
   ]
  },
  {
   "cell_type": "code",
   "execution_count": 211,
   "id": "ac14df4c",
   "metadata": {},
   "outputs": [
    {
     "name": "stderr",
     "output_type": "stream",
     "text": [
      "\u001b[1minput_line_321:3:8: \u001b[0m\u001b[0;1;31merror: \u001b[0m\u001b[1mredefinition of 'count' with a different type: 'double' vs 'int'\u001b[0m\n",
      "double count;  //Error redefinition\n",
      "\u001b[0;1;32m       ^\n",
      "\u001b[0m\u001b[1minput_line_321:2:6: \u001b[0m\u001b[0;1;30mnote: \u001b[0mprevious definition is here\u001b[0m\n",
      " int count;\n",
      "\u001b[0;1;32m     ^\n",
      "\u001b[0m"
     ]
    },
    {
     "ename": "Interpreter Error",
     "evalue": "",
     "output_type": "error",
     "traceback": [
      "Interpreter Error: "
     ]
    }
   ],
   "source": [
    "int count;\n",
    "//double count;  //Error redefinition\n",
    "\n"
   ]
  },
  {
   "cell_type": "code",
   "execution_count": 225,
   "id": "dd02bb71",
   "metadata": {},
   "outputs": [],
   "source": [
    "void f()\n",
    "{\n",
    "    int count {1};              //initialize count to 1\n",
    "    const char* name {\"Bjarne\"}; //name is a variable that points to a const\n",
    "    count = 2;                   \n",
    "    name = \"marian\";\n",
    "    \n",
    "    cout << count;\n",
    "}"
   ]
  },
  {
   "cell_type": "code",
   "execution_count": 226,
   "id": "5702965b",
   "metadata": {},
   "outputs": [],
   "source": [
    "f()"
   ]
  },
  {
   "cell_type": "code",
   "execution_count": 223,
   "id": "81df5b23",
   "metadata": {},
   "outputs": [
    {
     "data": {
      "text/plain": [
       "\"Njal\""
      ]
     },
     "execution_count": 223,
     "metadata": {},
     "output_type": "execute_result"
    }
   ],
   "source": [
    "name"
   ]
  },
  {
   "cell_type": "markdown",
   "id": "d2f9c829",
   "metadata": {},
   "source": [
    "The Structure of Declarations"
   ]
  },
  {
   "cell_type": "code",
   "execution_count": 2,
   "id": "cd391c97",
   "metadata": {},
   "outputs": [],
   "source": [
    "//Consider and array declaration in C-style strings\n",
    "\n",
    "const char *kings[] {\"antigonus\",\"Seleucus\",\"Ptolemy\"}"
   ]
  },
  {
   "cell_type": "code",
   "execution_count": 3,
   "id": "8e6b7527",
   "metadata": {},
   "outputs": [
    {
     "data": {
      "text/plain": [
       "{ \"antigonus\", \"Seleucus\", \"Ptolemy\" }"
      ]
     },
     "execution_count": 3,
     "metadata": {},
     "output_type": "execute_result"
    }
   ],
   "source": [
    "kings"
   ]
  },
  {
   "cell_type": "code",
   "execution_count": 4,
   "id": "2a6b0a2b",
   "metadata": {},
   "outputs": [],
   "source": [
    "//consequently, char*kings[] is an array of pointers  to cha, whereas char(*kings([]"
   ]
  },
  {
   "cell_type": "markdown",
   "id": "e69c741b",
   "metadata": {},
   "source": [
    "Declaring Multiple Names"
   ]
  },
  {
   "cell_type": "code",
   "execution_count": 5,
   "id": "61023d0a",
   "metadata": {},
   "outputs": [],
   "source": [
    "//can be done using the following syntax\n",
    "int x,y;"
   ]
  },
  {
   "cell_type": "code",
   "execution_count": 6,
   "id": "e9280297",
   "metadata": {},
   "outputs": [
    {
     "data": {
      "text/plain": [
       "0"
      ]
     },
     "execution_count": 6,
     "metadata": {},
     "output_type": "execute_result"
    }
   ],
   "source": [
    "x"
   ]
  },
  {
   "cell_type": "code",
   "execution_count": 7,
   "id": "2a849241",
   "metadata": {},
   "outputs": [],
   "source": [
    "int *p,y //means p points to an interger but y is an integer"
   ]
  },
  {
   "cell_type": "code",
   "execution_count": 8,
   "id": "d1af5f2c",
   "metadata": {},
   "outputs": [
    {
     "data": {
      "text/plain": [
       "@0x7ffcdd505c18"
      ]
     },
     "execution_count": 8,
     "metadata": {},
     "output_type": "execute_result"
    }
   ],
   "source": [
    "p"
   ]
  },
  {
   "cell_type": "markdown",
   "id": "52592d7d",
   "metadata": {},
   "source": [
    "Names"
   ]
  },
  {
   "cell_type": "code",
   "execution_count": 9,
   "id": "3575effe",
   "metadata": {},
   "outputs": [],
   "source": [
    "//Nomenclature involves naming the first character as a lotter, _is considered a letter.\n",
    "//Extension syield nonportable programs. A C+= keyword such as new or int cannot be use d as a name of a user defined entity."
   ]
  },
  {
   "cell_type": "code",
   "execution_count": 10,
   "id": "49261dcf",
   "metadata": {},
   "outputs": [],
   "source": [
    "//Also nomenclature is case sensitive"
   ]
  },
  {
   "cell_type": "code",
   "execution_count": 11,
   "id": "7f07f0e5",
   "metadata": {},
   "outputs": [],
   "source": [
    "//Names starting with $ are considered extensions"
   ]
  },
  {
   "cell_type": "markdown",
   "id": "415fed16",
   "metadata": {},
   "source": [
    "Scope"
   ]
  },
  {
   "cell_type": "code",
   "execution_count": 12,
   "id": "01976513",
   "metadata": {},
   "outputs": [],
   "source": [
    "//A declaration introduces a name into a scope, that is a name can be used only in a specific part of the program text.\n",
    "\n",
    "//Local Scope: A name declared in a function or lambda is called a local name.\n",
    "//Block: A block is a section of code delimited by a {} pair.\n",
    "\n",
    "//Function and lambda parameter names are considered local names in the outermoset\n",
    "//block of their function or lambda"
   ]
  },
  {
   "cell_type": "code",
   "execution_count": 13,
   "id": "698f3e92",
   "metadata": {},
   "outputs": [],
   "source": [
    "//Class scope: when a name is defined in a class outside any function class or other namespace.\n",
    "//Its scope extends from the opening { of the class declaration to the end of the class declaration.\n"
   ]
  },
  {
   "cell_type": "code",
   "execution_count": 14,
   "id": "9d9f25c4",
   "metadata": {},
   "outputs": [],
   "source": [
    "//Namespace scope:A name is called a namespace member name if it is defined in a name\n",
    "//space outside any function, lambda class enum class or other namespace. Its scope extends from the point of declaration to the end of its namespace.\n",
    "//A namespace name may also be accessible from othe translation units"
   ]
  },
  {
   "cell_type": "code",
   "execution_count": 15,
   "id": "4a0158c2",
   "metadata": {},
   "outputs": [],
   "source": [
    "//Global Scope: a name which is defined outside any function, class enum class\n",
    "//or namespace.\n",
    "//The scope of a global name extends from the point of declaration to the end of the file in which its declaration occurs.\n",
    "//A global name may also be accessible from other translation units.\n",
    "//Technically the global namespace is considered a namespace, so a global name is an example of a name spcae member name."
   ]
  },
  {
   "cell_type": "code",
   "execution_count": 16,
   "id": "996de8ed",
   "metadata": {},
   "outputs": [],
   "source": [
    "//Statement scope: A name is in a statement scope if it is defined within the () part of a for-,while-if- or seitch statement. Its scope extends from its point\n",
    "//of declaration until the end of the function."
   ]
  },
  {
   "cell_type": "code",
   "execution_count": 18,
   "id": "f79491dd",
   "metadata": {},
   "outputs": [],
   "source": [
    "//Example\n",
    "\n",
    "int x;\n",
    "\n"
   ]
  },
  {
   "cell_type": "code",
   "execution_count": 24,
   "id": "ca961d5f",
   "metadata": {},
   "outputs": [],
   "source": [
    "void f()\n",
    "{\n",
    "    int x; //local x hides the global x\n",
    "    x = 1;// assign to local x\n",
    "    {\n",
    "        int x; //hides the first local x\n",
    "        x = 2;// assign to second local x\n",
    "    }\n",
    "    x=3;      // assign to first local x\n",
    "}\n",
    "\n",
    "int *p = &x;    //take address of global x"
   ]
  },
  {
   "cell_type": "code",
   "execution_count": 23,
   "id": "6622ef97",
   "metadata": {},
   "outputs": [
    {
     "data": {
      "text/plain": [
       "0"
      ]
     },
     "execution_count": 23,
     "metadata": {},
     "output_type": "execute_result"
    }
   ],
   "source": [
    "*p"
   ]
  },
  {
   "cell_type": "code",
   "execution_count": 26,
   "id": "9fb94171",
   "metadata": {},
   "outputs": [],
   "source": [
    "//A hidden global name can be referred to using hte socpe resolutino operator, ::\n",
    "\n",
    "int x;\n"
   ]
  },
  {
   "cell_type": "code",
   "execution_count": 27,
   "id": "1dc02bb8",
   "metadata": {},
   "outputs": [],
   "source": [
    "void f2()\n",
    "{\n",
    "    int x = 1; // hide global x\n",
    "    ::x = 2; // assign to global x\n",
    "    x =2 ; //assign to local x\n",
    "}"
   ]
  },
  {
   "cell_type": "code",
   "execution_count": 29,
   "id": "a51de509",
   "metadata": {},
   "outputs": [
    {
     "data": {
      "text/plain": [
       "2"
      ]
     },
     "execution_count": 29,
     "metadata": {},
     "output_type": "execute_result"
    }
   ],
   "source": [
    "x  // value assigned using ::x ie scope resolution operator"
   ]
  },
  {
   "cell_type": "code",
   "execution_count": 39,
   "id": "aa2f8c56",
   "metadata": {},
   "outputs": [],
   "source": [
    "int x = 97;"
   ]
  },
  {
   "cell_type": "code",
   "execution_count": 40,
   "id": "b985cba0",
   "metadata": {},
   "outputs": [],
   "source": [
    "void f3()\n",
    "{\n",
    "    int x = x;\n",
    "    cout<<x;\n",
    "}"
   ]
  },
  {
   "cell_type": "code",
   "execution_count": 42,
   "id": "8350ddcc",
   "metadata": {},
   "outputs": [],
   "source": [
    "int x = 11;"
   ]
  },
  {
   "cell_type": "code",
   "execution_count": 43,
   "id": "0b24a2bf",
   "metadata": {},
   "outputs": [],
   "source": [
    "void f4()\n",
    "{\n",
    "    int y = x;   ///use global x:y = 11\n",
    "    int x = 22;  //\n",
    "    y = x;       //use local x:y = 22\n",
    "}"
   ]
  },
  {
   "cell_type": "code",
   "execution_count": 44,
   "id": "bc1dce5c",
   "metadata": {},
   "outputs": [],
   "source": [
    "f4()"
   ]
  },
  {
   "cell_type": "code",
   "execution_count": 46,
   "id": "c3c9d590",
   "metadata": {},
   "outputs": [],
   "source": [
    "/*void f5(int x)\n",
    "{\n",
    "    int x;\n",
    "}*/ //redefinition of x error"
   ]
  },
  {
   "cell_type": "markdown",
   "id": "88d9ed7d",
   "metadata": {},
   "source": [
    "Initialization"
   ]
  },
  {
   "cell_type": "code",
   "execution_count": 54,
   "id": "857bbe62",
   "metadata": {},
   "outputs": [],
   "source": [
    "int v;\n",
    "auto a1 {v}  //This is the most safe method and is recommended byt the author"
   ]
  },
  {
   "cell_type": "code",
   "execution_count": 59,
   "id": "7b8cd224",
   "metadata": {},
   "outputs": [],
   "source": [
    "//Caveat\n",
    "//Its however recommended to use = when using auto\n",
    "//otherwise it will assign to a list\n",
    "\n",
    "auto z1 {19}; //list assignment\n",
    "//but\n",
    "\n",
    "int z2 {79}; //is int assignment\n",
    "//\n",
    "//to assign singular values when using auto\n",
    "//use\n",
    "\n",
    "auto z3 = 99;\n"
   ]
  },
  {
   "cell_type": "code",
   "execution_count": 60,
   "id": "57139c67",
   "metadata": {},
   "outputs": [
    {
     "data": {
      "text/plain": [
       "99"
      ]
     },
     "execution_count": 60,
     "metadata": {},
     "output_type": "execute_result"
    }
   ],
   "source": [
    "z1,z2,z3"
   ]
  },
  {
   "cell_type": "code",
   "execution_count": 2,
   "id": "029cbc24",
   "metadata": {},
   "outputs": [],
   "source": [
    "vector<int> v1{99}; //v1 is a vector of 1 element with the value 99\n",
    "vector<int> v2(99); //v2 is a vecotr of 99 elements witht eh default value of 0"
   ]
  },
  {
   "cell_type": "code",
   "execution_count": 3,
   "id": "c1637860",
   "metadata": {},
   "outputs": [
    {
     "data": {
      "text/plain": [
       "{ 0, 0, 0, 0, 0, 0, 0, 0, 0, 0, 0, 0, 0, 0, 0, 0, 0, 0, 0, 0, 0, 0, 0, 0, 0, 0, 0, 0, 0, 0, 0, 0, 0, 0, 0, 0, 0, 0, 0, 0, 0, 0, 0, 0, 0, 0, 0, 0, 0, 0, 0, 0, 0, 0, 0, 0, 0, 0, 0, 0, 0, 0, 0, 0, 0, 0, 0, 0, 0, 0, 0, 0, 0, 0, 0, 0, 0, 0, 0, 0, 0, 0, 0, 0, 0, 0, 0, 0, 0, 0, 0, 0, 0, 0, 0, 0, 0, 0, 0 }"
      ]
     },
     "execution_count": 3,
     "metadata": {},
     "output_type": "execute_result"
    }
   ],
   "source": [
    "v2"
   ]
  },
  {
   "cell_type": "code",
   "execution_count": 4,
   "id": "9d0aea91",
   "metadata": {},
   "outputs": [],
   "source": [
    "vector<string> v1{\"hello\"}; //v1 is a vector of single string element hello\n",
    "//vector<string> v2(\"Hello\"); //error: no vector constructor takes a string iteral\n"
   ]
  },
  {
   "cell_type": "code",
   "execution_count": 5,
   "id": "58ddb0b0",
   "metadata": {},
   "outputs": [
    {
     "data": {
      "text/plain": [
       "{ \"hello\" }"
      ]
     },
     "execution_count": 5,
     "metadata": {},
     "output_type": "execute_result"
    }
   ],
   "source": [
    "v1"
   ]
  },
  {
   "cell_type": "code",
   "execution_count": 18,
   "id": "651e2040",
   "metadata": {},
   "outputs": [],
   "source": [
    "//Prefer {} initialization over alternatives unless you have a string reason not to.\n",
    "\n",
    "//The empty initializer list, {}, is used to indicate that a default value is desired. For example\n",
    "\n",
    "int x4{};  //x4 becomes 0\n",
    "double d4{}; //d4 becomes 0.0\n",
    "char* p {}; //p becomes nullptr\n",
    "//vector <int> v4{}; //v4 becomes the empty vector\n",
    "string s4{}; //s4 becomes \"\""
   ]
  },
  {
   "attachments": {},
   "cell_type": "markdown",
   "id": "17c20eff",
   "metadata": {},
   "source": [
    "Missing Initializers"
   ]
  },
  {
   "cell_type": "code",
   "execution_count": 8,
   "id": "976f7c76",
   "metadata": {},
   "outputs": [],
   "source": [
    "//when declarations are not initialized\n",
    "constexpr int max = 1024*1024;\n",
    "char buff[max];   //declared but not initialized\n",
    "//some_stream.get(buff,max)  read at most max characters into buf"
   ]
  },
  {
   "cell_type": "code",
   "execution_count": 16,
   "id": "1c365211",
   "metadata": {},
   "outputs": [
    {
     "data": {
      "text/plain": [
       "1048576"
      ]
     },
     "execution_count": 16,
     "metadata": {},
     "output_type": "execute_result"
    }
   ],
   "source": [
    "//but the buf could have been initialized easily\n",
    "constexpr int max =1024*1024;\n",
    "char buff[max] {};\n",
    "max"
   ]
  },
  {
   "cell_type": "code",
   "execution_count": 21,
   "id": "b2ec9131",
   "metadata": {},
   "outputs": [],
   "source": [
    "void f()\n",
    "{\n",
    "    int x; //x does not have a well defined value\n",
    "    char buff[1024]; //but buff doesnt have a well defined value\n",
    "\n",
    "    int *p{new int}; //p doesnt have a well defined value\n",
    "    char *q{new char[1024]}; //q[i] does not have a well defined value\n",
    "\n",
    "    string s;   //s==\"\" because of strings default constructor\n",
    "    vector<char> v; //v=={} because of vectors default constructor\n",
    "\n",
    "    string *ps{new string}; //*ps is \"\" because of strings default constructor\n",
    "}"
   ]
  },
  {
   "cell_type": "code",
   "execution_count": 23,
   "id": "d3a271ed",
   "metadata": {},
   "outputs": [],
   "source": [
    "// However if initialized this would look as follows\n",
    "\n",
    "void ff()\n",
    "{\n",
    "    int x {}; //x becomes 0\n",
    "    char buf[1024] {}; //buf[i] becomes\n",
    "\n",
    "    int *p {new int{10}}; //*p becomes 10\n",
    "    char *q {new char[1024]{}} ;//q[i] becomes 0 for all\n",
    "}"
   ]
  },
  {
   "attachments": {},
   "cell_type": "markdown",
   "id": "e3554e41",
   "metadata": {},
   "source": [
    "Initializer Lists"
   ]
  },
  {
   "cell_type": "code",
   "execution_count": 31,
   "id": "e91d64a1",
   "metadata": {},
   "outputs": [],
   "source": [
    "//So far we have covered cases of no initializer and one initializer value. More complicated objects can require more than one value as an initializer. This is primarily handled by initializer lists delimite by {}\n",
    "\n",
    "//Example"
   ]
  },
  {
   "cell_type": "code",
   "execution_count": 54,
   "id": "80395e7e",
   "metadata": {},
   "outputs": [
    {
     "data": {
      "text/plain": [
       "{ 0.0000000, 12.000000, 3.0000000, 4.0000000 }"
      ]
     },
     "execution_count": 54,
     "metadata": {},
     "output_type": "execute_result"
    }
   ],
   "source": [
    "int a[] = {1,2}; //array initialization\n",
    "//struct S {int x,char s};\n",
    "//complex<double> z = {0,pi};\n",
    "\n",
    "vector<double> v = {0,12,3,4};\n",
    "v"
   ]
  },
  {
   "cell_type": "code",
   "execution_count": 59,
   "id": "b290f4a2",
   "metadata": {},
   "outputs": [
    {
     "data": {
      "text/plain": [
       "{ 3.3000000, 3.3000000, 3.3000000, 3.3000000, 3.3000000, 3.3000000, 3.3000000, 3.3000000, 3.3000000, 3.3000000 }"
      ]
     },
     "execution_count": 59,
     "metadata": {},
     "output_type": "execute_result"
    }
   ],
   "source": [
    "complex<double> z(0,2);  //use constructor\n",
    "vector<double> v(10,3.3); //gets 10 elements initialized to 3.3\n",
    "v"
   ]
  },
  {
   "cell_type": "code",
   "execution_count": 63,
   "id": "fa8c018e",
   "metadata": {},
   "outputs": [],
   "source": [
    "complex<double> z1(1,2); //function style initialization\n",
    "//complex<double> f(); //function declaration and not default initialization\n",
    "\n",
    "complex<double> z2{1,2};  //initialization by constructor to {1,2}\n",
    "complex<double> f{}; //init by constructor to the default value{0,0}"
   ]
  },
  {
   "attachments": {},
   "cell_type": "markdown",
   "id": "d669d5dd",
   "metadata": {},
   "source": [
    "Deducing a Type: auto and decltype()"
   ]
  },
  {
   "cell_type": "code",
   "execution_count": 65,
   "id": "dbfb544a",
   "metadata": {},
   "outputs": [],
   "source": [
    "//when a declaration of a variable has an initializer we dont need to explicitly specify a type. Instead we can let the variable have the type of its initializer\n",
    "\n",
    "int a1 = 123;\n",
    "char a2 = 123;\n",
    "auto a3 = 123;  //the type of a3 is int"
   ]
  },
  {
   "cell_type": "code",
   "execution_count": 66,
   "id": "bdf7a7d5",
   "metadata": {},
   "outputs": [
    {
     "name": "stderr",
     "output_type": "stream",
     "text": [
      "input_line_90:4:20: error: constexpr variable 'max' must be initialized by a constant expression\n",
      "    constexpr auto max = d+7;\n",
      "                   ^     ~~~\n",
      "input_line_90:4:26: note: read of non-constexpr variable 'd' is not allowed in a constant expression\n",
      "    constexpr auto max = d+7;\n",
      "                         ^\n",
      "input_line_90:2:15: note: declared here\n",
      "void f(double d)\n",
      "              ^\n",
      "input_line_90:5:11: error: size of array has non-integer type 'double'\n",
      "    int a[max];\n",
      "          ^~~\n"
     ]
    },
    {
     "ename": "Interpreter Error",
     "evalue": "",
     "output_type": "error",
     "traceback": [
      "Interpreter Error: "
     ]
    }
   ],
   "source": [
    "//If the scope is large mentioning a type explicityly can help localize errors that is compared to using a specific type using auto can delay the detection of type erroes. For example:\n",
    "\n",
    "void f(double d)\n",
    "{\n",
    "    constexpr auto max = d+7;\n",
    "    int a[max];\n",
    "}"
   ]
  },
  {
   "cell_type": "code",
   "execution_count": 68,
   "id": "74b375ca",
   "metadata": {},
   "outputs": [],
   "source": [
    "void f(vector<int>& v)\n",
    "{\n",
    "    for (const auto& x:v)\n",
    "    {\n",
    "\n",
    "    }\n",
    "}"
   ]
  },
  {
   "cell_type": "code",
   "execution_count": 71,
   "id": "9d5e98e6",
   "metadata": {},
   "outputs": [
    {
     "name": "stderr",
     "output_type": "stream",
     "text": [
      "input_line_96:5:1: error: unknown type name 'T'\n",
      "T v3 = f()\n",
      "^\n",
      "input_line_96:5:8: error: no matching function for call to 'f'\n",
      "T v3 = f()\n",
      "       ^\n",
      "input_line_92:1:6: note: candidate function not viable: requires single argument 'v', but no arguments were provided\n",
      "void f(vector<int>& v)\n",
      "     ^\n",
      "input_line_96:3:11: warning: implicit conversion from 'int' to 'char' changes value from 12345 to 57 [-Wconstant-conversion]\n",
      "char v1 = 12345;\n",
      "     ~~   ^~~~~\n"
     ]
    },
    {
     "ename": "Interpreter Error",
     "evalue": "",
     "output_type": "error",
     "traceback": [
      "Interpreter Error: "
     ]
    }
   ],
   "source": [
    "//When we explicityly mention the type of an object we are initializein we have two types to consider tye type of teh object and the type fo the initializer\n"
   ]
  },
  {
   "cell_type": "code",
   "execution_count": 74,
   "id": "87ea530a",
   "metadata": {},
   "outputs": [
    {
     "data": {
      "text/plain": [
       "99"
      ]
     },
     "execution_count": 74,
     "metadata": {},
     "output_type": "execute_result"
    }
   ],
   "source": [
    "int v2{'c'};  //char to int conversion\n",
    "v2"
   ]
  },
  {
   "cell_type": "code",
   "execution_count": 76,
   "id": "e654ef31",
   "metadata": {},
   "outputs": [],
   "source": [
    "//againt = use is recommended for objects specified auto whenever we dont mean list"
   ]
  },
  {
   "attachments": {},
   "cell_type": "markdown",
   "id": "8aed303c",
   "metadata": {},
   "source": [
    "The decltype() specifier"
   ]
  },
  {
   "attachments": {},
   "cell_type": "markdown",
   "id": "7aaa61bf",
   "metadata": {},
   "source": [
    "Objects and Values\n"
   ]
  },
  {
   "cell_type": "code",
   "execution_count": 80,
   "id": "be4dd907",
   "metadata": {},
   "outputs": [],
   "source": [
    "//lvalue is an expression that refers to an object, it was originally coined to mean something that can be on the left hand side of an assignment."
   ]
  },
  {
   "cell_type": "code",
   "execution_count": 81,
   "id": "3e2056ee",
   "metadata": {},
   "outputs": [
    {
     "name": "stderr",
     "output_type": "stream",
     "text": [
      "input_line_108:5:21: error: non-const lvalue reference to type 'vector<...>' cannot bind to a temporary of type 'vector<...>'\n",
      "    vector<string>& v2 = std::move(vs); //moves vs to v2\n",
      "                    ^    ~~~~~~~~~~~~~\n"
     ]
    },
    {
     "ename": "Interpreter Error",
     "evalue": "",
     "output_type": "error",
     "traceback": [
      "Interpreter Error: "
     ]
    }
   ],
   "source": [
    "//Further the classical lvalue is something that has identity and cannot be moved\n",
    "\n",
    "//and a classical rvalue is anything that we are allowed to move from.\n",
    "\n",
    "void f(vector<string>& vs)\n",
    "{\n",
    "    vector<string>& v2 = std::move(vs); //moves vs to v2\n",
    "}"
   ]
  },
  {
   "attachments": {},
   "cell_type": "markdown",
   "id": "9fb679ca",
   "metadata": {},
   "source": [
    "Lifetimes of Objects"
   ]
  },
  {
   "attachments": {},
   "cell_type": "markdown",
   "id": "83b43faf",
   "metadata": {},
   "source": [
    "Type Aliases"
   ]
  },
  {
   "cell_type": "code",
   "execution_count": 83,
   "id": "e40cba4c",
   "metadata": {},
   "outputs": [],
   "source": [
    "using Pchar = char*; //pointer to character\n",
    "using PF = int(*)(double);  //pointer to function taking a double and returning an int"
   ]
  },
  {
   "cell_type": "code",
   "execution_count": 85,
   "id": "2d965579",
   "metadata": {},
   "outputs": [],
   "source": [
    "//also can be done using typedef\n",
    "typedef int int32_t; //eq to using int32_t = int\n",
    "typedef short int16_t;\n",
    "typedef void(*PtoF)(int);"
   ]
  },
  {
   "attachments": {},
   "cell_type": "markdown",
   "id": "c3a7147f",
   "metadata": {},
   "source": [
    "Excercise"
   ]
  },
  {
   "cell_type": "code",
   "execution_count": 93,
   "id": "8788f42b",
   "metadata": {},
   "outputs": [
    {
     "name": "stderr",
     "output_type": "stream",
     "text": [
      "input_line_121:4:9: error: use of undeclared identifier 'typeof'; did you mean 'typeid'?\n",
      "    if (typeof(x) == 'char')\n",
      "        ^\n",
      "In file included from input_line_5:1:\n",
      "In file included from /home/susearc/miniconda3/envs/xeus-cling/include/xeus/xinterpreter.hpp:17:\n",
      "In file included from /home/susearc/miniconda3/envs/xeus-cling/include/xeus/xcomm.hpp:19:\n",
      "In file included from /home/susearc/miniconda3/envs/xeus-cling/include/nlohmann/json.hpp:55:\n",
      "In file included from /home/susearc/miniconda3/envs/xeus-cling/include/nlohmann/detail/input/binary_reader.hpp:16:\n",
      "In file included from /home/susearc/miniconda3/envs/xeus-cling/include/nlohmann/detail/input/input_adapters.hpp:7:\n",
      "In file included from /home/susearc/miniconda3/envs/xeus-cling/bin/../lib/gcc/../../x86_64-conda-linux-gnu/include/c++/12.2.0/istream:39:\n",
      "/home/susearc/miniconda3/envs/xeus-cling/bin/../lib/gcc/../../x86_64-conda-linux-gnu/include/c++/12.2.0/ostream:618:8: error: no member named 'setstate' in 'std::basic_ostream<char>'\n",
      "        __out.setstate(ios_base::badbit);\n",
      "        ~~~~~ ^\n",
      "input_line_121:6:13: note: in instantiation of function template specialization 'std::operator<<<std::char_traits<char> >' requested here\n",
      "        cout<<\"Signed\";\n",
      "            ^\n"
     ]
    },
    {
     "ename": "Interpreter Error",
     "evalue": "",
     "output_type": "error",
     "traceback": [
      "Interpreter Error: "
     ]
    }
   ],
   "source": [
    "//1\n",
    "void siner(int x)\n",
    "{\n",
    "    if (typeof(x) == 'char')\n",
    "    {\n",
    "        cout<<\"Signed\";\n",
    "    }\n",
    "\n",
    "}"
   ]
  },
  {
   "cell_type": "code",
   "execution_count": null,
   "id": "ddeafeb4",
   "metadata": {},
   "outputs": [],
   "source": []
  }
 ],
 "metadata": {
  "kernelspec": {
   "display_name": "C++14",
   "language": "C++14",
   "name": "xcpp14"
  },
  "language_info": {
   "codemirror_mode": "text/x-c++src",
   "file_extension": ".cpp",
   "mimetype": "text/x-c++src",
   "name": "c++",
   "version": "14"
  }
 },
 "nbformat": 4,
 "nbformat_minor": 5
}
